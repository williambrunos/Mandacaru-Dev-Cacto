{
  "nbformat": 4,
  "nbformat_minor": 0,
  "metadata": {
    "colab": {
      "name": "Atividade-2-Cacto.ipynb",
      "provenance": []
    },
    "kernelspec": {
      "name": "python3",
      "display_name": "Python 3"
    },
    "language_info": {
      "name": "python"
    }
  },
  "cells": [
    {
      "cell_type": "markdown",
      "source": [
        "# AITVIDADE 2 - MANDACARU.DEV - MÓDULO CACTO - DATA SCIENCE\n",
        "\n",
        "**Estudante: William Bruno Sales de Paula Lima**\n",
        "\n",
        "[Formulário de envio](https://forms.gle/K1eY6eSMitzoaHjG8)\n",
        "\n",
        "Objetivo: Criar visualizações gráficas de informações disponíveis via **API do IBGE**\n",
        " \n",
        "Escolha dois estados de acordo com a incial de seu primeiro nome.\n",
        " \n",
        "Primeira letra do nome: \n",
        "\n",
        "A-F: Mato Grosso e Goiás\n",
        "\n",
        "G-J: Minas Gerais e Espírito Santo\n",
        "\n",
        "K-N: Bahia e Pernambuco\n",
        "\n",
        "O-S: Pará e Tocantins\n",
        "\n",
        "T-Z: Paraná e Santa Catarina\n",
        " \n",
        "Utilize as APIs do IBGE, como visto na aula da semana 5, e apresente as visualizações solicitadas a seguir:\n",
        " \n",
        "1) Exiba dois box plots lado a lado, um para cada estado, dos índices solicitados:\n",
        "\n",
        "a - Rendimento nominal médio mensal per capita (3974, censo Demográfico 2010)\n",
        "\n",
        "b - Número de cabeças de bovinos Total (1224 - Censo Agropecuário 2006)\n",
        "obs: as amostras do box plot devem corresponder às cidades de cada estado.\n",
        " \n",
        "2) Exiba um gráfico de linha, onde cada linha corresponda a um estado, com a informação de:\n",
        "\n",
        "a - Índices da Construção Civil: Custo médio (2296) por número índice (49) a partir de 1º de Janeiro de 2000\n",
        "\n",
        "b - Produto Interno Bruto: Índice Gini do PIB, referência 2010 (5939, 529) para cada estado, a partir de 2002\n",
        " \n",
        "3) Crie uma visualização em mapa coroplético do número de fundações privadas e associações sem fins lucrativos:\n",
        "\n",
        "a - Número total de unidades (6917 - 2122) por município, no ano de 2016\n",
        "\n",
        "b - Exiba, também, o número de unidades per capita, utilizando os dados de estimativa populacional em 2021 \n",
        " \n",
        "OBS: Utilize o query builder da API do IBGE: https://servicodados.ibge.gov.br/api/docs/agregados?versao=3#api-bq e se baseie nos notebooks das semanas 4 e 5.\n",
        " \n",
        "Entrega até dia 14/05"
      ],
      "metadata": {
        "id": "Ri73C7I80Mj6"
      }
    },
    {
      "cell_type": "code",
      "execution_count": null,
      "metadata": {
        "id": "rCulOYrH0KTJ"
      },
      "outputs": [],
      "source": [
        ""
      ]
    }
  ]
}