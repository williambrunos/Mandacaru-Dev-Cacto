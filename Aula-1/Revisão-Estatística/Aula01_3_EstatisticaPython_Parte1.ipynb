{
  "cells": [
    {
      "cell_type": "markdown",
      "metadata": {
        "id": "KPDmpI9yXMc2"
      },
      "source": [
        "# Visualização Numérica de dados em Python usando Numpy e Visualização gráfica com Matplotlib\n",
        "\n",
        "## Parte 1 - visualização numérica\n",
        "\n",
        "A biblioteca [Numpy](https://numpy.org/doc/1.18/) dispõe de poderosas funções para manipulação numérica e estatística. Ao longo do curso, iremos utilizar exaustivamente suas funcionalidades. As demais bibliotecas podem ser instaladas, após a ativação do ambiente, utilizando o comando `pip install`, no terminal linux. Ex.: `pip install numpy`\n",
        "\n",
        "No [Google Colaboratory](https://colab.research.google.com/notebooks/) nao há necessidade de instalar a biblioteca Numpy."
      ]
    },
    {
      "cell_type": "code",
      "execution_count": 1,
      "metadata": {
        "id": "LcwCLTrFXMc-"
      },
      "outputs": [],
      "source": [
        "import numpy as np"
      ]
    },
    {
      "cell_type": "markdown",
      "metadata": {
        "id": "ULWBWFSpXMc_"
      },
      "source": [
        "Iremos calcular a média de uma amostra segundo a formula:\n",
        "\n",
        "$$\n",
        "\\overline{x} = \\frac{1}{n} \\sum_1^n {x_i}\n",
        "$$"
      ]
    },
    {
      "cell_type": "code",
      "execution_count": 2,
      "metadata": {
        "id": "__Gfk2rrXMdA",
        "outputId": "daeceb27-c9c1-4bb2-9aac-e0cb1913fa24",
        "colab": {
          "base_uri": "https://localhost:8080/"
        }
      },
      "outputs": [
        {
          "output_type": "stream",
          "name": "stdout",
          "text": [
            "Média: 5.0\n"
          ]
        }
      ],
      "source": [
        "x = [1, 2, 3, 4, 5, 6, 7, 8, 9]\n",
        "media = sum(x)/ len(x)\n",
        "print(\"Média:\", media)"
      ]
    },
    {
      "cell_type": "markdown",
      "metadata": {
        "id": "rO2FtsPYXMdB"
      },
      "source": [
        "A biblioteca numpy possui método de cálculo de média amostral. Para tanto chamamos o método na forma `np.mean(x)`:"
      ]
    },
    {
      "cell_type": "code",
      "execution_count": 3,
      "metadata": {
        "id": "RueY8t05XMdC",
        "outputId": "c69c104c-1fa3-44b4-e2b2-dfafa8c8b2a3",
        "colab": {
          "base_uri": "https://localhost:8080/"
        }
      },
      "outputs": [
        {
          "output_type": "stream",
          "name": "stdout",
          "text": [
            "Média Amostral: 5.0\n"
          ]
        }
      ],
      "source": [
        "media = np.mean(x)\n",
        "print(\"Média Amostral:\",media)"
      ]
    },
    {
      "cell_type": "markdown",
      "metadata": {
        "id": "Eil9wMZoXMdC"
      },
      "source": [
        "## Trabalhando com funções em Python\n",
        "\n",
        "Em python podemos transformar certas rotinas recorrentes em funções, veja o exemplo a seguir para cálculo da média:"
      ]
    },
    {
      "cell_type": "code",
      "execution_count": 4,
      "metadata": {
        "id": "dTfIJhJRXMdD",
        "outputId": "98aa86e6-8250-4dd6-c0de-0634cd5fa733",
        "colab": {
          "base_uri": "https://localhost:8080/"
        }
      },
      "outputs": [
        {
          "output_type": "stream",
          "name": "stdout",
          "text": [
            "Média: 5.0\n"
          ]
        }
      ],
      "source": [
        "def myMedia(vetor = [0]):\n",
        "\tmediaCalc = float(sum(vetor))/ float(len(vetor))\n",
        "\treturn mediaCalc\n",
        "\n",
        "# aqui o print já está fora da funçao devido à identação\n",
        "print(\"Média:\", myMedia(x))"
      ]
    },
    {
      "cell_type": "markdown",
      "metadata": {
        "id": "Zq4OtVLiXMdE"
      },
      "source": [
        "### Exercício 1\n",
        "Crie, no espaço de código a seguir, uma função myVariancia que retorne a variância de um vetor de dados $X$ segundo a expressão:\n",
        "\n",
        "$$\n",
        "VAR(X) = \\frac{1}{n} \\sum_1^n {{x_i}^2 - \\texttt{myMedia}(X)^2}\n",
        "$$"
      ]
    },
    {
      "cell_type": "code",
      "execution_count": 5,
      "metadata": {
        "id": "Lig7P2fOXMdF",
        "outputId": "283f395f-07b2-4b9d-8068-404c56a083d5",
        "colab": {
          "base_uri": "https://localhost:8080/"
        }
      },
      "outputs": [
        {
          "output_type": "stream",
          "name": "stdout",
          "text": [
            "Variância: 0\n"
          ]
        }
      ],
      "source": [
        "def myVariancia(vetor = [0]):\n",
        "\tvarCalc = 0\n",
        "\treturn varCalc\n",
        "print(\"Variância:\", myVariancia(x))"
      ]
    },
    {
      "cell_type": "markdown",
      "metadata": {
        "id": "s-0A-UK9XMdG"
      },
      "source": [
        "Compare sua função com o método de cálculo de variância `np.var`"
      ]
    },
    {
      "cell_type": "code",
      "execution_count": 6,
      "metadata": {
        "id": "c62Vlo8dXMdH",
        "outputId": "ee2022ae-c68e-4aed-8634-ba02c7859781",
        "colab": {
          "base_uri": "https://localhost:8080/"
        }
      },
      "outputs": [
        {
          "output_type": "stream",
          "name": "stdout",
          "text": [
            "Variância Numpy: 18.0875\n"
          ]
        }
      ],
      "source": [
        "x = [1, 3, 5, 3, 2, 0, 1, 2, 6, 3, 4, 2, 1, 4, 6, 11, 9, 10, 18, 4]\n",
        "print(\"Variância Numpy:\",np.var(x))"
      ]
    },
    {
      "cell_type": "markdown",
      "metadata": {
        "id": "Sbpe2D5WXMdI"
      },
      "source": [
        "## Quartis e Percentis\n",
        "\n",
        "Para determinação de quartis podemos utilizar o método `np.quantile`. Os parâmetros são o veto $x$ contendo a amostra (não há necessidade de ordenar) e os intervalos para cálculo do quartil desejado. Usamos o vetor `[0.25,0.5,0.75]` para referenciar os quartis $q_1$ (25%), $q_2$ (mediana, 50%) e $q_3$ (75%)."
      ]
    },
    {
      "cell_type": "code",
      "execution_count": 7,
      "metadata": {
        "id": "r6qCKDp0XMdJ",
        "outputId": "2c8df892-3ec9-4178-ec0f-b2c2a9d6c0f3",
        "colab": {
          "base_uri": "https://localhost:8080/"
        }
      },
      "outputs": [
        {
          "output_type": "stream",
          "name": "stdout",
          "text": [
            "Amostra ordenada: [ 0  1  1  1  2  2  2  3  3  3  4  4  4  5  6  6  9 10 11 18]\n",
            "q1 = 2.0 \tq2 = 3.5 \tq3 = 6.0\n"
          ]
        }
      ],
      "source": [
        "x = [1, 3, 5, 3, 2, 0, 1, 2, 6, 3, 4, 2, 1, 4, 6, 11, 9, 10, 18, 4]\n",
        "print(\"Amostra ordenada:\",np.sort(x))\n",
        "qNumpy = np.quantile(x,[0.25,0.5,0.75])\n",
        "print(\"q1 =\",qNumpy[0],\"\\tq2 =\",qNumpy[1],\"\\tq3 =\",qNumpy[2] )"
      ]
    },
    {
      "cell_type": "markdown",
      "metadata": {
        "id": "6O3NOG3PXMdJ"
      },
      "source": [
        "Crie uma função no espaço de código a seguir para cálculo do quartil utilizando a expressão: \n",
        "$$\n",
        "p = k \\times \\left(\\frac{n+1}{4}\\right) \\rightarrow i + f\n",
        "$$\n",
        "$i$: parte inteira e $f$: parte fracionária; $k$ é o número do quartil desejado (1, 2 ou 3)\n",
        "\n",
        "$$\n",
        "q_k = x_i + f\\times(x_{i+1} - x_{i})\n",
        "$$"
      ]
    },
    {
      "cell_type": "code",
      "execution_count": 30,
      "metadata": {
        "id": "CgE31ZOGXMdK"
      },
      "outputs": [],
      "source": [
        "def myQuartil(arrayX=[0]):\n",
        "\tn = len(arrayX)\n",
        "\tk_choices = [1, 2, 3]\n",
        "\tp = [k * ((n + 1) / 4) for k in k_choices]\n",
        "\tprint(p)"
      ]
    },
    {
      "cell_type": "code",
      "source": [
        "myQuartil([1, 2, 3, 4, 5, 6, 7, 8, 9, 10, 11])"
      ],
      "metadata": {
        "id": "SLXLE3ZnCwGV",
        "outputId": "bf9b2523-a458-451b-ec9c-60f82143c61f",
        "colab": {
          "base_uri": "https://localhost:8080/"
        }
      },
      "execution_count": 31,
      "outputs": [
        {
          "output_type": "stream",
          "name": "stdout",
          "text": [
            "[3.0, 6.0, 9.0]\n"
          ]
        }
      ]
    },
    {
      "cell_type": "code",
      "source": [
        "np.quantile([1, 2, 3, 4, 5, 6, 7, 8, 9, 10, 11], [0.25, 0.5, 0.75])"
      ],
      "metadata": {
        "id": "BhR0sGXCDPqS",
        "outputId": "1a02a339-4493-4416-ead2-743c41a4da94",
        "colab": {
          "base_uri": "https://localhost:8080/"
        }
      },
      "execution_count": 33,
      "outputs": [
        {
          "output_type": "execute_result",
          "data": {
            "text/plain": [
              "array([3.5, 6. , 8.5])"
            ]
          },
          "metadata": {},
          "execution_count": 33
        }
      ]
    },
    {
      "cell_type": "markdown",
      "metadata": {
        "id": "mIUHMKpLXMdf"
      },
      "source": [
        "Compare sua função de cálculo de quartil com o método `np.quantile`. Há alguma diferença?"
      ]
    },
    {
      "cell_type": "code",
      "execution_count": 20,
      "metadata": {
        "id": "S8Ab4bOOXMdf",
        "outputId": "4e9393c7-b6a6-48bf-a713-b482a952eb85",
        "colab": {
          "base_uri": "https://localhost:8080/"
        }
      },
      "outputs": [
        {
          "output_type": "stream",
          "name": "stdout",
          "text": [
            "Meu quartil: [5.25, 10.5, 15.75]\n",
            "Quartil Numpy: [2.  3.5 6. ]\n"
          ]
        }
      ],
      "source": [
        "x = [1, 3, 5, 3, 2, 0, 1, 2, 6, 3, 4, 2, 1, 4, 6, 11, 9, 10, 18, 4]\n",
        "qNumpy = np.quantile(x,[0.25,0.5,0.75])\n",
        "print(\"Meu quartil:\",myQuartil(x))\n",
        "print(\"Quartil Numpy:\",np.quantile(x,[0.25,0.5,0.75]))"
      ]
    },
    {
      "cell_type": "markdown",
      "metadata": {
        "id": "3_m_ymQNXMdf"
      },
      "source": [
        "### Resumo dos principais métodos de descrição numérica:\n",
        "\n",
        "- Tamanho da amostra: `len(input)`\n",
        "- Média: `np.mean(input)`\n",
        "- Variância: `np.var(input)`\n",
        "- Mediana/ quartis `np.quantile(input,[0.25, 0.5, 0.75])`\n",
        "- Amplitude: `np.amax(input) - np.amin(input)` (alternativamente: `max(x) - min(x)` )"
      ]
    },
    {
      "cell_type": "markdown",
      "metadata": {
        "id": "qj6Hgw_3XMdg"
      },
      "source": [
        "## Parte 2: visualização gráfica\n",
        "\n",
        "## Histograma\n",
        "\n",
        "O histograma é um dos principais métodos de exibição gráfica de uma amostra. Com ele, podemos ter noção do comportamento de uma amostra, sua dispersão e, caso haja, o eixo de assimetria. Trata-se de um excelente primeiro método pra traçar hipóteses sobre uma amostra.\n",
        "\n",
        "Podemos construir histogramas utilizando a biblioteca [`matplotlib`](https://matplotlib.org/contents.html):"
      ]
    },
    {
      "cell_type": "code",
      "execution_count": 34,
      "metadata": {
        "id": "UfWTsF0zXMdg"
      },
      "outputs": [],
      "source": [
        "import matplotlib.pyplot as plt"
      ]
    },
    {
      "cell_type": "code",
      "source": [
        "plt.rcParams.update({'font.size': 14})"
      ],
      "metadata": {
        "id": "DlNe3WATMC2t"
      },
      "execution_count": 37,
      "outputs": []
    },
    {
      "cell_type": "markdown",
      "metadata": {
        "id": "qJ59A72SXMdh"
      },
      "source": [
        "Observe o exemplo a seguir para construção de histograma:"
      ]
    },
    {
      "cell_type": "code",
      "execution_count": 52,
      "metadata": {
        "id": "JzDjd4v0XMdh",
        "outputId": "d097b944-57f7-4b7f-9ceb-1fbabc5ae192",
        "colab": {
          "base_uri": "https://localhost:8080/",
          "height": 369
        }
      },
      "outputs": [
        {
          "output_type": "display_data",
          "data": {
            "text/plain": [
              "<Figure size 720x360 with 2 Axes>"
            ],
            "image/png": "[encoded data removed]"
          },
          "metadata": {
            "needs_background": "light"
          }
        }
      ],
      "source": [
        "np.random.seed(0)\n",
        "\n",
        "mu = 200\n",
        "sigma = 25\n",
        "x = np.random.normal(mu, sigma, size=100)\n",
        "\n",
        "fig, axs = plt.subplots(ncols=2, figsize=(10, 5))\n",
        "\n",
        "plt.suptitle('Figure 1') # Título da figura como um todo\n",
        "plt.subplots_adjust(wspace=0.75) # Ajustando o espaçamento horizontal\n",
        "\n",
        "axs[0].hist(x, 15, histtype='stepfilled', facecolor='green', alpha=0.8)\n",
        "axs[0].set_title('stepfilled')\n",
        "# Create a histogram by providing the bin edges (unequally spaced).\n",
        "bins = [100, 150, 180, 195, 205, 220, 250, 300]\n",
        "axs[1].hist(x, bins, histtype='bar', rwidth=0.8, facecolor='blue', alpha=0.8)\n",
        "axs[1].set_title('Bins desiguais')\n",
        "\n",
        "fig.tight_layout()\n",
        "plt.show()"
      ]
    },
    {
      "cell_type": "markdown",
      "metadata": {
        "id": "8T2fhZvWXMdh"
      },
      "source": [
        "Veja a sintaxe completa na documentação do [histograma](https://matplotlib.org/api/_as_gen/matplotlib.pyplot.hist.html#matplotlib.pyplot.hist). No código acima foram gerados 100 dados aleatórios utilizando o comando `np.random.normal(mu, sigma, size=100)` (posteriormente entraremos em detalhes sobre a geração de números aleatórios em python). Dessa vez, iremos criar um histograma a partir de um dado inserido manualmente."
      ]
    },
    {
      "cell_type": "code",
      "execution_count": 57,
      "metadata": {
        "id": "PwCO6xxPXMdh",
        "outputId": "7f3581bb-819d-4f68-aa4c-604b51528552",
        "colab": {
          "base_uri": "https://localhost:8080/",
          "height": 294
        }
      },
      "outputs": [
        {
          "output_type": "display_data",
          "data": {
            "text/plain": [
              "<Figure size 576x288 with 1 Axes>"
            ],
            "image/png": "[encoded data removed]"
          },
          "metadata": {
            "needs_background": "light"
          }
        }
      ],
      "source": [
        "x = [43, 45, 49, 47, 52, 45, 51, 46, 44, 48, 51, 50, 52, 44, 48, 50, 49, 50, 46, 46, 49, 49, 51, 50]\n",
        "\n",
        "fig, ax = plt.subplots(ncols=1, figsize=(8, 4))\n",
        "numBins = 10\n",
        "ax.hist(x, numBins, histtype='bar', rwidth=.75, facecolor='blue', alpha=0.8)\n",
        "ax.set_title('Histograma da amostra $x^1_2$')\n",
        "plt.show()"
      ]
    },
    {
      "cell_type": "markdown",
      "metadata": {
        "id": "p9NThlOeXMdi"
      },
      "source": [
        "É possível realizar anotações no gráfico usando os comandos `ax.text` e `ax.annotate`:"
      ]
    },
    {
      "cell_type": "code",
      "execution_count": 13,
      "metadata": {
        "scrolled": true,
        "id": "3iAlqoH6XMdi",
        "outputId": "e207db1d-e493-4735-96b4-62e2651ecbdd",
        "colab": {
          "base_uri": "https://localhost:8080/",
          "height": 283
        }
      },
      "outputs": [
        {
          "output_type": "display_data",
          "data": {
            "text/plain": [
              "<Figure size 576x288 with 1 Axes>"
            ],
            "image/png": "[encoded data removed]"
          },
          "metadata": {
            "needs_background": "light"
          }
        }
      ],
      "source": [
        "fig, ax = plt.subplots(ncols=1, figsize=(8, 4))\n",
        "numBins = 10\n",
        "ax.hist(x, numBins, histtype='bar', rwidth=.75, facecolor='blue', alpha=0.8)\n",
        "ax.set_title('Histograma da amostra $x$')\n",
        "ax.text(50, 2,'Anotação')\n",
        "plt.show()"
      ]
    },
    {
      "cell_type": "markdown",
      "metadata": {
        "id": "zeC5742TXMdi"
      },
      "source": [
        "Para salvar a figura em formato .png use o comando savefig ou, no própro Jupyter, salve a figura gerada."
      ]
    },
    {
      "cell_type": "code",
      "execution_count": 14,
      "metadata": {
        "id": "JiWbcVvwXMdj",
        "outputId": "48f35d36-49ff-46ff-8e8e-127df56dff9c",
        "colab": {
          "base_uri": "https://localhost:8080/",
          "height": 283
        }
      },
      "outputs": [
        {
          "output_type": "display_data",
          "data": {
            "text/plain": [
              "<Figure size 576x288 with 1 Axes>"
            ],
            "image/png": "[encoded data removed]"
          },
          "metadata": {
            "needs_background": "light"
          }
        }
      ],
      "source": [
        "fig, ax = plt.subplots(ncols=1, figsize=(8, 4))\n",
        "numBins = 10\n",
        "ax.hist(x, numBins, histtype='bar', rwidth=.75, facecolor='blue', alpha=0.8)\n",
        "ax.set_title('Histograma da amostra $x$')\n",
        "ax.text(50, 2,'Anotação')\n",
        "\n",
        "plt.savefig('foo.png', transparent=True)"
      ]
    },
    {
      "cell_type": "markdown",
      "metadata": {
        "id": "lqj73KVzXMdj"
      },
      "source": [
        "Podemos inserir linhas para delimitar regiões ou valores de interesse em um histograma. Observe que o método `ax.get_ylim()[0]` recupera o valor mínimo do eixo  $y$ enquanto `ax.get_ylim()[1]` retorna seu valor máximo. Podemos utilizar esse recurso para inserir um texto na posição correta."
      ]
    },
    {
      "cell_type": "code",
      "execution_count": 15,
      "metadata": {
        "id": "eZKIp3dzXMdj",
        "outputId": "49874cf9-7654-4502-aeb0-6d4ccf3ecb5e",
        "colab": {
          "base_uri": "https://localhost:8080/",
          "height": 283
        }
      },
      "outputs": [
        {
          "output_type": "display_data",
          "data": {
            "text/plain": [
              "<Figure size 576x288 with 1 Axes>"
            ],
            "image/png": "[encoded data removed]"
          },
          "metadata": {
            "needs_background": "light"
          }
        }
      ],
      "source": [
        "media = np.mean(x)\n",
        "\n",
        "fig, ax = plt.subplots(ncols=1, figsize=(8, 4))\n",
        "numBins = 10\n",
        "ax.hist(x, numBins, histtype='bar', rwidth=.75, facecolor='blue', alpha=0.8)\n",
        "ax.get_ylim()[1]\n",
        "ax.set_title('Histograma da amostra $x$')\n",
        "plt.plot([media, media], [ax.get_ylim()[0], ax.get_ylim()[1]], 'k-', lw=2)\n",
        "ax.text(media - 0.25, ax.get_ylim()[1] - 0.25,'Média = {}'.format(media),horizontalalignment='right')\n",
        "plt.show()"
      ]
    }
  ],
  "metadata": {
    "kernelspec": {
      "display_name": "Python 3",
      "language": "python",
      "name": "python3"
    },
    "language_info": {
      "codemirror_mode": {
        "name": "ipython",
        "version": 3
      },
      "file_extension": ".py",
      "mimetype": "text/x-python",
      "name": "python",
      "nbconvert_exporter": "python",
      "pygments_lexer": "ipython3",
      "version": "3.6.9"
    },
    "colab": {
      "name": "Aula01-3_EstatisticaPython-Parte1.ipynb",
      "provenance": []
    }
  },
  "nbformat": 4,
  "nbformat_minor": 0
}