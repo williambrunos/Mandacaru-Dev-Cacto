{
  "cells": [
    {
      "cell_type": "markdown",
      "metadata": {
        "id": "80q53Y4q9bgb"
      },
      "source": [
        "# Manipulação de Dados em Python Usando Pandas (Parte 1)<a id='home'></a>\n",
        "\n",
        "Arquivos Necessários = Nenhum\n",
        "\n",
        "Temos um controle sobre python agora: entendemos as estruturas de dados e o suficiente sobre como trabalhar com elas para passar para coisas mais diretamente relevantes para a análise de dados. Isso significa explorar o pacote **pandas** $\\equiv$ que fornece as principais estruturas e funções de dados para o trabalho com dados.\n",
        "\n",
        "Pandas é um pacote. Até agora vimos os pacotes numpy e scipy, mas ainda não discutimos os pacotes em detalhes. Vamos retocar os pacotes antes de entrarmos nos pandas."
      ]
    },
    {
      "cell_type": "markdown",
      "metadata": {
        "id": "A2Hwabr59bgh"
      },
      "source": [
        "## 1. Pacotes<a id=\"packages\"></a>  [(retornar ao início)](#home)\n",
        "\n",
        "Podemos pensar em 'python' como um conjunto principal de bibliotecas (as bibliotecas padrão do python) que contêm as estruturas de dados básicas do python (`int`, `str`, `list`, `dict`, etc.) e funções (` print()`, `len()`, `sum()`, etc). Podemos adicionar estruturas de dados e funções adicionais ao núcleo do python. Os desenvolvedores agrupam funções relacionadas e estruturas de dados em *pacotes* que adicionamos ao núcleo do python para aumentar sua funcionalidade.\n",
        "\n",
        "A interface do Google Colaboratory agrupa o python básico com pacotes comuns e úteis, como\n",
        "* numpy: funções para computação numérica (ln(), exp(), sqrt(),...)\n",
        "* scipy: funções para matemática e engenharia (funções estatísticas, processamento de sinais, álgebra linear...)\n",
        "* matplotlib: uma interface de plotagem (barra, dispersão, gráficos de séries temporais,...)\n",
        "* pandas: funções e estruturas de dados para análise de dados (gerenciamento de dados, fusão, agrupamento...)\n",
        "\n",
        "O Colab já *instalou* os pacotes para nós, mas, em alguns casos, ainda precisamos instalar pacotes externos. Podemos faze-lo usando o comando `!pip install` diretamente no console do Colab.\n",
        "\n",
        "Também precisamos dizer ao python que queremos usar os pacotes. Dessa forma, apenas carregamos na memória os pacotes que precisamos.\n",
        "\n",
        "Para adicionar um pacote, usamos a instrução `import`. Por exemplo, vimos anteriormente como carregar o pacote numpy:\n",
        "``` python\n",
        "import numpy as np\n",
        "```\n",
        "A instrução diz para adicionar o pacote numpy (importá-lo) e dar a ele um nome abreviado de 'np'. Não precisamos usar o nome np --- poderíamos chamá-lo de George --- mas np é curto e informativo, além de ser um padrão quase universal.\n",
        "\n",
        "Por que queremos um nome mais curto que numpy? Quando usamos uma função do pacote numpy, usamos a notação de ponto. Aqui, usamos a [função log](https://docs.scipy.org/doc/numpy/reference/generated/numpy.log.html):\n",
        "``` python\n",
        "y = 10\n",
        "x = np.log(y)\n",
        "```\n",
        "O `np.` diz ao python para procurar a função `log()` no pacote chamado np. Python sabe que np significa numpy e tudo funciona. \\[Veja por que chamá-lo de 'George' pareceria estranho?\\]\n",
        "\n",
        "Só precisamos importar um pacote uma vez. Normalmente agrupamos todas as nossas importações no início do código. Aqui vamos nós:"
      ]
    },
    {
      "cell_type": "code",
      "execution_count": 206,
      "metadata": {
        "id": "pGJNeQ-o9bgj"
      },
      "outputs": [],
      "source": [
        "import pandas as pd     # carrega o pacote pandas chamando-o de pd\n",
        "import numpy as np      # carrega o pacote numpy chamando-o de np"
      ]
    },
    {
      "cell_type": "markdown",
      "metadata": {
        "id": "dxbSHlds9bgk"
      },
      "source": [
        "Ao executar a célula, você pode notar que o texto à esquerda da célula se parecia com `In[*]` por um tempo. O asterisco * significa que o python estava funcionando. Leva alguns segundos para carregar todas essas funções. Agora execute `whos` para ver o que está no namespace:"
      ]
    },
    {
      "cell_type": "code",
      "execution_count": 207,
      "metadata": {
        "id": "UNChZrg49bgl",
        "colab": {
          "base_uri": "https://localhost:8080/"
        },
        "outputId": "0b2213e1-6549-4026-f684-6c67edd03314"
      },
      "outputs": [
        {
          "output_type": "stream",
          "name": "stdout",
          "text": [
            "Variable                  Type         Data/Info\n",
            "------------------------------------------------\n",
            "cols_to_get               list         n=3\n",
            "columns                   int          4\n",
            "columns_lower             list         n=2\n",
            "columns_upper             list         n=2\n",
            "cons_share_mean           float        64.44023193577164\n",
            "data                      DataFrame       year   gdp  cons  cons<...>5  13.0   8.7   66.923077\n",
            "data_dec                  DataFrame          PRODUTO INTERNO BRU<...>            10.2      6.8\n",
            "data_dec2                 DataFrame          PRODUTO INTERNO BRU<...>            10.2      6.8\n",
            "data_dict                 dict         n=3\n",
            "data_filtered             DataFrame       year  gdp  cons  cons_<...>95  7.6   4.9   64.473684\n",
            "desc                      DataFrame                  year       <...>000  8.700000   66.923077\n",
            "df                        DataFrame       year   gdp  cons\\n0  1<...> 6.8\\n3  2005  13.0   8.7\n",
            "df2                       DataFrame    Empty DataFrame\\nColumns: []\\nIndex: []\n",
            "gdp_data                  DataFrame          PRODUTO INTERNO BRU<...>            13.0      8.7\n",
            "got_cols                  DataFrame      state             bird <...> MN             Loon  5.3\n",
            "got_cols_2                DataFrame      state             bird <...> MN             Loon  5.3\n",
            "np                        module       <module 'numpy' from '/us<...>kages/numpy/__init__.py'>\n",
            "pd                        module       <module 'pandas' from '/u<...>ages/pandas/__init__.py'>\n",
            "rename_columns            function     <function rename_columns at 0x7f10384e68c0>\n",
            "rows                      int          4\n",
            "state_data                dict         n=4\n",
            "states                    DataFrame      STATE   SIZE           <...>9             Loon    5.3\n",
            "states_new_index          DataFrame            SIZE             <...>9             Loon    5.3\n",
            "states_new_index_subset   DataFrame            SIZE            B<...>.9            Loon    5.3\n",
            "states_no_mn              DataFrame      STATE   SIZE           <...>5   American Robin    5.7\n",
            "states_subset             DataFrame      STATE             BIRD <...>N             Loon    5.3\n",
            "states_undo               DataFrame      STATE   SIZE           <...>9             Loon    5.3\n"
          ]
        }
      ],
      "source": [
        "whos"
      ]
    },
    {
      "cell_type": "markdown",
      "metadata": {
        "id": "JH0UIDpE9bgl"
      },
      "source": [
        "Vemos duas variáveis `module` prontas para ação. Como de costume, podemos usar `?` para verificá-los."
      ]
    },
    {
      "cell_type": "code",
      "execution_count": 208,
      "metadata": {
        "id": "4rXyN60C9bgm"
      },
      "outputs": [],
      "source": [
        "np?"
      ]
    },
    {
      "cell_type": "markdown",
      "metadata": {
        "id": "hplAuxCw9bgm"
      },
      "source": [
        "`random` parece util. Veremos o que há nele:"
      ]
    },
    {
      "cell_type": "code",
      "execution_count": 209,
      "metadata": {
        "id": "4CfihABp9bgn"
      },
      "outputs": [],
      "source": [
        "np.random?"
      ]
    },
    {
      "cell_type": "markdown",
      "metadata": {
        "id": "N1bgIfw29bgo"
      },
      "source": [
        "Vamos gerar alguns números aleatórios:"
      ]
    },
    {
      "cell_type": "code",
      "execution_count": 210,
      "metadata": {
        "id": "27OlGZhE9bgo",
        "outputId": "be4345cc-67fb-4eac-e950-5f8b73688763",
        "colab": {
          "base_uri": "https://localhost:8080/"
        }
      },
      "outputs": [
        {
          "output_type": "execute_result",
          "data": {
            "text/plain": [
              "array([0.95763271, 0.44770222, 0.93599361])"
            ]
          },
          "metadata": {},
          "execution_count": 210
        }
      ],
      "source": [
        "np.random.random_sample(3)"
      ]
    },
    {
      "cell_type": "markdown",
      "metadata": {
        "id": "Ensy600P9bgq"
      },
      "source": [
        "## 2. Pandas<a id=\"pandas\"></a> [(retornar ao início)](#home)\n",
        "\n",
        "Pandas (*pan*el *da*ta) é o nosso pacote de trabalho para análise de dados. Além de todas as coisas que podemos fazer com o núcleo do python, o pandas nos oferece muitas funções e tipos de dados poderosos que podemos usar para trabalhar com dados. Se você estiver familiarizado com o STATA, encontrará muitos paralelos entre python e STATA. Isso faz sentido: ambos são destinados a lidar com dados de painel. Pandas foi inventado por [Wes McKinney](https://wesmckinney.com/) no fundo de hedge quantitativo AQR. Uma das razões pelas quais escolhemos python para este curso é sua prevalência no setor financeiro.\n",
        "\n",
        "Para disponibilizar o pacote pandas, nós o `import`amos em nosso código. Já importamos acima, mas podemos fazer novamente. Não vai doer. "
      ]
    },
    {
      "cell_type": "code",
      "execution_count": 211,
      "metadata": {
        "id": "OCaN405x9bgr"
      },
      "outputs": [],
      "source": [
        "import pandas as pd  # The most common short name for pandas is pd. We will go with that."
      ]
    },
    {
      "cell_type": "markdown",
      "metadata": {
        "id": "mjwW6J2t9bgr"
      },
      "source": [
        "### Estruturas de dados em Pandas: DataFrames\n",
        "\n",
        "O Pandas é construído em torno de duas estruturas de dados principais: a *série* e o *dataframe*. Um dataframe é uma estrutura de dados 'retangular', como uma planilha do Microsoft Excel. É formado por linhas e colunas. \\[Mas é muito, muito, mais poderoso do que uma planilha.\\]\n",
        "\n",
        "Vamos criar um dataframe. Para manter as coisas simples (elas ficarão complicadas mais tarde!), vamos criar um dataframe a partir de um dict."
      ]
    },
    {
      "cell_type": "code",
      "execution_count": 212,
      "metadata": {
        "id": "_p8BA8rv9bgr",
        "colab": {
          "base_uri": "https://localhost:8080/"
        },
        "outputId": "e97156f3-f6ba-4a95-8b9e-ef9c37a67ed6"
      },
      "outputs": [
        {
          "output_type": "stream",
          "name": "stdout",
          "text": [
            "First, print the dict:\n",
            "{'year': [1990, 1995, 2000, 2005], 'gdp': [5.9, 7.6, 10.2, 13.0], 'cons': [3.8, 4.9, 6.8, 8.7]}\n",
            "\n",
            "Next, print the DataFrame and its type\n",
            "\n",
            "   year   gdp  cons\n",
            "0  1990   5.9   3.8\n",
            "1  1995   7.6   4.9\n",
            "2  2000  10.2   6.8\n",
            "3  2005  13.0   8.7\n",
            "\n",
            " <class 'pandas.core.frame.DataFrame'>\n"
          ]
        }
      ],
      "source": [
        "data_dict = {'year': [1990, 1995, 2000, 2005 ], 'gdp':[5.9, 7.6, 10.2, 13.0], 'cons':[3.8, 4.9, 6.8, 8.7]}\n",
        "print('First, print the dict:')\n",
        "print(data_dict)             # imprime o dicionário\n",
        "\n",
        "df = pd.DataFrame(data_dict)  # cria o dataframe, chamando-o de df, a partir do dicionario\n",
        "                              # use a sintaxe 'pd.' para chamar o construtor de dataframe \n",
        "\n",
        "print('\\nNext, print the DataFrame and its type\\n')\n",
        "print(df)                     # Imprime o dataframe. Novamente, print() já sabe o que fazer\n",
        "print('\\n', type(df))"
      ]
    },
    {
      "cell_type": "markdown",
      "metadata": {
        "id": "QY_LXjbT9bgs"
      },
      "source": [
        "Ótimo. Comparado ao dict, o dataframe é muito mais fácil de ler quando impresso. Vamos decompô-lo:\n",
        "```python\n",
        "df = pd.DataFrame(data_dict)\n",
        "```\n",
        "Estamos criando um objeto DataFrame. Podemos ver isso quando imprimimos o tipo de df. O material à esquerda do DataFrame na impressão é a hierarquia: `DataFrame` faz parte do grupo `frame` que faz parte do grupo `core` do pacote `pandas`. A hierarquia não é importante para o nosso trabalho.\n",
        "\n",
        "Chamamos a função `DataFrame()` (observe as maiúsculas) do pacote pandas (`pd.`). A função `DataFrame()` cria dataframes de outros objetos. Se não passarmos um argumento, ele cria um DataFrame vazio."
      ]
    },
    {
      "cell_type": "code",
      "execution_count": 213,
      "metadata": {
        "id": "Kdby8Mit9bgs",
        "colab": {
          "base_uri": "https://localhost:8080/"
        },
        "outputId": "6098e2dc-7d35-4adb-a91b-59cff447ceb7"
      },
      "outputs": [
        {
          "output_type": "stream",
          "name": "stdout",
          "text": [
            "Empty DataFrame\n",
            "Columns: []\n",
            "Index: []\n"
          ]
        }
      ],
      "source": [
        "df2 = pd.DataFrame()\n",
        "print(df2)"
      ]
    },
    {
      "cell_type": "markdown",
      "metadata": {
        "id": "MuMl9OZj9bgs"
      },
      "source": [
        "Usaremos essa função algumas vezes, mas, com mais frequência, construiremos nossos DataFrames a partir de planilhas, arquivos csv ou chamadas de API (interface de programação de aplicativos) diretamente para servidores para recuperar dados. Coisas muito poderosas.\n",
        "\n",
        "### Colunas e linhas em um DataFrame\n",
        "Um DataFrame é composto de colunas e linhas. Qual o tamanho do nosso DataFrame? Usamos o atributo `shape` de um DataFrame para ver isso. \\[Lembrete: *atributos* e *métodos* estão associados a objetos. Atributos retornam recursos do objeto e métodos são como funções que atuam no objeto.\\]"
      ]
    },
    {
      "cell_type": "code",
      "execution_count": 214,
      "metadata": {
        "id": "AqTxkDJY9bgs",
        "colab": {
          "base_uri": "https://localhost:8080/"
        },
        "outputId": "15b93a65-a169-4e66-aaa4-8f50c3dcf747"
      },
      "outputs": [
        {
          "output_type": "stream",
          "name": "stdout",
          "text": [
            "A dimensão é: (4, 3)\n",
            "O tamanho é: 12\n"
          ]
        }
      ],
      "source": [
        "print('A dimensão é:', df.shape)   # retorna o shape (lin,col) de um DataFrame\n",
        "\n",
        "print('O tamanho é:', df.size)    # O tamanho é a quantidade de elementos, ou seja, o produto da tupla do shape"
      ]
    },
    {
      "cell_type": "code",
      "source": [
        "print(type(df.shape))"
      ],
      "metadata": {
        "id": "FojBo4DVGBum",
        "outputId": "f65a307f-9aaa-44d3-a060-0104b132739e",
        "colab": {
          "base_uri": "https://localhost:8080/"
        }
      },
      "execution_count": 215,
      "outputs": [
        {
          "output_type": "stream",
          "name": "stdout",
          "text": [
            "<class 'tuple'>\n"
          ]
        }
      ]
    },
    {
      "cell_type": "markdown",
      "metadata": {
        "id": "zF7spX899bgt"
      },
      "source": [
        "Que tipo o `df.shape` retorna?\n",
        "\n",
        "De volta ao nosso DataFrame. Vamos imprimir novamente, mas desta vez, sem a função de impressão."
      ]
    },
    {
      "cell_type": "code",
      "execution_count": 216,
      "metadata": {
        "id": "-HBcR4X19bgt",
        "colab": {
          "base_uri": "https://localhost:8080/"
        },
        "outputId": "81a354cd-d57c-4a35-a20b-ddd685ac08d8"
      },
      "outputs": [
        {
          "output_type": "execute_result",
          "data": {
            "text/plain": [
              "0     5.9\n",
              "1     7.6\n",
              "2    10.2\n",
              "3    13.0\n",
              "Name: gdp, dtype: float64"
            ]
          },
          "metadata": {},
          "execution_count": 216
        }
      ],
      "source": [
        "df['gdp']"
      ]
    },
    {
      "cell_type": "markdown",
      "metadata": {
        "id": "VP4aG9px9bgu"
      },
      "source": [
        "### O Índice DataFrame\n",
        "A 'coluna' de números mais à esquerda não é uma coluna. É o **índice** que os pandas atribuíram ao nosso DataFrame: semelhante à linha 'numbers' de uma planilha. Coloco números entre aspas, porque um índice pode ser mais do que apenas uma sequência de números inteiros. Neste DataFrame, faz sentido que nosso índice seja a variável ano. Um pouco mais tarde, discutiremos a alteração do índice. Por enquanto, vamos com o que os pandas nos deram.\n",
        "\n",
        "O índice é importante; vamos trabalhar com isso posteriormente."
      ]
    },
    {
      "cell_type": "markdown",
      "metadata": {
        "id": "QJjvAthK9bgv"
      },
      "source": [
        "Quando extraímos uma única coluna de um DataFrame, recebemos uma estutura chamada **Series**. Podemos pensar em uma série como um DataFrame com apenas uma variável: é uma coluna e um índice. Da mesma forma, podemos pensar em um DataFrame como uma coleção de Series que possuem o mesmo índice."
      ]
    },
    {
      "cell_type": "code",
      "execution_count": 217,
      "metadata": {
        "id": "9iF9kQDT9bgv",
        "colab": {
          "base_uri": "https://localhost:8080/"
        },
        "outputId": "ae3b27fa-c22e-4513-d055-b9fdcd7bd8ed"
      },
      "outputs": [
        {
          "output_type": "stream",
          "name": "stdout",
          "text": [
            "<class 'pandas.core.series.Series'>\n"
          ]
        }
      ],
      "source": [
        "print(type(df['gdp']))"
      ]
    },
    {
      "cell_type": "markdown",
      "metadata": {
        "id": "omcMC1Yf9bgv"
      },
      "source": [
        "### Aprendendo mais sobre um DataFrame\n",
        "\n",
        "Vimos os métodos `size` e `shape` do DataFrame. Vejamos mais alguns. Se quisermos ver quais variáveis temos no DataFrame (imagine que você está trabalhando com um dataset contendo 1.000 variáveis...) usamos o atributo `columns`."
      ]
    },
    {
      "cell_type": "code",
      "execution_count": 218,
      "metadata": {
        "id": "V4gEd9YJ9bgv",
        "colab": {
          "base_uri": "https://localhost:8080/"
        },
        "outputId": "82163575-a6fe-4b35-9fc2-2acf594c5a30"
      },
      "outputs": [
        {
          "output_type": "stream",
          "name": "stdout",
          "text": [
            "Index(['year', 'gdp', 'cons'], dtype='object')\n",
            "<class 'pandas.core.indexes.base.Index'>\n"
          ]
        }
      ],
      "source": [
        "print(df.columns)\n",
        "print(type(df.columns))"
      ]
    },
    {
      "cell_type": "markdown",
      "metadata": {
        "id": "X6_ysFj39bgw"
      },
      "source": [
        "Portanto, o atributo `column` retorna a lista de colunas de uma maneira um tanto complicada. (Ele está retornando um objeto Index que é útil em algumas situações.) Podemos usar o método `tolist()` para criar um objeto de lista. Podemos fazer algo semelhante ao índice também. O atributo `axes` nos informa sobre ambos ao mesmo tempo."
      ]
    },
    {
      "cell_type": "code",
      "execution_count": 219,
      "metadata": {
        "id": "959anyNQ9bgw",
        "colab": {
          "base_uri": "https://localhost:8080/"
        },
        "outputId": "b259b688-da77-47d1-fadd-2923cd07212f"
      },
      "outputs": [
        {
          "output_type": "stream",
          "name": "stdout",
          "text": [
            "['year', 'gdp', 'cons']\n",
            "[0, 1, 2, 3]\n",
            "[RangeIndex(start=0, stop=4, step=1), Index(['year', 'gdp', 'cons'], dtype='object')]\n"
          ]
        }
      ],
      "source": [
        "print(df.columns.tolist())\n",
        "\n",
        "print(df.index.tolist())\n",
        "\n",
        "print(df.axes)"
      ]
    },
    {
      "cell_type": "markdown",
      "metadata": {
        "id": "vIwG71ki9bgw"
      },
      "source": [
        "Podemos aprender sobre os tipos de dados no DataFrame com `dtypes` \\[observe o 's'\\]."
      ]
    },
    {
      "cell_type": "code",
      "execution_count": 220,
      "metadata": {
        "scrolled": true,
        "id": "Ip9Raxc89bgw",
        "colab": {
          "base_uri": "https://localhost:8080/"
        },
        "outputId": "b7d2fb49-08ce-4f55-b9fe-17dc73472f09"
      },
      "outputs": [
        {
          "output_type": "execute_result",
          "data": {
            "text/plain": [
              "year      int64\n",
              "gdp     float64\n",
              "cons    float64\n",
              "dtype: object"
            ]
          },
          "metadata": {},
          "execution_count": 220
        }
      ],
      "source": [
        "df.dtypes"
      ]
    },
    {
      "cell_type": "markdown",
      "metadata": {
        "id": "AbokAr669bgw"
      },
      "source": [
        "### <font color='orange'>Prática: DataFrames (Parte 1)</font>\n",
        "Reserve alguns minutos e tente o seguinte.\n",
        "\n",
        "Abaixo está um dict com dados sobre os estados dos EUA. "
      ]
    },
    {
      "cell_type": "code",
      "execution_count": 221,
      "metadata": {
        "id": "EBHx35qw9bgw"
      },
      "outputs": [],
      "source": [
        "state_data = {\n",
        "              'state':['CA','MI','WI','MN'],\n",
        "              'pop':[37,9.8,'5.7', 5.3],\n",
        "              'size':[163.7, 96.7, 65.5, 86.9],\n",
        "              'bird':['Quail', 'Redbreast Robin', 'American Robin', 'Loon']\n",
        "              }"
      ]
    },
    {
      "cell_type": "markdown",
      "metadata": {
        "id": "h5zp2seL9bgx"
      },
      "source": [
        "1. Converta o dict em um DataFrame chamado `states`"
      ]
    },
    {
      "cell_type": "code",
      "execution_count": 222,
      "metadata": {
        "id": "7w4RRMc_9bgx",
        "outputId": "580e2669-365e-4958-a2b7-ff43657e070c",
        "colab": {
          "base_uri": "https://localhost:8080/"
        }
      },
      "outputs": [
        {
          "output_type": "stream",
          "name": "stdout",
          "text": [
            "  state  pop   size             bird\n",
            "0    CA   37  163.7            Quail\n",
            "1    MI  9.8   96.7  Redbreast Robin\n",
            "2    WI  5.7   65.5   American Robin\n",
            "3    MN  5.3   86.9             Loon\n"
          ]
        }
      ],
      "source": [
        "states = pd.DataFrame(state_data)\n",
        "print(states)"
      ]
    },
    {
      "cell_type": "code",
      "source": [
        "print(states.info())"
      ],
      "metadata": {
        "id": "Wxb3kgXpGnFd",
        "outputId": "6894540a-39e4-43aa-8ac2-70da8daf3264",
        "colab": {
          "base_uri": "https://localhost:8080/"
        }
      },
      "execution_count": 272,
      "outputs": [
        {
          "output_type": "stream",
          "name": "stdout",
          "text": [
            "<class 'pandas.core.frame.DataFrame'>\n",
            "RangeIndex: 4 entries, 0 to 3\n",
            "Data columns (total 4 columns):\n",
            " #   Column  Non-Null Count  Dtype  \n",
            "---  ------  --------------  -----  \n",
            " 0   STATE   4 non-null      object \n",
            " 1   SIZE    4 non-null      float64\n",
            " 2   BIRD    4 non-null      object \n",
            " 3   PEOPLE  4 non-null      object \n",
            "dtypes: float64(1), object(3)\n",
            "memory usage: 256.0+ bytes\n",
            "None\n"
          ]
        }
      ]
    },
    {
      "cell_type": "code",
      "source": [
        "states['PEOPLE'].astype('float64')"
      ],
      "metadata": {
        "colab": {
          "base_uri": "https://localhost:8080/"
        },
        "id": "bqmoz1xQCp1N",
        "outputId": "447d4233-dd2a-4aca-cd9d-7a9256d9e699"
      },
      "execution_count": 274,
      "outputs": [
        {
          "output_type": "execute_result",
          "data": {
            "text/plain": [
              "0    37.0\n",
              "1     9.8\n",
              "2     5.7\n",
              "3     5.3\n",
              "Name: PEOPLE, dtype: float64"
            ]
          },
          "metadata": {},
          "execution_count": 274
        }
      ]
    },
    {
      "cell_type": "markdown",
      "metadata": {
        "id": "DwAw3aSm9bgx"
      },
      "source": [
        "2. Quais são os dtypes das variáveis? Alguma coisa parece esquisita?\n",
        "\n",
        "R: Sim, como na criação do dicionário ``states_data`` um dado de 'pop' foi fornecido como string (object), todos os outros dados relacionados a mesma chave foram convertidos implicitamente para object. Isto pode ser um problema pois no futuro provavelmente iríamos desejar realizar operações matemáticas com os dados de pop, mas seria impossível sem algum tipo de conversão para float64."
      ]
    },
    {
      "cell_type": "code",
      "execution_count": 224,
      "metadata": {
        "id": "dy14dDaS9bgx",
        "colab": {
          "base_uri": "https://localhost:8080/",
          "height": 175
        },
        "outputId": "11dfb785-33e0-4dc7-f1e9-7dbb8ba77734"
      },
      "outputs": [
        {
          "output_type": "execute_result",
          "data": {
            "text/plain": [
              "  state  pop   size             bird\n",
              "0    CA   37  163.7            Quail\n",
              "1    MI  9.8   96.7  Redbreast Robin\n",
              "2    WI  5.7   65.5   American Robin\n",
              "3    MN  5.3   86.9             Loon"
            ],
            "text/html": [
              "\n",
              "  <div id=\"df-43d37b52-46ea-415c-8100-9a4c5d165752\">\n",
              "    <div class=\"colab-df-container\">\n",
              "      <div>\n",
              "<style scoped>\n",
              "    .dataframe tbody tr th:only-of-type {\n",
              "        vertical-align: middle;\n",
              "    }\n",
              "\n",
              "    .dataframe tbody tr th {\n",
              "        vertical-align: top;\n",
              "    }\n",
              "\n",
              "    .dataframe thead th {\n",
              "        text-align: right;\n",
              "    }\n",
              "</style>\n",
              "<table border=\"1\" class=\"dataframe\">\n",
              "  <thead>\n",
              "    <tr style=\"text-align: right;\">\n",
              "      <th></th>\n",
              "      <th>state</th>\n",
              "      <th>pop</th>\n",
              "      <th>size</th>\n",
              "      <th>bird</th>\n",
              "    </tr>\n",
              "  </thead>\n",
              "  <tbody>\n",
              "    <tr>\n",
              "      <th>0</th>\n",
              "      <td>CA</td>\n",
              "      <td>37</td>\n",
              "      <td>163.7</td>\n",
              "      <td>Quail</td>\n",
              "    </tr>\n",
              "    <tr>\n",
              "      <th>1</th>\n",
              "      <td>MI</td>\n",
              "      <td>9.8</td>\n",
              "      <td>96.7</td>\n",
              "      <td>Redbreast Robin</td>\n",
              "    </tr>\n",
              "    <tr>\n",
              "      <th>2</th>\n",
              "      <td>WI</td>\n",
              "      <td>5.7</td>\n",
              "      <td>65.5</td>\n",
              "      <td>American Robin</td>\n",
              "    </tr>\n",
              "    <tr>\n",
              "      <th>3</th>\n",
              "      <td>MN</td>\n",
              "      <td>5.3</td>\n",
              "      <td>86.9</td>\n",
              "      <td>Loon</td>\n",
              "    </tr>\n",
              "  </tbody>\n",
              "</table>\n",
              "</div>\n",
              "      <button class=\"colab-df-convert\" onclick=\"convertToInteractive('df-43d37b52-46ea-415c-8100-9a4c5d165752')\"\n",
              "              title=\"Convert this dataframe to an interactive table.\"\n",
              "              style=\"display:none;\">\n",
              "        \n",
              "  <svg xmlns=\"http://www.w3.org/2000/svg\" height=\"24px\"viewBox=\"0 0 24 24\"\n",
              "       width=\"24px\">\n",
              "    <path d=\"M0 0h24v24H0V0z\" fill=\"none\"/>\n",
              "    <path d=\"M18.56 5.44l.94 2.06.94-2.06 2.06-.94-2.06-.94-.94-2.06-.94 2.06-2.06.94zm-11 1L8.5 8.5l.94-2.06 2.06-.94-2.06-.94L8.5 2.5l-.94 2.06-2.06.94zm10 10l.94 2.06.94-2.06 2.06-.94-2.06-.94-.94-2.06-.94 2.06-2.06.94z\"/><path d=\"M17.41 7.96l-1.37-1.37c-.4-.4-.92-.59-1.43-.59-.52 0-1.04.2-1.43.59L10.3 9.45l-7.72 7.72c-.78.78-.78 2.05 0 2.83L4 21.41c.39.39.9.59 1.41.59.51 0 1.02-.2 1.41-.59l7.78-7.78 2.81-2.81c.8-.78.8-2.07 0-2.86zM5.41 20L4 18.59l7.72-7.72 1.47 1.35L5.41 20z\"/>\n",
              "  </svg>\n",
              "      </button>\n",
              "      \n",
              "  <style>\n",
              "    .colab-df-container {\n",
              "      display:flex;\n",
              "      flex-wrap:wrap;\n",
              "      gap: 12px;\n",
              "    }\n",
              "\n",
              "    .colab-df-convert {\n",
              "      background-color: #E8F0FE;\n",
              "      border: none;\n",
              "      border-radius: 50%;\n",
              "      cursor: pointer;\n",
              "      display: none;\n",
              "      fill: #1967D2;\n",
              "      height: 32px;\n",
              "      padding: 0 0 0 0;\n",
              "      width: 32px;\n",
              "    }\n",
              "\n",
              "    .colab-df-convert:hover {\n",
              "      background-color: #E2EBFA;\n",
              "      box-shadow: 0px 1px 2px rgba(60, 64, 67, 0.3), 0px 1px 3px 1px rgba(60, 64, 67, 0.15);\n",
              "      fill: #174EA6;\n",
              "    }\n",
              "\n",
              "    [theme=dark] .colab-df-convert {\n",
              "      background-color: #3B4455;\n",
              "      fill: #D2E3FC;\n",
              "    }\n",
              "\n",
              "    [theme=dark] .colab-df-convert:hover {\n",
              "      background-color: #434B5C;\n",
              "      box-shadow: 0px 1px 3px 1px rgba(0, 0, 0, 0.15);\n",
              "      filter: drop-shadow(0px 1px 2px rgba(0, 0, 0, 0.3));\n",
              "      fill: #FFFFFF;\n",
              "    }\n",
              "  </style>\n",
              "\n",
              "      <script>\n",
              "        const buttonEl =\n",
              "          document.querySelector('#df-43d37b52-46ea-415c-8100-9a4c5d165752 button.colab-df-convert');\n",
              "        buttonEl.style.display =\n",
              "          google.colab.kernel.accessAllowed ? 'block' : 'none';\n",
              "\n",
              "        async function convertToInteractive(key) {\n",
              "          const element = document.querySelector('#df-43d37b52-46ea-415c-8100-9a4c5d165752');\n",
              "          const dataTable =\n",
              "            await google.colab.kernel.invokeFunction('convertToInteractive',\n",
              "                                                     [key], {});\n",
              "          if (!dataTable) return;\n",
              "\n",
              "          const docLinkHtml = 'Like what you see? Visit the ' +\n",
              "            '<a target=\"_blank\" href=https://colab.research.google.com/notebooks/data_table.ipynb>data table notebook</a>'\n",
              "            + ' to learn more about interactive tables.';\n",
              "          element.innerHTML = '';\n",
              "          dataTable['output_type'] = 'display_data';\n",
              "          await google.colab.output.renderOutput(dataTable, element);\n",
              "          const docLink = document.createElement('div');\n",
              "          docLink.innerHTML = docLinkHtml;\n",
              "          element.appendChild(docLink);\n",
              "        }\n",
              "      </script>\n",
              "    </div>\n",
              "  </div>\n",
              "  "
            ]
          },
          "metadata": {},
          "execution_count": 224
        }
      ],
      "source": [
        "states"
      ]
    },
    {
      "cell_type": "code",
      "source": [
        "states.dtypes"
      ],
      "metadata": {
        "colab": {
          "base_uri": "https://localhost:8080/"
        },
        "id": "aqPFfwVWeLm5",
        "outputId": "551b9cfe-9bf4-4c21-838e-7eee304e474a"
      },
      "execution_count": 225,
      "outputs": [
        {
          "output_type": "execute_result",
          "data": {
            "text/plain": [
              "state     object\n",
              "pop       object\n",
              "size     float64\n",
              "bird      object\n",
              "dtype: object"
            ]
          },
          "metadata": {},
          "execution_count": 225
        }
      ]
    },
    {
      "cell_type": "markdown",
      "metadata": {
        "id": "Ex3Yqt_f9bgx"
      },
      "source": [
        "3. Quantas linhas e colunas há neste DataFrame?"
      ]
    },
    {
      "cell_type": "code",
      "execution_count": 226,
      "metadata": {
        "id": "io22MJdu9bgx",
        "colab": {
          "base_uri": "https://localhost:8080/"
        },
        "outputId": "9d7cb80f-bdc9-4311-9f07-a1ea62742336"
      },
      "outputs": [
        {
          "output_type": "stream",
          "name": "stdout",
          "text": [
            "Rows: 4\n",
            "Columns: 4\n"
          ]
        }
      ],
      "source": [
        "rows, columns = states.shape\n",
        "print(f'Rows: {rows}\\nColumns: {columns}')"
      ]
    },
    {
      "cell_type": "markdown",
      "metadata": {
        "id": "BWHJlY4B9bgy"
      },
      "source": [
        "4. Imprima o índice como uma lista. Existe uma variável que pode tornar um índice mais sensato?"
      ]
    },
    {
      "cell_type": "code",
      "execution_count": 227,
      "metadata": {
        "id": "NVOKZehx9bgy",
        "colab": {
          "base_uri": "https://localhost:8080/"
        },
        "outputId": "16c2adfe-c0b5-443a-d51d-8e87af009f68"
      },
      "outputs": [
        {
          "output_type": "execute_result",
          "data": {
            "text/plain": [
              "['Quail', 'Redbreast Robin', 'American Robin', 'Loon']"
            ]
          },
          "metadata": {},
          "execution_count": 227
        }
      ],
      "source": [
        "states['bird'].tolist() # Transforma em lista os elementos possíveis dentro da coluna 'bird'"
      ]
    },
    {
      "cell_type": "code",
      "source": [
        "states.index.tolist() # Transforma em lista os elementos possíveis dos índices"
      ],
      "metadata": {
        "id": "kInrrMtwIUjZ",
        "outputId": "47dd758a-5e60-4573-ca94-67b010ca0e5d",
        "colab": {
          "base_uri": "https://localhost:8080/"
        }
      },
      "execution_count": 228,
      "outputs": [
        {
          "output_type": "execute_result",
          "data": {
            "text/plain": [
              "[0, 1, 2, 3]"
            ]
          },
          "metadata": {},
          "execution_count": 228
        }
      ]
    },
    {
      "cell_type": "markdown",
      "metadata": {
        "id": "UNJKjtq09bgy"
      },
      "source": [
        "### Mais sobre colunas de dataframe\n",
        "Para extrair uma coluna de um DataFrame, usamos `states['bird']`. Essa é a maneira preferida de fazer isso, pois sempre funciona. Você encontrará duas outras maneiras de extrair uma coluna.\n",
        "1. O primeiro usa um `.` como: `states.bird`.\n",
        "2. O segundo usa o método `iloc` `states.iloc[:,3]`."
      ]
    },
    {
      "cell_type": "code",
      "execution_count": 229,
      "metadata": {
        "id": "RjvpCKId9bgy",
        "colab": {
          "base_uri": "https://localhost:8080/"
        },
        "outputId": "903c913c-5de8-49d7-9e82-9e35e696637c"
      },
      "outputs": [
        {
          "output_type": "stream",
          "name": "stdout",
          "text": [
            "0              Quail\n",
            "1    Redbreast Robin\n",
            "2     American Robin\n",
            "3               Loon\n",
            "Name: bird, dtype: object\n"
          ]
        }
      ],
      "source": [
        "print(states['bird']) # Indexação de dataframes sempre retorna um objeto Series"
      ]
    },
    {
      "cell_type": "code",
      "execution_count": 230,
      "metadata": {
        "id": "w4lT-gct9bgy",
        "colab": {
          "base_uri": "https://localhost:8080/"
        },
        "outputId": "5fca61a2-a97a-479c-873f-cbea77cec27c"
      },
      "outputs": [
        {
          "output_type": "stream",
          "name": "stdout",
          "text": [
            "0              Quail\n",
            "1    Redbreast Robin\n",
            "2     American Robin\n",
            "3               Loon\n",
            "Name: bird, dtype: object\n"
          ]
        }
      ],
      "source": [
        "print(states.bird)"
      ]
    },
    {
      "cell_type": "code",
      "execution_count": 231,
      "metadata": {
        "id": "ysFheNGh9bgy",
        "colab": {
          "base_uri": "https://localhost:8080/"
        },
        "outputId": "56682f0a-462d-4990-90da-e8d9b9b0c2f3"
      },
      "outputs": [
        {
          "output_type": "stream",
          "name": "stdout",
          "text": [
            "0    163.7\n",
            "1     96.7\n",
            "Name: size, dtype: float64\n"
          ]
        }
      ],
      "source": [
        "print(states.iloc[:2,2])   #iloc funciona como um fatiamento 2-D com iloc[rows, cols]. "
      ]
    },
    {
      "cell_type": "markdown",
      "metadata": {
        "id": "36PIagm49bgz"
      },
      "source": [
        "Todos os três retornaram a mesma coluna. Por que não recomendo as duas segundas abordagens?\n",
        "\n",
        "Vamos tentar pegar a coluna de tamanho usando o segundo método."
      ]
    },
    {
      "cell_type": "code",
      "execution_count": 232,
      "metadata": {
        "id": "pipeMcGH9bgz",
        "colab": {
          "base_uri": "https://localhost:8080/"
        },
        "outputId": "f3ca76be-e852-4a99-88ef-9481e93283d3"
      },
      "outputs": [
        {
          "output_type": "stream",
          "name": "stdout",
          "text": [
            "16\n"
          ]
        }
      ],
      "source": [
        "print(states.size)   #retorna o tamanho da coluna"
      ]
    },
    {
      "cell_type": "markdown",
      "metadata": {
        "id": "RFVFN4Sa9bgz"
      },
      "source": [
        "Bem, não era isso que eu esperava. Em uma revisão mais aprofundada, no entanto, é exatamente o que eu deveria ter esperado. `size` é um atributo do DataFrame. Vimos isso anteriormente: ele retorna o número de elementos no DataFrame. Qualquer nome de coluna que entre em conflito com um método ou atributo DataFrame causará problemas.\n",
        "\n",
        "E o `iloc`? Suponha que eu decida reorganizar a ordem das colunas. (Veremos por que o código a seguir funciona em breve.)"
      ]
    },
    {
      "cell_type": "code",
      "execution_count": 233,
      "metadata": {
        "id": "zFqkandK9bgz",
        "outputId": "e086e590-e167-4685-f20b-5b650d65ce5a",
        "colab": {
          "base_uri": "https://localhost:8080/",
          "height": 175
        }
      },
      "outputs": [
        {
          "output_type": "execute_result",
          "data": {
            "text/plain": [
              "  state   size             bird  pop\n",
              "0    CA  163.7            Quail   37\n",
              "1    MI   96.7  Redbreast Robin  9.8\n",
              "2    WI   65.5   American Robin  5.7\n",
              "3    MN   86.9             Loon  5.3"
            ],
            "text/html": [
              "\n",
              "  <div id=\"df-eb266d21-f88e-4293-9454-b5aee1f6b2c5\">\n",
              "    <div class=\"colab-df-container\">\n",
              "      <div>\n",
              "<style scoped>\n",
              "    .dataframe tbody tr th:only-of-type {\n",
              "        vertical-align: middle;\n",
              "    }\n",
              "\n",
              "    .dataframe tbody tr th {\n",
              "        vertical-align: top;\n",
              "    }\n",
              "\n",
              "    .dataframe thead th {\n",
              "        text-align: right;\n",
              "    }\n",
              "</style>\n",
              "<table border=\"1\" class=\"dataframe\">\n",
              "  <thead>\n",
              "    <tr style=\"text-align: right;\">\n",
              "      <th></th>\n",
              "      <th>state</th>\n",
              "      <th>size</th>\n",
              "      <th>bird</th>\n",
              "      <th>pop</th>\n",
              "    </tr>\n",
              "  </thead>\n",
              "  <tbody>\n",
              "    <tr>\n",
              "      <th>0</th>\n",
              "      <td>CA</td>\n",
              "      <td>163.7</td>\n",
              "      <td>Quail</td>\n",
              "      <td>37</td>\n",
              "    </tr>\n",
              "    <tr>\n",
              "      <th>1</th>\n",
              "      <td>MI</td>\n",
              "      <td>96.7</td>\n",
              "      <td>Redbreast Robin</td>\n",
              "      <td>9.8</td>\n",
              "    </tr>\n",
              "    <tr>\n",
              "      <th>2</th>\n",
              "      <td>WI</td>\n",
              "      <td>65.5</td>\n",
              "      <td>American Robin</td>\n",
              "      <td>5.7</td>\n",
              "    </tr>\n",
              "    <tr>\n",
              "      <th>3</th>\n",
              "      <td>MN</td>\n",
              "      <td>86.9</td>\n",
              "      <td>Loon</td>\n",
              "      <td>5.3</td>\n",
              "    </tr>\n",
              "  </tbody>\n",
              "</table>\n",
              "</div>\n",
              "      <button class=\"colab-df-convert\" onclick=\"convertToInteractive('df-eb266d21-f88e-4293-9454-b5aee1f6b2c5')\"\n",
              "              title=\"Convert this dataframe to an interactive table.\"\n",
              "              style=\"display:none;\">\n",
              "        \n",
              "  <svg xmlns=\"http://www.w3.org/2000/svg\" height=\"24px\"viewBox=\"0 0 24 24\"\n",
              "       width=\"24px\">\n",
              "    <path d=\"M0 0h24v24H0V0z\" fill=\"none\"/>\n",
              "    <path d=\"M18.56 5.44l.94 2.06.94-2.06 2.06-.94-2.06-.94-.94-2.06-.94 2.06-2.06.94zm-11 1L8.5 8.5l.94-2.06 2.06-.94-2.06-.94L8.5 2.5l-.94 2.06-2.06.94zm10 10l.94 2.06.94-2.06 2.06-.94-2.06-.94-.94-2.06-.94 2.06-2.06.94z\"/><path d=\"M17.41 7.96l-1.37-1.37c-.4-.4-.92-.59-1.43-.59-.52 0-1.04.2-1.43.59L10.3 9.45l-7.72 7.72c-.78.78-.78 2.05 0 2.83L4 21.41c.39.39.9.59 1.41.59.51 0 1.02-.2 1.41-.59l7.78-7.78 2.81-2.81c.8-.78.8-2.07 0-2.86zM5.41 20L4 18.59l7.72-7.72 1.47 1.35L5.41 20z\"/>\n",
              "  </svg>\n",
              "      </button>\n",
              "      \n",
              "  <style>\n",
              "    .colab-df-container {\n",
              "      display:flex;\n",
              "      flex-wrap:wrap;\n",
              "      gap: 12px;\n",
              "    }\n",
              "\n",
              "    .colab-df-convert {\n",
              "      background-color: #E8F0FE;\n",
              "      border: none;\n",
              "      border-radius: 50%;\n",
              "      cursor: pointer;\n",
              "      display: none;\n",
              "      fill: #1967D2;\n",
              "      height: 32px;\n",
              "      padding: 0 0 0 0;\n",
              "      width: 32px;\n",
              "    }\n",
              "\n",
              "    .colab-df-convert:hover {\n",
              "      background-color: #E2EBFA;\n",
              "      box-shadow: 0px 1px 2px rgba(60, 64, 67, 0.3), 0px 1px 3px 1px rgba(60, 64, 67, 0.15);\n",
              "      fill: #174EA6;\n",
              "    }\n",
              "\n",
              "    [theme=dark] .colab-df-convert {\n",
              "      background-color: #3B4455;\n",
              "      fill: #D2E3FC;\n",
              "    }\n",
              "\n",
              "    [theme=dark] .colab-df-convert:hover {\n",
              "      background-color: #434B5C;\n",
              "      box-shadow: 0px 1px 3px 1px rgba(0, 0, 0, 0.15);\n",
              "      filter: drop-shadow(0px 1px 2px rgba(0, 0, 0, 0.3));\n",
              "      fill: #FFFFFF;\n",
              "    }\n",
              "  </style>\n",
              "\n",
              "      <script>\n",
              "        const buttonEl =\n",
              "          document.querySelector('#df-eb266d21-f88e-4293-9454-b5aee1f6b2c5 button.colab-df-convert');\n",
              "        buttonEl.style.display =\n",
              "          google.colab.kernel.accessAllowed ? 'block' : 'none';\n",
              "\n",
              "        async function convertToInteractive(key) {\n",
              "          const element = document.querySelector('#df-eb266d21-f88e-4293-9454-b5aee1f6b2c5');\n",
              "          const dataTable =\n",
              "            await google.colab.kernel.invokeFunction('convertToInteractive',\n",
              "                                                     [key], {});\n",
              "          if (!dataTable) return;\n",
              "\n",
              "          const docLinkHtml = 'Like what you see? Visit the ' +\n",
              "            '<a target=\"_blank\" href=https://colab.research.google.com/notebooks/data_table.ipynb>data table notebook</a>'\n",
              "            + ' to learn more about interactive tables.';\n",
              "          element.innerHTML = '';\n",
              "          dataTable['output_type'] = 'display_data';\n",
              "          await google.colab.output.renderOutput(dataTable, element);\n",
              "          const docLink = document.createElement('div');\n",
              "          docLink.innerHTML = docLinkHtml;\n",
              "          element.appendChild(docLink);\n",
              "        }\n",
              "      </script>\n",
              "    </div>\n",
              "  </div>\n",
              "  "
            ]
          },
          "metadata": {},
          "execution_count": 233
        }
      ],
      "source": [
        "states = states[['state', 'size', 'bird', 'pop']]\n",
        "states"
      ]
    },
    {
      "cell_type": "code",
      "execution_count": 234,
      "metadata": {
        "id": "0d4sKpoZ9bgz",
        "outputId": "44b4a9b2-3d76-4b0f-d8ef-5f6a3b8b1f15",
        "colab": {
          "base_uri": "https://localhost:8080/"
        }
      },
      "outputs": [
        {
          "output_type": "stream",
          "name": "stdout",
          "text": [
            "0     37\n",
            "1    9.8\n",
            "2    5.7\n",
            "3    5.3\n",
            "Name: pop, dtype: object\n"
          ]
        }
      ],
      "source": [
        "# O que este comando retorna?\n",
        "print(states.iloc[:,3])  #iloc funciona como um fatiamento 2-D com iloc[rows, cols]. -> Desde o índice 0, até o fim, coluna 3"
      ]
    },
    {
      "cell_type": "markdown",
      "metadata": {
        "id": "X95RT4vs9bgz"
      },
      "source": [
        "Não surpreendentemente, essa maneira de referenciar uma coluna não é robusta para reordenar as colunas. Ainda podemos usar `iloc` aqui e ali, mas fazemos isso por nossa conta e risco.\n",
        "\n",
        "### Subconjuntos de colunas\n",
        "\n",
        "Ok, de volta às colunas de referência. Podemos pegar várias colunas passando uma lista dos nomes das colunas."
      ]
    },
    {
      "cell_type": "code",
      "execution_count": 235,
      "metadata": {
        "id": "u_WTr9Uz9bg0",
        "outputId": "528b11ab-2519-439b-84ef-5d0a5b198b78",
        "colab": {
          "base_uri": "https://localhost:8080/"
        }
      },
      "outputs": [
        {
          "output_type": "execute_result",
          "data": {
            "text/plain": [
              "pandas.core.frame.DataFrame"
            ]
          },
          "metadata": {},
          "execution_count": 235
        }
      ],
      "source": [
        "cols_to_get = ['state', 'bird', 'pop']\n",
        "got_cols = states[cols_to_get]\n",
        "got_cols\n",
        "type(got_cols)"
      ]
    },
    {
      "cell_type": "markdown",
      "metadata": {
        "id": "N6lGRK2G9bg0"
      },
      "source": [
        "Quando pegamos mais de uma coluna, estamos criando um objeto DataFrame. Uma notação mais compacta cria a lista no lugar."
      ]
    },
    {
      "cell_type": "code",
      "execution_count": 236,
      "metadata": {
        "id": "CjD2W-149bg0",
        "outputId": "0547a969-4b3b-4d7d-ea88-70e599015356",
        "colab": {
          "base_uri": "https://localhost:8080/",
          "height": 175
        }
      },
      "outputs": [
        {
          "output_type": "execute_result",
          "data": {
            "text/plain": [
              "  state             bird  pop\n",
              "0    CA            Quail   37\n",
              "1    MI  Redbreast Robin  9.8\n",
              "2    WI   American Robin  5.7\n",
              "3    MN             Loon  5.3"
            ],
            "text/html": [
              "\n",
              "  <div id=\"df-34606379-c787-42b4-a931-d2704a70d57c\">\n",
              "    <div class=\"colab-df-container\">\n",
              "      <div>\n",
              "<style scoped>\n",
              "    .dataframe tbody tr th:only-of-type {\n",
              "        vertical-align: middle;\n",
              "    }\n",
              "\n",
              "    .dataframe tbody tr th {\n",
              "        vertical-align: top;\n",
              "    }\n",
              "\n",
              "    .dataframe thead th {\n",
              "        text-align: right;\n",
              "    }\n",
              "</style>\n",
              "<table border=\"1\" class=\"dataframe\">\n",
              "  <thead>\n",
              "    <tr style=\"text-align: right;\">\n",
              "      <th></th>\n",
              "      <th>state</th>\n",
              "      <th>bird</th>\n",
              "      <th>pop</th>\n",
              "    </tr>\n",
              "  </thead>\n",
              "  <tbody>\n",
              "    <tr>\n",
              "      <th>0</th>\n",
              "      <td>CA</td>\n",
              "      <td>Quail</td>\n",
              "      <td>37</td>\n",
              "    </tr>\n",
              "    <tr>\n",
              "      <th>1</th>\n",
              "      <td>MI</td>\n",
              "      <td>Redbreast Robin</td>\n",
              "      <td>9.8</td>\n",
              "    </tr>\n",
              "    <tr>\n",
              "      <th>2</th>\n",
              "      <td>WI</td>\n",
              "      <td>American Robin</td>\n",
              "      <td>5.7</td>\n",
              "    </tr>\n",
              "    <tr>\n",
              "      <th>3</th>\n",
              "      <td>MN</td>\n",
              "      <td>Loon</td>\n",
              "      <td>5.3</td>\n",
              "    </tr>\n",
              "  </tbody>\n",
              "</table>\n",
              "</div>\n",
              "      <button class=\"colab-df-convert\" onclick=\"convertToInteractive('df-34606379-c787-42b4-a931-d2704a70d57c')\"\n",
              "              title=\"Convert this dataframe to an interactive table.\"\n",
              "              style=\"display:none;\">\n",
              "        \n",
              "  <svg xmlns=\"http://www.w3.org/2000/svg\" height=\"24px\"viewBox=\"0 0 24 24\"\n",
              "       width=\"24px\">\n",
              "    <path d=\"M0 0h24v24H0V0z\" fill=\"none\"/>\n",
              "    <path d=\"M18.56 5.44l.94 2.06.94-2.06 2.06-.94-2.06-.94-.94-2.06-.94 2.06-2.06.94zm-11 1L8.5 8.5l.94-2.06 2.06-.94-2.06-.94L8.5 2.5l-.94 2.06-2.06.94zm10 10l.94 2.06.94-2.06 2.06-.94-2.06-.94-.94-2.06-.94 2.06-2.06.94z\"/><path d=\"M17.41 7.96l-1.37-1.37c-.4-.4-.92-.59-1.43-.59-.52 0-1.04.2-1.43.59L10.3 9.45l-7.72 7.72c-.78.78-.78 2.05 0 2.83L4 21.41c.39.39.9.59 1.41.59.51 0 1.02-.2 1.41-.59l7.78-7.78 2.81-2.81c.8-.78.8-2.07 0-2.86zM5.41 20L4 18.59l7.72-7.72 1.47 1.35L5.41 20z\"/>\n",
              "  </svg>\n",
              "      </button>\n",
              "      \n",
              "  <style>\n",
              "    .colab-df-container {\n",
              "      display:flex;\n",
              "      flex-wrap:wrap;\n",
              "      gap: 12px;\n",
              "    }\n",
              "\n",
              "    .colab-df-convert {\n",
              "      background-color: #E8F0FE;\n",
              "      border: none;\n",
              "      border-radius: 50%;\n",
              "      cursor: pointer;\n",
              "      display: none;\n",
              "      fill: #1967D2;\n",
              "      height: 32px;\n",
              "      padding: 0 0 0 0;\n",
              "      width: 32px;\n",
              "    }\n",
              "\n",
              "    .colab-df-convert:hover {\n",
              "      background-color: #E2EBFA;\n",
              "      box-shadow: 0px 1px 2px rgba(60, 64, 67, 0.3), 0px 1px 3px 1px rgba(60, 64, 67, 0.15);\n",
              "      fill: #174EA6;\n",
              "    }\n",
              "\n",
              "    [theme=dark] .colab-df-convert {\n",
              "      background-color: #3B4455;\n",
              "      fill: #D2E3FC;\n",
              "    }\n",
              "\n",
              "    [theme=dark] .colab-df-convert:hover {\n",
              "      background-color: #434B5C;\n",
              "      box-shadow: 0px 1px 3px 1px rgba(0, 0, 0, 0.15);\n",
              "      filter: drop-shadow(0px 1px 2px rgba(0, 0, 0, 0.3));\n",
              "      fill: #FFFFFF;\n",
              "    }\n",
              "  </style>\n",
              "\n",
              "      <script>\n",
              "        const buttonEl =\n",
              "          document.querySelector('#df-34606379-c787-42b4-a931-d2704a70d57c button.colab-df-convert');\n",
              "        buttonEl.style.display =\n",
              "          google.colab.kernel.accessAllowed ? 'block' : 'none';\n",
              "\n",
              "        async function convertToInteractive(key) {\n",
              "          const element = document.querySelector('#df-34606379-c787-42b4-a931-d2704a70d57c');\n",
              "          const dataTable =\n",
              "            await google.colab.kernel.invokeFunction('convertToInteractive',\n",
              "                                                     [key], {});\n",
              "          if (!dataTable) return;\n",
              "\n",
              "          const docLinkHtml = 'Like what you see? Visit the ' +\n",
              "            '<a target=\"_blank\" href=https://colab.research.google.com/notebooks/data_table.ipynb>data table notebook</a>'\n",
              "            + ' to learn more about interactive tables.';\n",
              "          element.innerHTML = '';\n",
              "          dataTable['output_type'] = 'display_data';\n",
              "          await google.colab.output.renderOutput(dataTable, element);\n",
              "          const docLink = document.createElement('div');\n",
              "          docLink.innerHTML = docLinkHtml;\n",
              "          element.appendChild(docLink);\n",
              "        }\n",
              "      </script>\n",
              "    </div>\n",
              "  </div>\n",
              "  "
            ]
          },
          "metadata": {},
          "execution_count": 236
        }
      ],
      "source": [
        "got_cols_2 = states[['state', 'bird', 'pop']]\n",
        "got_cols_2"
      ]
    },
    {
      "cell_type": "markdown",
      "metadata": {
        "id": "A_cyq0m09bg0"
      },
      "source": [
        "### Renomeando colunas\n",
        "Muitas vezes, os conjuntos de dados vêm com nomes de variáveis ruins. Como renomeamos uma coluna?\n",
        "Se estamos alterando apenas algumas variáveis, a abordagem do dicionário funciona bem."
      ]
    },
    {
      "cell_type": "code",
      "source": [
        "def rename_columns(column_names):\n",
        "  columns_renamed = []\n",
        "  for column_name in column_names:\n",
        "    column_renamed = '_'.join(column_name.strip().split())\n",
        "    columns_renamed.append(column_renamed)\n",
        "  return columns_renamed"
      ],
      "metadata": {
        "id": "-HXeZdv7JbyP"
      },
      "execution_count": 237,
      "outputs": []
    },
    {
      "cell_type": "code",
      "source": [
        "rename_columns(['João Neto ', 'William Bruno      '])"
      ],
      "metadata": {
        "id": "3B0t30hqJpFP",
        "outputId": "58b07abd-603d-4440-8902-2ee137fb23a1",
        "colab": {
          "base_uri": "https://localhost:8080/"
        }
      },
      "execution_count": 238,
      "outputs": [
        {
          "output_type": "execute_result",
          "data": {
            "text/plain": [
              "['João_Neto', 'William_Bruno']"
            ]
          },
          "metadata": {},
          "execution_count": 238
        }
      ]
    },
    {
      "cell_type": "code",
      "execution_count": 239,
      "metadata": {
        "id": "GazOrzss9bg0",
        "outputId": "3c5c0dea-c41f-4570-d692-2de3537b65e0",
        "colab": {
          "base_uri": "https://localhost:8080/",
          "height": 175
        }
      },
      "outputs": [
        {
          "output_type": "execute_result",
          "data": {
            "text/plain": [
              "  state   size             bird population\n",
              "0    CA  163.7            Quail         37\n",
              "1    MI   96.7  Redbreast Robin        9.8\n",
              "2    WI   65.5   American Robin        5.7\n",
              "3    MN   86.9             Loon        5.3"
            ],
            "text/html": [
              "\n",
              "  <div id=\"df-9624961d-3d00-40d8-8aab-b46f8239f549\">\n",
              "    <div class=\"colab-df-container\">\n",
              "      <div>\n",
              "<style scoped>\n",
              "    .dataframe tbody tr th:only-of-type {\n",
              "        vertical-align: middle;\n",
              "    }\n",
              "\n",
              "    .dataframe tbody tr th {\n",
              "        vertical-align: top;\n",
              "    }\n",
              "\n",
              "    .dataframe thead th {\n",
              "        text-align: right;\n",
              "    }\n",
              "</style>\n",
              "<table border=\"1\" class=\"dataframe\">\n",
              "  <thead>\n",
              "    <tr style=\"text-align: right;\">\n",
              "      <th></th>\n",
              "      <th>state</th>\n",
              "      <th>size</th>\n",
              "      <th>bird</th>\n",
              "      <th>population</th>\n",
              "    </tr>\n",
              "  </thead>\n",
              "  <tbody>\n",
              "    <tr>\n",
              "      <th>0</th>\n",
              "      <td>CA</td>\n",
              "      <td>163.7</td>\n",
              "      <td>Quail</td>\n",
              "      <td>37</td>\n",
              "    </tr>\n",
              "    <tr>\n",
              "      <th>1</th>\n",
              "      <td>MI</td>\n",
              "      <td>96.7</td>\n",
              "      <td>Redbreast Robin</td>\n",
              "      <td>9.8</td>\n",
              "    </tr>\n",
              "    <tr>\n",
              "      <th>2</th>\n",
              "      <td>WI</td>\n",
              "      <td>65.5</td>\n",
              "      <td>American Robin</td>\n",
              "      <td>5.7</td>\n",
              "    </tr>\n",
              "    <tr>\n",
              "      <th>3</th>\n",
              "      <td>MN</td>\n",
              "      <td>86.9</td>\n",
              "      <td>Loon</td>\n",
              "      <td>5.3</td>\n",
              "    </tr>\n",
              "  </tbody>\n",
              "</table>\n",
              "</div>\n",
              "      <button class=\"colab-df-convert\" onclick=\"convertToInteractive('df-9624961d-3d00-40d8-8aab-b46f8239f549')\"\n",
              "              title=\"Convert this dataframe to an interactive table.\"\n",
              "              style=\"display:none;\">\n",
              "        \n",
              "  <svg xmlns=\"http://www.w3.org/2000/svg\" height=\"24px\"viewBox=\"0 0 24 24\"\n",
              "       width=\"24px\">\n",
              "    <path d=\"M0 0h24v24H0V0z\" fill=\"none\"/>\n",
              "    <path d=\"M18.56 5.44l.94 2.06.94-2.06 2.06-.94-2.06-.94-.94-2.06-.94 2.06-2.06.94zm-11 1L8.5 8.5l.94-2.06 2.06-.94-2.06-.94L8.5 2.5l-.94 2.06-2.06.94zm10 10l.94 2.06.94-2.06 2.06-.94-2.06-.94-.94-2.06-.94 2.06-2.06.94z\"/><path d=\"M17.41 7.96l-1.37-1.37c-.4-.4-.92-.59-1.43-.59-.52 0-1.04.2-1.43.59L10.3 9.45l-7.72 7.72c-.78.78-.78 2.05 0 2.83L4 21.41c.39.39.9.59 1.41.59.51 0 1.02-.2 1.41-.59l7.78-7.78 2.81-2.81c.8-.78.8-2.07 0-2.86zM5.41 20L4 18.59l7.72-7.72 1.47 1.35L5.41 20z\"/>\n",
              "  </svg>\n",
              "      </button>\n",
              "      \n",
              "  <style>\n",
              "    .colab-df-container {\n",
              "      display:flex;\n",
              "      flex-wrap:wrap;\n",
              "      gap: 12px;\n",
              "    }\n",
              "\n",
              "    .colab-df-convert {\n",
              "      background-color: #E8F0FE;\n",
              "      border: none;\n",
              "      border-radius: 50%;\n",
              "      cursor: pointer;\n",
              "      display: none;\n",
              "      fill: #1967D2;\n",
              "      height: 32px;\n",
              "      padding: 0 0 0 0;\n",
              "      width: 32px;\n",
              "    }\n",
              "\n",
              "    .colab-df-convert:hover {\n",
              "      background-color: #E2EBFA;\n",
              "      box-shadow: 0px 1px 2px rgba(60, 64, 67, 0.3), 0px 1px 3px 1px rgba(60, 64, 67, 0.15);\n",
              "      fill: #174EA6;\n",
              "    }\n",
              "\n",
              "    [theme=dark] .colab-df-convert {\n",
              "      background-color: #3B4455;\n",
              "      fill: #D2E3FC;\n",
              "    }\n",
              "\n",
              "    [theme=dark] .colab-df-convert:hover {\n",
              "      background-color: #434B5C;\n",
              "      box-shadow: 0px 1px 3px 1px rgba(0, 0, 0, 0.15);\n",
              "      filter: drop-shadow(0px 1px 2px rgba(0, 0, 0, 0.3));\n",
              "      fill: #FFFFFF;\n",
              "    }\n",
              "  </style>\n",
              "\n",
              "      <script>\n",
              "        const buttonEl =\n",
              "          document.querySelector('#df-9624961d-3d00-40d8-8aab-b46f8239f549 button.colab-df-convert');\n",
              "        buttonEl.style.display =\n",
              "          google.colab.kernel.accessAllowed ? 'block' : 'none';\n",
              "\n",
              "        async function convertToInteractive(key) {\n",
              "          const element = document.querySelector('#df-9624961d-3d00-40d8-8aab-b46f8239f549');\n",
              "          const dataTable =\n",
              "            await google.colab.kernel.invokeFunction('convertToInteractive',\n",
              "                                                     [key], {});\n",
              "          if (!dataTable) return;\n",
              "\n",
              "          const docLinkHtml = 'Like what you see? Visit the ' +\n",
              "            '<a target=\"_blank\" href=https://colab.research.google.com/notebooks/data_table.ipynb>data table notebook</a>'\n",
              "            + ' to learn more about interactive tables.';\n",
              "          element.innerHTML = '';\n",
              "          dataTable['output_type'] = 'display_data';\n",
              "          await google.colab.output.renderOutput(dataTable, element);\n",
              "          const docLink = document.createElement('div');\n",
              "          docLink.innerHTML = docLinkHtml;\n",
              "          element.appendChild(docLink);\n",
              "        }\n",
              "      </script>\n",
              "    </div>\n",
              "  </div>\n",
              "  "
            ]
          },
          "metadata": {},
          "execution_count": 239
        }
      ],
      "source": [
        "# pop significa mesmo população? Vamos renomear esta variável\n",
        "states = states.rename(columns={'pop':'population'})\n",
        "states"
      ]
    },
    {
      "cell_type": "markdown",
      "metadata": {
        "id": "OXlfXn-i9bg1"
      },
      "source": [
        "A única coluna que foi alterada foi a coluna `pop`. Vamos dar uma olhada mais de perto na sintaxe.\n",
        "``` python\n",
        "states = states.rename(columns={'pop':'population'})\n",
        "```\n",
        "1. Estamos chamando o método `rename()` do objeto DataFrame\n",
        "2. Passamos `rename()` o argumento `columns` (passar `index` renomeia o índice)\n",
        "3. Usamos um dict para fornecer os pares de valores-chave `{old name : new name}`\n",
        "\n",
        "Observe que tivemos que atribuir o resultado de `state.rename()` de volta aos estados. O método `rename()` não atua nos dados originais, mas cria uma cópia, que atribuímos de volta à variável `states`.\n",
        "\n",
        "Podemos pedir `rename()` para executar a ação nos dados originais com o argumento `inplace`. \\[Você pode ver se um método oferece suporte a operações no local [verificando a documentação](https://pandas.pydata.org/pandas-docs/stable/generated/pandas.DataFrame.rename.html) ou usando ? no notebook jupyter.\\]"
      ]
    },
    {
      "cell_type": "code",
      "execution_count": 240,
      "metadata": {
        "id": "KIQrxCXb9bg1",
        "colab": {
          "base_uri": "https://localhost:8080/",
          "height": 175
        },
        "outputId": "48e1f73e-c241-4464-d023-493f273957b6"
      },
      "outputs": [
        {
          "output_type": "execute_result",
          "data": {
            "text/plain": [
              "  state   size             bird people\n",
              "0    CA  163.7            Quail     37\n",
              "1    MI   96.7  Redbreast Robin    9.8\n",
              "2    WI   65.5   American Robin    5.7\n",
              "3    MN   86.9             Loon    5.3"
            ],
            "text/html": [
              "\n",
              "  <div id=\"df-9fb39b78-17fa-4380-8ed2-91d6f7def423\">\n",
              "    <div class=\"colab-df-container\">\n",
              "      <div>\n",
              "<style scoped>\n",
              "    .dataframe tbody tr th:only-of-type {\n",
              "        vertical-align: middle;\n",
              "    }\n",
              "\n",
              "    .dataframe tbody tr th {\n",
              "        vertical-align: top;\n",
              "    }\n",
              "\n",
              "    .dataframe thead th {\n",
              "        text-align: right;\n",
              "    }\n",
              "</style>\n",
              "<table border=\"1\" class=\"dataframe\">\n",
              "  <thead>\n",
              "    <tr style=\"text-align: right;\">\n",
              "      <th></th>\n",
              "      <th>state</th>\n",
              "      <th>size</th>\n",
              "      <th>bird</th>\n",
              "      <th>people</th>\n",
              "    </tr>\n",
              "  </thead>\n",
              "  <tbody>\n",
              "    <tr>\n",
              "      <th>0</th>\n",
              "      <td>CA</td>\n",
              "      <td>163.7</td>\n",
              "      <td>Quail</td>\n",
              "      <td>37</td>\n",
              "    </tr>\n",
              "    <tr>\n",
              "      <th>1</th>\n",
              "      <td>MI</td>\n",
              "      <td>96.7</td>\n",
              "      <td>Redbreast Robin</td>\n",
              "      <td>9.8</td>\n",
              "    </tr>\n",
              "    <tr>\n",
              "      <th>2</th>\n",
              "      <td>WI</td>\n",
              "      <td>65.5</td>\n",
              "      <td>American Robin</td>\n",
              "      <td>5.7</td>\n",
              "    </tr>\n",
              "    <tr>\n",
              "      <th>3</th>\n",
              "      <td>MN</td>\n",
              "      <td>86.9</td>\n",
              "      <td>Loon</td>\n",
              "      <td>5.3</td>\n",
              "    </tr>\n",
              "  </tbody>\n",
              "</table>\n",
              "</div>\n",
              "      <button class=\"colab-df-convert\" onclick=\"convertToInteractive('df-9fb39b78-17fa-4380-8ed2-91d6f7def423')\"\n",
              "              title=\"Convert this dataframe to an interactive table.\"\n",
              "              style=\"display:none;\">\n",
              "        \n",
              "  <svg xmlns=\"http://www.w3.org/2000/svg\" height=\"24px\"viewBox=\"0 0 24 24\"\n",
              "       width=\"24px\">\n",
              "    <path d=\"M0 0h24v24H0V0z\" fill=\"none\"/>\n",
              "    <path d=\"M18.56 5.44l.94 2.06.94-2.06 2.06-.94-2.06-.94-.94-2.06-.94 2.06-2.06.94zm-11 1L8.5 8.5l.94-2.06 2.06-.94-2.06-.94L8.5 2.5l-.94 2.06-2.06.94zm10 10l.94 2.06.94-2.06 2.06-.94-2.06-.94-.94-2.06-.94 2.06-2.06.94z\"/><path d=\"M17.41 7.96l-1.37-1.37c-.4-.4-.92-.59-1.43-.59-.52 0-1.04.2-1.43.59L10.3 9.45l-7.72 7.72c-.78.78-.78 2.05 0 2.83L4 21.41c.39.39.9.59 1.41.59.51 0 1.02-.2 1.41-.59l7.78-7.78 2.81-2.81c.8-.78.8-2.07 0-2.86zM5.41 20L4 18.59l7.72-7.72 1.47 1.35L5.41 20z\"/>\n",
              "  </svg>\n",
              "      </button>\n",
              "      \n",
              "  <style>\n",
              "    .colab-df-container {\n",
              "      display:flex;\n",
              "      flex-wrap:wrap;\n",
              "      gap: 12px;\n",
              "    }\n",
              "\n",
              "    .colab-df-convert {\n",
              "      background-color: #E8F0FE;\n",
              "      border: none;\n",
              "      border-radius: 50%;\n",
              "      cursor: pointer;\n",
              "      display: none;\n",
              "      fill: #1967D2;\n",
              "      height: 32px;\n",
              "      padding: 0 0 0 0;\n",
              "      width: 32px;\n",
              "    }\n",
              "\n",
              "    .colab-df-convert:hover {\n",
              "      background-color: #E2EBFA;\n",
              "      box-shadow: 0px 1px 2px rgba(60, 64, 67, 0.3), 0px 1px 3px 1px rgba(60, 64, 67, 0.15);\n",
              "      fill: #174EA6;\n",
              "    }\n",
              "\n",
              "    [theme=dark] .colab-df-convert {\n",
              "      background-color: #3B4455;\n",
              "      fill: #D2E3FC;\n",
              "    }\n",
              "\n",
              "    [theme=dark] .colab-df-convert:hover {\n",
              "      background-color: #434B5C;\n",
              "      box-shadow: 0px 1px 3px 1px rgba(0, 0, 0, 0.15);\n",
              "      filter: drop-shadow(0px 1px 2px rgba(0, 0, 0, 0.3));\n",
              "      fill: #FFFFFF;\n",
              "    }\n",
              "  </style>\n",
              "\n",
              "      <script>\n",
              "        const buttonEl =\n",
              "          document.querySelector('#df-9fb39b78-17fa-4380-8ed2-91d6f7def423 button.colab-df-convert');\n",
              "        buttonEl.style.display =\n",
              "          google.colab.kernel.accessAllowed ? 'block' : 'none';\n",
              "\n",
              "        async function convertToInteractive(key) {\n",
              "          const element = document.querySelector('#df-9fb39b78-17fa-4380-8ed2-91d6f7def423');\n",
              "          const dataTable =\n",
              "            await google.colab.kernel.invokeFunction('convertToInteractive',\n",
              "                                                     [key], {});\n",
              "          if (!dataTable) return;\n",
              "\n",
              "          const docLinkHtml = 'Like what you see? Visit the ' +\n",
              "            '<a target=\"_blank\" href=https://colab.research.google.com/notebooks/data_table.ipynb>data table notebook</a>'\n",
              "            + ' to learn more about interactive tables.';\n",
              "          element.innerHTML = '';\n",
              "          dataTable['output_type'] = 'display_data';\n",
              "          await google.colab.output.renderOutput(dataTable, element);\n",
              "          const docLink = document.createElement('div');\n",
              "          docLink.innerHTML = docLinkHtml;\n",
              "          element.appendChild(docLink);\n",
              "        }\n",
              "      </script>\n",
              "    </div>\n",
              "  </div>\n",
              "  "
            ]
          },
          "metadata": {},
          "execution_count": 240
        }
      ],
      "source": [
        "#Renomeando população novamente\n",
        "states.rename(columns={'population':'people'}, inplace=True)\n",
        "states"
      ]
    },
    {
      "cell_type": "markdown",
      "metadata": {
        "id": "6YazDKzc9bg1"
      },
      "source": [
        "Se precisarmos aplicar um método ou função a todos os nomes das colunas, podemos operar diretamente em `df.columns`."
      ]
    },
    {
      "cell_type": "code",
      "execution_count": 241,
      "metadata": {
        "id": "IrxLzgZI9bg1",
        "colab": {
          "base_uri": "https://localhost:8080/",
          "height": 192
        },
        "outputId": "41e45e0f-e42d-484d-b538-fb1d28d51608"
      },
      "outputs": [
        {
          "output_type": "stream",
          "name": "stdout",
          "text": [
            "Index(['state', 'size', 'bird', 'people'], dtype='object')\n"
          ]
        },
        {
          "output_type": "execute_result",
          "data": {
            "text/plain": [
              "  STATE   SIZE             BIRD PEOPLE\n",
              "0    CA  163.7            Quail     37\n",
              "1    MI   96.7  Redbreast Robin    9.8\n",
              "2    WI   65.5   American Robin    5.7\n",
              "3    MN   86.9             Loon    5.3"
            ],
            "text/html": [
              "\n",
              "  <div id=\"df-4e17704f-3841-43f6-a075-86765e54eab9\">\n",
              "    <div class=\"colab-df-container\">\n",
              "      <div>\n",
              "<style scoped>\n",
              "    .dataframe tbody tr th:only-of-type {\n",
              "        vertical-align: middle;\n",
              "    }\n",
              "\n",
              "    .dataframe tbody tr th {\n",
              "        vertical-align: top;\n",
              "    }\n",
              "\n",
              "    .dataframe thead th {\n",
              "        text-align: right;\n",
              "    }\n",
              "</style>\n",
              "<table border=\"1\" class=\"dataframe\">\n",
              "  <thead>\n",
              "    <tr style=\"text-align: right;\">\n",
              "      <th></th>\n",
              "      <th>STATE</th>\n",
              "      <th>SIZE</th>\n",
              "      <th>BIRD</th>\n",
              "      <th>PEOPLE</th>\n",
              "    </tr>\n",
              "  </thead>\n",
              "  <tbody>\n",
              "    <tr>\n",
              "      <th>0</th>\n",
              "      <td>CA</td>\n",
              "      <td>163.7</td>\n",
              "      <td>Quail</td>\n",
              "      <td>37</td>\n",
              "    </tr>\n",
              "    <tr>\n",
              "      <th>1</th>\n",
              "      <td>MI</td>\n",
              "      <td>96.7</td>\n",
              "      <td>Redbreast Robin</td>\n",
              "      <td>9.8</td>\n",
              "    </tr>\n",
              "    <tr>\n",
              "      <th>2</th>\n",
              "      <td>WI</td>\n",
              "      <td>65.5</td>\n",
              "      <td>American Robin</td>\n",
              "      <td>5.7</td>\n",
              "    </tr>\n",
              "    <tr>\n",
              "      <th>3</th>\n",
              "      <td>MN</td>\n",
              "      <td>86.9</td>\n",
              "      <td>Loon</td>\n",
              "      <td>5.3</td>\n",
              "    </tr>\n",
              "  </tbody>\n",
              "</table>\n",
              "</div>\n",
              "      <button class=\"colab-df-convert\" onclick=\"convertToInteractive('df-4e17704f-3841-43f6-a075-86765e54eab9')\"\n",
              "              title=\"Convert this dataframe to an interactive table.\"\n",
              "              style=\"display:none;\">\n",
              "        \n",
              "  <svg xmlns=\"http://www.w3.org/2000/svg\" height=\"24px\"viewBox=\"0 0 24 24\"\n",
              "       width=\"24px\">\n",
              "    <path d=\"M0 0h24v24H0V0z\" fill=\"none\"/>\n",
              "    <path d=\"M18.56 5.44l.94 2.06.94-2.06 2.06-.94-2.06-.94-.94-2.06-.94 2.06-2.06.94zm-11 1L8.5 8.5l.94-2.06 2.06-.94-2.06-.94L8.5 2.5l-.94 2.06-2.06.94zm10 10l.94 2.06.94-2.06 2.06-.94-2.06-.94-.94-2.06-.94 2.06-2.06.94z\"/><path d=\"M17.41 7.96l-1.37-1.37c-.4-.4-.92-.59-1.43-.59-.52 0-1.04.2-1.43.59L10.3 9.45l-7.72 7.72c-.78.78-.78 2.05 0 2.83L4 21.41c.39.39.9.59 1.41.59.51 0 1.02-.2 1.41-.59l7.78-7.78 2.81-2.81c.8-.78.8-2.07 0-2.86zM5.41 20L4 18.59l7.72-7.72 1.47 1.35L5.41 20z\"/>\n",
              "  </svg>\n",
              "      </button>\n",
              "      \n",
              "  <style>\n",
              "    .colab-df-container {\n",
              "      display:flex;\n",
              "      flex-wrap:wrap;\n",
              "      gap: 12px;\n",
              "    }\n",
              "\n",
              "    .colab-df-convert {\n",
              "      background-color: #E8F0FE;\n",
              "      border: none;\n",
              "      border-radius: 50%;\n",
              "      cursor: pointer;\n",
              "      display: none;\n",
              "      fill: #1967D2;\n",
              "      height: 32px;\n",
              "      padding: 0 0 0 0;\n",
              "      width: 32px;\n",
              "    }\n",
              "\n",
              "    .colab-df-convert:hover {\n",
              "      background-color: #E2EBFA;\n",
              "      box-shadow: 0px 1px 2px rgba(60, 64, 67, 0.3), 0px 1px 3px 1px rgba(60, 64, 67, 0.15);\n",
              "      fill: #174EA6;\n",
              "    }\n",
              "\n",
              "    [theme=dark] .colab-df-convert {\n",
              "      background-color: #3B4455;\n",
              "      fill: #D2E3FC;\n",
              "    }\n",
              "\n",
              "    [theme=dark] .colab-df-convert:hover {\n",
              "      background-color: #434B5C;\n",
              "      box-shadow: 0px 1px 3px 1px rgba(0, 0, 0, 0.15);\n",
              "      filter: drop-shadow(0px 1px 2px rgba(0, 0, 0, 0.3));\n",
              "      fill: #FFFFFF;\n",
              "    }\n",
              "  </style>\n",
              "\n",
              "      <script>\n",
              "        const buttonEl =\n",
              "          document.querySelector('#df-4e17704f-3841-43f6-a075-86765e54eab9 button.colab-df-convert');\n",
              "        buttonEl.style.display =\n",
              "          google.colab.kernel.accessAllowed ? 'block' : 'none';\n",
              "\n",
              "        async function convertToInteractive(key) {\n",
              "          const element = document.querySelector('#df-4e17704f-3841-43f6-a075-86765e54eab9');\n",
              "          const dataTable =\n",
              "            await google.colab.kernel.invokeFunction('convertToInteractive',\n",
              "                                                     [key], {});\n",
              "          if (!dataTable) return;\n",
              "\n",
              "          const docLinkHtml = 'Like what you see? Visit the ' +\n",
              "            '<a target=\"_blank\" href=https://colab.research.google.com/notebooks/data_table.ipynb>data table notebook</a>'\n",
              "            + ' to learn more about interactive tables.';\n",
              "          element.innerHTML = '';\n",
              "          dataTable['output_type'] = 'display_data';\n",
              "          await google.colab.output.renderOutput(dataTable, element);\n",
              "          const docLink = document.createElement('div');\n",
              "          docLink.innerHTML = docLinkHtml;\n",
              "          element.appendChild(docLink);\n",
              "        }\n",
              "      </script>\n",
              "    </div>\n",
              "  </div>\n",
              "  "
            ]
          },
          "metadata": {},
          "execution_count": 241
        }
      ],
      "source": [
        "# Relembrando o que df.columns retorna?\n",
        "print(states.columns)\n",
        "\n",
        "# Uppercase\n",
        "states.columns = [col_name.upper() for col_name in states.columns]\n",
        "states"
      ]
    },
    {
      "cell_type": "markdown",
      "metadata": {
        "id": "ifF3X6fb9bg1"
      },
      "source": [
        "Agora podemos ver que o atributo `columns` retorna um objeto iterável. Como um intervalo ou uma lista, `states.columns` sabe distribuir os nomes das colunas quando consultado por um loop for. Excelente."
      ]
    },
    {
      "cell_type": "markdown",
      "metadata": {
        "id": "_IpL2zZB9bg1"
      },
      "source": [
        "### Mais sobre Linhas de DataFrame\n",
        "Como pegamos uma linha ou um subconjunto de linhas? Podemos recorrer ao `iloc` novamente..."
      ]
    },
    {
      "cell_type": "code",
      "execution_count": 242,
      "metadata": {
        "id": "gPuYmrY89bg1",
        "colab": {
          "base_uri": "https://localhost:8080/"
        },
        "outputId": "288a74dd-9f36-4c54-8d11-3f7f624db490"
      },
      "outputs": [
        {
          "output_type": "stream",
          "name": "stdout",
          "text": [
            "STATE                 WI\n",
            "SIZE                65.5\n",
            "BIRD      American Robin\n",
            "PEOPLE               5.7\n",
            "Name: 2, dtype: object\n"
          ]
        }
      ],
      "source": [
        "print(states.iloc[2,:])      #Selecionar a terceira linha e todas as colunas"
      ]
    },
    {
      "cell_type": "markdown",
      "metadata": {
        "id": "ohvmmG_w9bg2"
      },
      "source": [
        "...mas isso ainda está sujeito a problemas com a reordenação de linhas. Também é menos provável que queiramos tomar uma linha em uma posição específica. É mais provável que queiramos uma linha correspondente a uma condicional."
      ]
    },
    {
      "cell_type": "code",
      "execution_count": 243,
      "metadata": {
        "id": "JK5aat_G9bg2",
        "colab": {
          "base_uri": "https://localhost:8080/",
          "height": 81
        },
        "outputId": "85556eb4-7fc7-4813-ca88-c5b9ab142cdd"
      },
      "outputs": [
        {
          "output_type": "execute_result",
          "data": {
            "text/plain": [
              "  STATE  SIZE  BIRD PEOPLE\n",
              "3    MN  86.9  Loon    5.3"
            ],
            "text/html": [
              "\n",
              "  <div id=\"df-6fb28038-c4a1-4f9e-af51-6356b8e10483\">\n",
              "    <div class=\"colab-df-container\">\n",
              "      <div>\n",
              "<style scoped>\n",
              "    .dataframe tbody tr th:only-of-type {\n",
              "        vertical-align: middle;\n",
              "    }\n",
              "\n",
              "    .dataframe tbody tr th {\n",
              "        vertical-align: top;\n",
              "    }\n",
              "\n",
              "    .dataframe thead th {\n",
              "        text-align: right;\n",
              "    }\n",
              "</style>\n",
              "<table border=\"1\" class=\"dataframe\">\n",
              "  <thead>\n",
              "    <tr style=\"text-align: right;\">\n",
              "      <th></th>\n",
              "      <th>STATE</th>\n",
              "      <th>SIZE</th>\n",
              "      <th>BIRD</th>\n",
              "      <th>PEOPLE</th>\n",
              "    </tr>\n",
              "  </thead>\n",
              "  <tbody>\n",
              "    <tr>\n",
              "      <th>3</th>\n",
              "      <td>MN</td>\n",
              "      <td>86.9</td>\n",
              "      <td>Loon</td>\n",
              "      <td>5.3</td>\n",
              "    </tr>\n",
              "  </tbody>\n",
              "</table>\n",
              "</div>\n",
              "      <button class=\"colab-df-convert\" onclick=\"convertToInteractive('df-6fb28038-c4a1-4f9e-af51-6356b8e10483')\"\n",
              "              title=\"Convert this dataframe to an interactive table.\"\n",
              "              style=\"display:none;\">\n",
              "        \n",
              "  <svg xmlns=\"http://www.w3.org/2000/svg\" height=\"24px\"viewBox=\"0 0 24 24\"\n",
              "       width=\"24px\">\n",
              "    <path d=\"M0 0h24v24H0V0z\" fill=\"none\"/>\n",
              "    <path d=\"M18.56 5.44l.94 2.06.94-2.06 2.06-.94-2.06-.94-.94-2.06-.94 2.06-2.06.94zm-11 1L8.5 8.5l.94-2.06 2.06-.94-2.06-.94L8.5 2.5l-.94 2.06-2.06.94zm10 10l.94 2.06.94-2.06 2.06-.94-2.06-.94-.94-2.06-.94 2.06-2.06.94z\"/><path d=\"M17.41 7.96l-1.37-1.37c-.4-.4-.92-.59-1.43-.59-.52 0-1.04.2-1.43.59L10.3 9.45l-7.72 7.72c-.78.78-.78 2.05 0 2.83L4 21.41c.39.39.9.59 1.41.59.51 0 1.02-.2 1.41-.59l7.78-7.78 2.81-2.81c.8-.78.8-2.07 0-2.86zM5.41 20L4 18.59l7.72-7.72 1.47 1.35L5.41 20z\"/>\n",
              "  </svg>\n",
              "      </button>\n",
              "      \n",
              "  <style>\n",
              "    .colab-df-container {\n",
              "      display:flex;\n",
              "      flex-wrap:wrap;\n",
              "      gap: 12px;\n",
              "    }\n",
              "\n",
              "    .colab-df-convert {\n",
              "      background-color: #E8F0FE;\n",
              "      border: none;\n",
              "      border-radius: 50%;\n",
              "      cursor: pointer;\n",
              "      display: none;\n",
              "      fill: #1967D2;\n",
              "      height: 32px;\n",
              "      padding: 0 0 0 0;\n",
              "      width: 32px;\n",
              "    }\n",
              "\n",
              "    .colab-df-convert:hover {\n",
              "      background-color: #E2EBFA;\n",
              "      box-shadow: 0px 1px 2px rgba(60, 64, 67, 0.3), 0px 1px 3px 1px rgba(60, 64, 67, 0.15);\n",
              "      fill: #174EA6;\n",
              "    }\n",
              "\n",
              "    [theme=dark] .colab-df-convert {\n",
              "      background-color: #3B4455;\n",
              "      fill: #D2E3FC;\n",
              "    }\n",
              "\n",
              "    [theme=dark] .colab-df-convert:hover {\n",
              "      background-color: #434B5C;\n",
              "      box-shadow: 0px 1px 3px 1px rgba(0, 0, 0, 0.15);\n",
              "      filter: drop-shadow(0px 1px 2px rgba(0, 0, 0, 0.3));\n",
              "      fill: #FFFFFF;\n",
              "    }\n",
              "  </style>\n",
              "\n",
              "      <script>\n",
              "        const buttonEl =\n",
              "          document.querySelector('#df-6fb28038-c4a1-4f9e-af51-6356b8e10483 button.colab-df-convert');\n",
              "        buttonEl.style.display =\n",
              "          google.colab.kernel.accessAllowed ? 'block' : 'none';\n",
              "\n",
              "        async function convertToInteractive(key) {\n",
              "          const element = document.querySelector('#df-6fb28038-c4a1-4f9e-af51-6356b8e10483');\n",
              "          const dataTable =\n",
              "            await google.colab.kernel.invokeFunction('convertToInteractive',\n",
              "                                                     [key], {});\n",
              "          if (!dataTable) return;\n",
              "\n",
              "          const docLinkHtml = 'Like what you see? Visit the ' +\n",
              "            '<a target=\"_blank\" href=https://colab.research.google.com/notebooks/data_table.ipynb>data table notebook</a>'\n",
              "            + ' to learn more about interactive tables.';\n",
              "          element.innerHTML = '';\n",
              "          dataTable['output_type'] = 'display_data';\n",
              "          await google.colab.output.renderOutput(dataTable, element);\n",
              "          const docLink = document.createElement('div');\n",
              "          docLink.innerHTML = docLinkHtml;\n",
              "          element.appendChild(docLink);\n",
              "        }\n",
              "      </script>\n",
              "    </div>\n",
              "  </div>\n",
              "  "
            ]
          },
          "metadata": {},
          "execution_count": 243
        }
      ],
      "source": [
        "states[states['STATE']=='MN']   # obter a linha equivalente ao Minnesota (MN)"
      ]
    },
    {
      "cell_type": "markdown",
      "metadata": {
        "id": "TdbST-zN9bg2"
      },
      "source": [
        "Vamos quebrar isso. Primeiro, perguntamos quais linhas têm STATE igual a MN."
      ]
    },
    {
      "cell_type": "code",
      "execution_count": 244,
      "metadata": {
        "id": "oA9KjXUt9bg2",
        "colab": {
          "base_uri": "https://localhost:8080/"
        },
        "outputId": "224c1744-49b0-4e07-ff82-d1204c0f23bf"
      },
      "outputs": [
        {
          "output_type": "stream",
          "name": "stdout",
          "text": [
            "0    False\n",
            "1    False\n",
            "2    False\n",
            "3     True\n",
            "Name: STATE, dtype: bool\n",
            "<class 'pandas.core.series.Series'>\n"
          ]
        }
      ],
      "source": [
        "print(states['STATE']=='MN' )\n",
        "print(type(states['STATE']=='MN'))"
      ]
    },
    {
      "cell_type": "markdown",
      "metadata": {
        "id": "uDeG_liA9bg2"
      },
      "source": [
        "Isso está retornando uma série de bools. Quando entregamos a Série ao DataFrame, ele apenas pega as linhas que são verdadeiras."
      ]
    },
    {
      "cell_type": "markdown",
      "metadata": {
        "id": "fBFmnqSL9bg2"
      },
      "source": [
        "### Alterando o índice da linha\n",
        "Podemos simplificar nossas vidas e nos livrar de um índice que não nos diz nada útil sobre os dados alterando o índice. A unidade de observação em `states` é um estado. Parece um bom índice."
      ]
    },
    {
      "cell_type": "code",
      "execution_count": 245,
      "metadata": {
        "id": "f4IcwsB19bg2",
        "colab": {
          "base_uri": "https://localhost:8080/"
        },
        "outputId": "80f1d443-b026-42f4-fefd-6662c1a55705"
      },
      "outputs": [
        {
          "output_type": "stream",
          "name": "stdout",
          "text": [
            "        SIZE             BIRD PEOPLE\n",
            "STATE                               \n",
            "CA     163.7            Quail     37\n",
            "MI      96.7  Redbreast Robin    9.8\n",
            "WI      65.5   American Robin    5.7\n",
            "MN      86.9             Loon    5.3\n",
            "\n",
            "\n",
            "  STATE   SIZE             BIRD PEOPLE\n",
            "0    CA  163.7            Quail     37\n",
            "1    MI   96.7  Redbreast Robin    9.8\n",
            "2    WI   65.5   American Robin    5.7\n",
            "3    MN   86.9             Loon    5.3\n"
          ]
        }
      ],
      "source": [
        "states_new_index = states.set_index('STATE')   # A coluna 'STATE' será o novo índice\n",
        "\n",
        "print(states_new_index)\n",
        "print('\\n')\n",
        "print(states)"
      ]
    },
    {
      "cell_type": "code",
      "source": [
        "states_new_index.index.to_list()"
      ],
      "metadata": {
        "colab": {
          "base_uri": "https://localhost:8080/"
        },
        "id": "nzwTMs39sjzW",
        "outputId": "90014f0f-b67b-4b49-fcf9-464003997286"
      },
      "execution_count": 246,
      "outputs": [
        {
          "output_type": "execute_result",
          "data": {
            "text/plain": [
              "['CA', 'MI', 'WI', 'MN']"
            ]
          },
          "metadata": {},
          "execution_count": 246
        }
      ]
    },
    {
      "cell_type": "code",
      "source": [
        "print(states_new_index.iloc[:, 2]) # podemos realizar fatiamento de células com iloc...\n",
        "# print(states_new_index.iloc['WI']) # ...mas não acessar valores non-integers"
      ],
      "metadata": {
        "colab": {
          "base_uri": "https://localhost:8080/"
        },
        "id": "DEnaHtcYsy1G",
        "outputId": "dcdb6b18-9088-4ee4-db1e-0c493e16d383"
      },
      "execution_count": 247,
      "outputs": [
        {
          "output_type": "stream",
          "name": "stdout",
          "text": [
            "STATE\n",
            "CA     37\n",
            "MI    9.8\n",
            "WI    5.7\n",
            "MN    5.3\n",
            "Name: PEOPLE, dtype: object\n"
          ]
        }
      ]
    },
    {
      "cell_type": "markdown",
      "metadata": {
        "id": "BEGU1vN89bg3"
      },
      "source": [
        "O índice agora são as abreviações de estado e não a sequência de números inteiros. O que isso significa? Uma maneira mais simples de referenciar uma coluna usando o método `loc`. Este é **loc**, não iloc!\n",
        "\n",
        "\\[Novamente, observe que o `set_index` não operou no local. Ele criou uma cópia que eu atribuí à nova variável. `set_index` também recebe o argumento `inplace`.\\]"
      ]
    },
    {
      "cell_type": "code",
      "execution_count": 248,
      "metadata": {
        "id": "S24FtX449bg3",
        "colab": {
          "base_uri": "https://localhost:8080/"
        },
        "outputId": "f8ba22f8-dd18-4b62-9bc0-38ed0aefada6"
      },
      "outputs": [
        {
          "output_type": "stream",
          "name": "stdout",
          "text": [
            "SIZE      86.9\n",
            "BIRD      Loon\n",
            "PEOPLE     5.3\n",
            "Name: MN, dtype: object\n"
          ]
        }
      ],
      "source": [
        "print(states_new_index.loc['MN'])   # busca a linha cujo indice corresponde a MN"
      ]
    },
    {
      "cell_type": "markdown",
      "metadata": {
        "id": "_YEOqWWD9bg3"
      },
      "source": [
        "Muito agradável. Suponha que você se arrependa de sua escolha de índice. Você está arruinado? Não."
      ]
    },
    {
      "cell_type": "code",
      "execution_count": 249,
      "metadata": {
        "id": "UXc7SMNJ9bg3",
        "colab": {
          "base_uri": "https://localhost:8080/",
          "height": 175
        },
        "outputId": "32ccb9da-059d-4531-8b92-4b2a7e5043c9"
      },
      "outputs": [
        {
          "output_type": "execute_result",
          "data": {
            "text/plain": [
              "  STATE   SIZE             BIRD PEOPLE\n",
              "0    CA  163.7            Quail     37\n",
              "1    MI   96.7  Redbreast Robin    9.8\n",
              "2    WI   65.5   American Robin    5.7\n",
              "3    MN   86.9             Loon    5.3"
            ],
            "text/html": [
              "\n",
              "  <div id=\"df-1a4b74ad-d368-4379-8986-926725a6d4d9\">\n",
              "    <div class=\"colab-df-container\">\n",
              "      <div>\n",
              "<style scoped>\n",
              "    .dataframe tbody tr th:only-of-type {\n",
              "        vertical-align: middle;\n",
              "    }\n",
              "\n",
              "    .dataframe tbody tr th {\n",
              "        vertical-align: top;\n",
              "    }\n",
              "\n",
              "    .dataframe thead th {\n",
              "        text-align: right;\n",
              "    }\n",
              "</style>\n",
              "<table border=\"1\" class=\"dataframe\">\n",
              "  <thead>\n",
              "    <tr style=\"text-align: right;\">\n",
              "      <th></th>\n",
              "      <th>STATE</th>\n",
              "      <th>SIZE</th>\n",
              "      <th>BIRD</th>\n",
              "      <th>PEOPLE</th>\n",
              "    </tr>\n",
              "  </thead>\n",
              "  <tbody>\n",
              "    <tr>\n",
              "      <th>0</th>\n",
              "      <td>CA</td>\n",
              "      <td>163.7</td>\n",
              "      <td>Quail</td>\n",
              "      <td>37</td>\n",
              "    </tr>\n",
              "    <tr>\n",
              "      <th>1</th>\n",
              "      <td>MI</td>\n",
              "      <td>96.7</td>\n",
              "      <td>Redbreast Robin</td>\n",
              "      <td>9.8</td>\n",
              "    </tr>\n",
              "    <tr>\n",
              "      <th>2</th>\n",
              "      <td>WI</td>\n",
              "      <td>65.5</td>\n",
              "      <td>American Robin</td>\n",
              "      <td>5.7</td>\n",
              "    </tr>\n",
              "    <tr>\n",
              "      <th>3</th>\n",
              "      <td>MN</td>\n",
              "      <td>86.9</td>\n",
              "      <td>Loon</td>\n",
              "      <td>5.3</td>\n",
              "    </tr>\n",
              "  </tbody>\n",
              "</table>\n",
              "</div>\n",
              "      <button class=\"colab-df-convert\" onclick=\"convertToInteractive('df-1a4b74ad-d368-4379-8986-926725a6d4d9')\"\n",
              "              title=\"Convert this dataframe to an interactive table.\"\n",
              "              style=\"display:none;\">\n",
              "        \n",
              "  <svg xmlns=\"http://www.w3.org/2000/svg\" height=\"24px\"viewBox=\"0 0 24 24\"\n",
              "       width=\"24px\">\n",
              "    <path d=\"M0 0h24v24H0V0z\" fill=\"none\"/>\n",
              "    <path d=\"M18.56 5.44l.94 2.06.94-2.06 2.06-.94-2.06-.94-.94-2.06-.94 2.06-2.06.94zm-11 1L8.5 8.5l.94-2.06 2.06-.94-2.06-.94L8.5 2.5l-.94 2.06-2.06.94zm10 10l.94 2.06.94-2.06 2.06-.94-2.06-.94-.94-2.06-.94 2.06-2.06.94z\"/><path d=\"M17.41 7.96l-1.37-1.37c-.4-.4-.92-.59-1.43-.59-.52 0-1.04.2-1.43.59L10.3 9.45l-7.72 7.72c-.78.78-.78 2.05 0 2.83L4 21.41c.39.39.9.59 1.41.59.51 0 1.02-.2 1.41-.59l7.78-7.78 2.81-2.81c.8-.78.8-2.07 0-2.86zM5.41 20L4 18.59l7.72-7.72 1.47 1.35L5.41 20z\"/>\n",
              "  </svg>\n",
              "      </button>\n",
              "      \n",
              "  <style>\n",
              "    .colab-df-container {\n",
              "      display:flex;\n",
              "      flex-wrap:wrap;\n",
              "      gap: 12px;\n",
              "    }\n",
              "\n",
              "    .colab-df-convert {\n",
              "      background-color: #E8F0FE;\n",
              "      border: none;\n",
              "      border-radius: 50%;\n",
              "      cursor: pointer;\n",
              "      display: none;\n",
              "      fill: #1967D2;\n",
              "      height: 32px;\n",
              "      padding: 0 0 0 0;\n",
              "      width: 32px;\n",
              "    }\n",
              "\n",
              "    .colab-df-convert:hover {\n",
              "      background-color: #E2EBFA;\n",
              "      box-shadow: 0px 1px 2px rgba(60, 64, 67, 0.3), 0px 1px 3px 1px rgba(60, 64, 67, 0.15);\n",
              "      fill: #174EA6;\n",
              "    }\n",
              "\n",
              "    [theme=dark] .colab-df-convert {\n",
              "      background-color: #3B4455;\n",
              "      fill: #D2E3FC;\n",
              "    }\n",
              "\n",
              "    [theme=dark] .colab-df-convert:hover {\n",
              "      background-color: #434B5C;\n",
              "      box-shadow: 0px 1px 3px 1px rgba(0, 0, 0, 0.15);\n",
              "      filter: drop-shadow(0px 1px 2px rgba(0, 0, 0, 0.3));\n",
              "      fill: #FFFFFF;\n",
              "    }\n",
              "  </style>\n",
              "\n",
              "      <script>\n",
              "        const buttonEl =\n",
              "          document.querySelector('#df-1a4b74ad-d368-4379-8986-926725a6d4d9 button.colab-df-convert');\n",
              "        buttonEl.style.display =\n",
              "          google.colab.kernel.accessAllowed ? 'block' : 'none';\n",
              "\n",
              "        async function convertToInteractive(key) {\n",
              "          const element = document.querySelector('#df-1a4b74ad-d368-4379-8986-926725a6d4d9');\n",
              "          const dataTable =\n",
              "            await google.colab.kernel.invokeFunction('convertToInteractive',\n",
              "                                                     [key], {});\n",
              "          if (!dataTable) return;\n",
              "\n",
              "          const docLinkHtml = 'Like what you see? Visit the ' +\n",
              "            '<a target=\"_blank\" href=https://colab.research.google.com/notebooks/data_table.ipynb>data table notebook</a>'\n",
              "            + ' to learn more about interactive tables.';\n",
              "          element.innerHTML = '';\n",
              "          dataTable['output_type'] = 'display_data';\n",
              "          await google.colab.output.renderOutput(dataTable, element);\n",
              "          const docLink = document.createElement('div');\n",
              "          docLink.innerHTML = docLinkHtml;\n",
              "          element.appendChild(docLink);\n",
              "        }\n",
              "      </script>\n",
              "    </div>\n",
              "  </div>\n",
              "  "
            ]
          },
          "metadata": {},
          "execution_count": 249
        }
      ],
      "source": [
        "states_undo = states_new_index.reset_index()    # reseta o índice para numeros inteiros e retorna 'STATE' como uma coluna\n",
        "states_undo"
      ]
    },
    {
      "cell_type": "markdown",
      "metadata": {
        "id": "Briyj6Wl9bg3"
      },
      "source": [
        "### Excluindo linhas e colunas\n",
        "Para remover uma linha ou coluna, usamos o método `drop()`. O método drop é nossa primeira introdução ao argumento **axis**. Os DataFrames têm dois eixos. Nós os chamamos de linhas e colunas, mas os pandas pensam neles como **linhas = 0 e colunas = 1.**\n",
        "\n",
        "A seguir, queremos remover a coluna 'SIZE', mas também pode haver um índice de linha 'SIZE', portanto, precisamos informar ao drop onde procurar 'SIZE'. Novamente, usamos inplace se não quisermos criar uma cópia."
      ]
    },
    {
      "cell_type": "code",
      "source": [
        "states_new_index_subset = states_new_index.drop('MI', axis=0)\n",
        "states_new_index_subset"
      ],
      "metadata": {
        "colab": {
          "base_uri": "https://localhost:8080/",
          "height": 175
        },
        "id": "My-28Z59tW-G",
        "outputId": "854e3529-5db1-4ea7-b030-56d1b3560712"
      },
      "execution_count": 250,
      "outputs": [
        {
          "output_type": "execute_result",
          "data": {
            "text/plain": [
              "        SIZE            BIRD PEOPLE\n",
              "STATE                              \n",
              "CA     163.7           Quail     37\n",
              "WI      65.5  American Robin    5.7\n",
              "MN      86.9            Loon    5.3"
            ],
            "text/html": [
              "\n",
              "  <div id=\"df-8a19cc90-86b2-48c3-a542-fa9505beb3c1\">\n",
              "    <div class=\"colab-df-container\">\n",
              "      <div>\n",
              "<style scoped>\n",
              "    .dataframe tbody tr th:only-of-type {\n",
              "        vertical-align: middle;\n",
              "    }\n",
              "\n",
              "    .dataframe tbody tr th {\n",
              "        vertical-align: top;\n",
              "    }\n",
              "\n",
              "    .dataframe thead th {\n",
              "        text-align: right;\n",
              "    }\n",
              "</style>\n",
              "<table border=\"1\" class=\"dataframe\">\n",
              "  <thead>\n",
              "    <tr style=\"text-align: right;\">\n",
              "      <th></th>\n",
              "      <th>SIZE</th>\n",
              "      <th>BIRD</th>\n",
              "      <th>PEOPLE</th>\n",
              "    </tr>\n",
              "    <tr>\n",
              "      <th>STATE</th>\n",
              "      <th></th>\n",
              "      <th></th>\n",
              "      <th></th>\n",
              "    </tr>\n",
              "  </thead>\n",
              "  <tbody>\n",
              "    <tr>\n",
              "      <th>CA</th>\n",
              "      <td>163.7</td>\n",
              "      <td>Quail</td>\n",
              "      <td>37</td>\n",
              "    </tr>\n",
              "    <tr>\n",
              "      <th>WI</th>\n",
              "      <td>65.5</td>\n",
              "      <td>American Robin</td>\n",
              "      <td>5.7</td>\n",
              "    </tr>\n",
              "    <tr>\n",
              "      <th>MN</th>\n",
              "      <td>86.9</td>\n",
              "      <td>Loon</td>\n",
              "      <td>5.3</td>\n",
              "    </tr>\n",
              "  </tbody>\n",
              "</table>\n",
              "</div>\n",
              "      <button class=\"colab-df-convert\" onclick=\"convertToInteractive('df-8a19cc90-86b2-48c3-a542-fa9505beb3c1')\"\n",
              "              title=\"Convert this dataframe to an interactive table.\"\n",
              "              style=\"display:none;\">\n",
              "        \n",
              "  <svg xmlns=\"http://www.w3.org/2000/svg\" height=\"24px\"viewBox=\"0 0 24 24\"\n",
              "       width=\"24px\">\n",
              "    <path d=\"M0 0h24v24H0V0z\" fill=\"none\"/>\n",
              "    <path d=\"M18.56 5.44l.94 2.06.94-2.06 2.06-.94-2.06-.94-.94-2.06-.94 2.06-2.06.94zm-11 1L8.5 8.5l.94-2.06 2.06-.94-2.06-.94L8.5 2.5l-.94 2.06-2.06.94zm10 10l.94 2.06.94-2.06 2.06-.94-2.06-.94-.94-2.06-.94 2.06-2.06.94z\"/><path d=\"M17.41 7.96l-1.37-1.37c-.4-.4-.92-.59-1.43-.59-.52 0-1.04.2-1.43.59L10.3 9.45l-7.72 7.72c-.78.78-.78 2.05 0 2.83L4 21.41c.39.39.9.59 1.41.59.51 0 1.02-.2 1.41-.59l7.78-7.78 2.81-2.81c.8-.78.8-2.07 0-2.86zM5.41 20L4 18.59l7.72-7.72 1.47 1.35L5.41 20z\"/>\n",
              "  </svg>\n",
              "      </button>\n",
              "      \n",
              "  <style>\n",
              "    .colab-df-container {\n",
              "      display:flex;\n",
              "      flex-wrap:wrap;\n",
              "      gap: 12px;\n",
              "    }\n",
              "\n",
              "    .colab-df-convert {\n",
              "      background-color: #E8F0FE;\n",
              "      border: none;\n",
              "      border-radius: 50%;\n",
              "      cursor: pointer;\n",
              "      display: none;\n",
              "      fill: #1967D2;\n",
              "      height: 32px;\n",
              "      padding: 0 0 0 0;\n",
              "      width: 32px;\n",
              "    }\n",
              "\n",
              "    .colab-df-convert:hover {\n",
              "      background-color: #E2EBFA;\n",
              "      box-shadow: 0px 1px 2px rgba(60, 64, 67, 0.3), 0px 1px 3px 1px rgba(60, 64, 67, 0.15);\n",
              "      fill: #174EA6;\n",
              "    }\n",
              "\n",
              "    [theme=dark] .colab-df-convert {\n",
              "      background-color: #3B4455;\n",
              "      fill: #D2E3FC;\n",
              "    }\n",
              "\n",
              "    [theme=dark] .colab-df-convert:hover {\n",
              "      background-color: #434B5C;\n",
              "      box-shadow: 0px 1px 3px 1px rgba(0, 0, 0, 0.15);\n",
              "      filter: drop-shadow(0px 1px 2px rgba(0, 0, 0, 0.3));\n",
              "      fill: #FFFFFF;\n",
              "    }\n",
              "  </style>\n",
              "\n",
              "      <script>\n",
              "        const buttonEl =\n",
              "          document.querySelector('#df-8a19cc90-86b2-48c3-a542-fa9505beb3c1 button.colab-df-convert');\n",
              "        buttonEl.style.display =\n",
              "          google.colab.kernel.accessAllowed ? 'block' : 'none';\n",
              "\n",
              "        async function convertToInteractive(key) {\n",
              "          const element = document.querySelector('#df-8a19cc90-86b2-48c3-a542-fa9505beb3c1');\n",
              "          const dataTable =\n",
              "            await google.colab.kernel.invokeFunction('convertToInteractive',\n",
              "                                                     [key], {});\n",
              "          if (!dataTable) return;\n",
              "\n",
              "          const docLinkHtml = 'Like what you see? Visit the ' +\n",
              "            '<a target=\"_blank\" href=https://colab.research.google.com/notebooks/data_table.ipynb>data table notebook</a>'\n",
              "            + ' to learn more about interactive tables.';\n",
              "          element.innerHTML = '';\n",
              "          dataTable['output_type'] = 'display_data';\n",
              "          await google.colab.output.renderOutput(dataTable, element);\n",
              "          const docLink = document.createElement('div');\n",
              "          docLink.innerHTML = docLinkHtml;\n",
              "          element.appendChild(docLink);\n",
              "        }\n",
              "      </script>\n",
              "    </div>\n",
              "  </div>\n",
              "  "
            ]
          },
          "metadata": {},
          "execution_count": 250
        }
      ]
    },
    {
      "cell_type": "code",
      "execution_count": 251,
      "metadata": {
        "id": "5V9HiSBm9bg3",
        "colab": {
          "base_uri": "https://localhost:8080/",
          "height": 175
        },
        "outputId": "2d2155a3-3292-400d-ed09-7da13564345e"
      },
      "outputs": [
        {
          "output_type": "execute_result",
          "data": {
            "text/plain": [
              "  STATE             BIRD PEOPLE\n",
              "0    CA            Quail     37\n",
              "1    MI  Redbreast Robin    9.8\n",
              "2    WI   American Robin    5.7\n",
              "3    MN             Loon    5.3"
            ],
            "text/html": [
              "\n",
              "  <div id=\"df-1afb05e6-aae3-4a8a-bc66-d5658c976a05\">\n",
              "    <div class=\"colab-df-container\">\n",
              "      <div>\n",
              "<style scoped>\n",
              "    .dataframe tbody tr th:only-of-type {\n",
              "        vertical-align: middle;\n",
              "    }\n",
              "\n",
              "    .dataframe tbody tr th {\n",
              "        vertical-align: top;\n",
              "    }\n",
              "\n",
              "    .dataframe thead th {\n",
              "        text-align: right;\n",
              "    }\n",
              "</style>\n",
              "<table border=\"1\" class=\"dataframe\">\n",
              "  <thead>\n",
              "    <tr style=\"text-align: right;\">\n",
              "      <th></th>\n",
              "      <th>STATE</th>\n",
              "      <th>BIRD</th>\n",
              "      <th>PEOPLE</th>\n",
              "    </tr>\n",
              "  </thead>\n",
              "  <tbody>\n",
              "    <tr>\n",
              "      <th>0</th>\n",
              "      <td>CA</td>\n",
              "      <td>Quail</td>\n",
              "      <td>37</td>\n",
              "    </tr>\n",
              "    <tr>\n",
              "      <th>1</th>\n",
              "      <td>MI</td>\n",
              "      <td>Redbreast Robin</td>\n",
              "      <td>9.8</td>\n",
              "    </tr>\n",
              "    <tr>\n",
              "      <th>2</th>\n",
              "      <td>WI</td>\n",
              "      <td>American Robin</td>\n",
              "      <td>5.7</td>\n",
              "    </tr>\n",
              "    <tr>\n",
              "      <th>3</th>\n",
              "      <td>MN</td>\n",
              "      <td>Loon</td>\n",
              "      <td>5.3</td>\n",
              "    </tr>\n",
              "  </tbody>\n",
              "</table>\n",
              "</div>\n",
              "      <button class=\"colab-df-convert\" onclick=\"convertToInteractive('df-1afb05e6-aae3-4a8a-bc66-d5658c976a05')\"\n",
              "              title=\"Convert this dataframe to an interactive table.\"\n",
              "              style=\"display:none;\">\n",
              "        \n",
              "  <svg xmlns=\"http://www.w3.org/2000/svg\" height=\"24px\"viewBox=\"0 0 24 24\"\n",
              "       width=\"24px\">\n",
              "    <path d=\"M0 0h24v24H0V0z\" fill=\"none\"/>\n",
              "    <path d=\"M18.56 5.44l.94 2.06.94-2.06 2.06-.94-2.06-.94-.94-2.06-.94 2.06-2.06.94zm-11 1L8.5 8.5l.94-2.06 2.06-.94-2.06-.94L8.5 2.5l-.94 2.06-2.06.94zm10 10l.94 2.06.94-2.06 2.06-.94-2.06-.94-.94-2.06-.94 2.06-2.06.94z\"/><path d=\"M17.41 7.96l-1.37-1.37c-.4-.4-.92-.59-1.43-.59-.52 0-1.04.2-1.43.59L10.3 9.45l-7.72 7.72c-.78.78-.78 2.05 0 2.83L4 21.41c.39.39.9.59 1.41.59.51 0 1.02-.2 1.41-.59l7.78-7.78 2.81-2.81c.8-.78.8-2.07 0-2.86zM5.41 20L4 18.59l7.72-7.72 1.47 1.35L5.41 20z\"/>\n",
              "  </svg>\n",
              "      </button>\n",
              "      \n",
              "  <style>\n",
              "    .colab-df-container {\n",
              "      display:flex;\n",
              "      flex-wrap:wrap;\n",
              "      gap: 12px;\n",
              "    }\n",
              "\n",
              "    .colab-df-convert {\n",
              "      background-color: #E8F0FE;\n",
              "      border: none;\n",
              "      border-radius: 50%;\n",
              "      cursor: pointer;\n",
              "      display: none;\n",
              "      fill: #1967D2;\n",
              "      height: 32px;\n",
              "      padding: 0 0 0 0;\n",
              "      width: 32px;\n",
              "    }\n",
              "\n",
              "    .colab-df-convert:hover {\n",
              "      background-color: #E2EBFA;\n",
              "      box-shadow: 0px 1px 2px rgba(60, 64, 67, 0.3), 0px 1px 3px 1px rgba(60, 64, 67, 0.15);\n",
              "      fill: #174EA6;\n",
              "    }\n",
              "\n",
              "    [theme=dark] .colab-df-convert {\n",
              "      background-color: #3B4455;\n",
              "      fill: #D2E3FC;\n",
              "    }\n",
              "\n",
              "    [theme=dark] .colab-df-convert:hover {\n",
              "      background-color: #434B5C;\n",
              "      box-shadow: 0px 1px 3px 1px rgba(0, 0, 0, 0.15);\n",
              "      filter: drop-shadow(0px 1px 2px rgba(0, 0, 0, 0.3));\n",
              "      fill: #FFFFFF;\n",
              "    }\n",
              "  </style>\n",
              "\n",
              "      <script>\n",
              "        const buttonEl =\n",
              "          document.querySelector('#df-1afb05e6-aae3-4a8a-bc66-d5658c976a05 button.colab-df-convert');\n",
              "        buttonEl.style.display =\n",
              "          google.colab.kernel.accessAllowed ? 'block' : 'none';\n",
              "\n",
              "        async function convertToInteractive(key) {\n",
              "          const element = document.querySelector('#df-1afb05e6-aae3-4a8a-bc66-d5658c976a05');\n",
              "          const dataTable =\n",
              "            await google.colab.kernel.invokeFunction('convertToInteractive',\n",
              "                                                     [key], {});\n",
              "          if (!dataTable) return;\n",
              "\n",
              "          const docLinkHtml = 'Like what you see? Visit the ' +\n",
              "            '<a target=\"_blank\" href=https://colab.research.google.com/notebooks/data_table.ipynb>data table notebook</a>'\n",
              "            + ' to learn more about interactive tables.';\n",
              "          element.innerHTML = '';\n",
              "          dataTable['output_type'] = 'display_data';\n",
              "          await google.colab.output.renderOutput(dataTable, element);\n",
              "          const docLink = document.createElement('div');\n",
              "          docLink.innerHTML = docLinkHtml;\n",
              "          element.appendChild(docLink);\n",
              "        }\n",
              "      </script>\n",
              "    </div>\n",
              "  </div>\n",
              "  "
            ]
          },
          "metadata": {},
          "execution_count": 251
        }
      ],
      "source": [
        "states_subset = states.drop('SIZE', axis = 1)\n",
        "states_subset"
      ]
    },
    {
      "cell_type": "markdown",
      "metadata": {
        "id": "e2w4LXsd9bg3"
      },
      "source": [
        "A exclusão de uma linha funciona exatamente como você esperaria..."
      ]
    },
    {
      "cell_type": "code",
      "execution_count": 252,
      "metadata": {
        "id": "rlUOhTnn9bg4",
        "colab": {
          "base_uri": "https://localhost:8080/",
          "height": 143
        },
        "outputId": "214933b3-2346-48dc-fd97-ff6a5e4f45c3"
      },
      "outputs": [
        {
          "output_type": "execute_result",
          "data": {
            "text/plain": [
              "  STATE   SIZE             BIRD PEOPLE\n",
              "0    CA  163.7            Quail     37\n",
              "1    MI   96.7  Redbreast Robin    9.8\n",
              "2    WI   65.5   American Robin    5.7"
            ],
            "text/html": [
              "\n",
              "  <div id=\"df-b0521eaa-65b0-43af-9014-330a4062d5ce\">\n",
              "    <div class=\"colab-df-container\">\n",
              "      <div>\n",
              "<style scoped>\n",
              "    .dataframe tbody tr th:only-of-type {\n",
              "        vertical-align: middle;\n",
              "    }\n",
              "\n",
              "    .dataframe tbody tr th {\n",
              "        vertical-align: top;\n",
              "    }\n",
              "\n",
              "    .dataframe thead th {\n",
              "        text-align: right;\n",
              "    }\n",
              "</style>\n",
              "<table border=\"1\" class=\"dataframe\">\n",
              "  <thead>\n",
              "    <tr style=\"text-align: right;\">\n",
              "      <th></th>\n",
              "      <th>STATE</th>\n",
              "      <th>SIZE</th>\n",
              "      <th>BIRD</th>\n",
              "      <th>PEOPLE</th>\n",
              "    </tr>\n",
              "  </thead>\n",
              "  <tbody>\n",
              "    <tr>\n",
              "      <th>0</th>\n",
              "      <td>CA</td>\n",
              "      <td>163.7</td>\n",
              "      <td>Quail</td>\n",
              "      <td>37</td>\n",
              "    </tr>\n",
              "    <tr>\n",
              "      <th>1</th>\n",
              "      <td>MI</td>\n",
              "      <td>96.7</td>\n",
              "      <td>Redbreast Robin</td>\n",
              "      <td>9.8</td>\n",
              "    </tr>\n",
              "    <tr>\n",
              "      <th>2</th>\n",
              "      <td>WI</td>\n",
              "      <td>65.5</td>\n",
              "      <td>American Robin</td>\n",
              "      <td>5.7</td>\n",
              "    </tr>\n",
              "  </tbody>\n",
              "</table>\n",
              "</div>\n",
              "      <button class=\"colab-df-convert\" onclick=\"convertToInteractive('df-b0521eaa-65b0-43af-9014-330a4062d5ce')\"\n",
              "              title=\"Convert this dataframe to an interactive table.\"\n",
              "              style=\"display:none;\">\n",
              "        \n",
              "  <svg xmlns=\"http://www.w3.org/2000/svg\" height=\"24px\"viewBox=\"0 0 24 24\"\n",
              "       width=\"24px\">\n",
              "    <path d=\"M0 0h24v24H0V0z\" fill=\"none\"/>\n",
              "    <path d=\"M18.56 5.44l.94 2.06.94-2.06 2.06-.94-2.06-.94-.94-2.06-.94 2.06-2.06.94zm-11 1L8.5 8.5l.94-2.06 2.06-.94-2.06-.94L8.5 2.5l-.94 2.06-2.06.94zm10 10l.94 2.06.94-2.06 2.06-.94-2.06-.94-.94-2.06-.94 2.06-2.06.94z\"/><path d=\"M17.41 7.96l-1.37-1.37c-.4-.4-.92-.59-1.43-.59-.52 0-1.04.2-1.43.59L10.3 9.45l-7.72 7.72c-.78.78-.78 2.05 0 2.83L4 21.41c.39.39.9.59 1.41.59.51 0 1.02-.2 1.41-.59l7.78-7.78 2.81-2.81c.8-.78.8-2.07 0-2.86zM5.41 20L4 18.59l7.72-7.72 1.47 1.35L5.41 20z\"/>\n",
              "  </svg>\n",
              "      </button>\n",
              "      \n",
              "  <style>\n",
              "    .colab-df-container {\n",
              "      display:flex;\n",
              "      flex-wrap:wrap;\n",
              "      gap: 12px;\n",
              "    }\n",
              "\n",
              "    .colab-df-convert {\n",
              "      background-color: #E8F0FE;\n",
              "      border: none;\n",
              "      border-radius: 50%;\n",
              "      cursor: pointer;\n",
              "      display: none;\n",
              "      fill: #1967D2;\n",
              "      height: 32px;\n",
              "      padding: 0 0 0 0;\n",
              "      width: 32px;\n",
              "    }\n",
              "\n",
              "    .colab-df-convert:hover {\n",
              "      background-color: #E2EBFA;\n",
              "      box-shadow: 0px 1px 2px rgba(60, 64, 67, 0.3), 0px 1px 3px 1px rgba(60, 64, 67, 0.15);\n",
              "      fill: #174EA6;\n",
              "    }\n",
              "\n",
              "    [theme=dark] .colab-df-convert {\n",
              "      background-color: #3B4455;\n",
              "      fill: #D2E3FC;\n",
              "    }\n",
              "\n",
              "    [theme=dark] .colab-df-convert:hover {\n",
              "      background-color: #434B5C;\n",
              "      box-shadow: 0px 1px 3px 1px rgba(0, 0, 0, 0.15);\n",
              "      filter: drop-shadow(0px 1px 2px rgba(0, 0, 0, 0.3));\n",
              "      fill: #FFFFFF;\n",
              "    }\n",
              "  </style>\n",
              "\n",
              "      <script>\n",
              "        const buttonEl =\n",
              "          document.querySelector('#df-b0521eaa-65b0-43af-9014-330a4062d5ce button.colab-df-convert');\n",
              "        buttonEl.style.display =\n",
              "          google.colab.kernel.accessAllowed ? 'block' : 'none';\n",
              "\n",
              "        async function convertToInteractive(key) {\n",
              "          const element = document.querySelector('#df-b0521eaa-65b0-43af-9014-330a4062d5ce');\n",
              "          const dataTable =\n",
              "            await google.colab.kernel.invokeFunction('convertToInteractive',\n",
              "                                                     [key], {});\n",
              "          if (!dataTable) return;\n",
              "\n",
              "          const docLinkHtml = 'Like what you see? Visit the ' +\n",
              "            '<a target=\"_blank\" href=https://colab.research.google.com/notebooks/data_table.ipynb>data table notebook</a>'\n",
              "            + ' to learn more about interactive tables.';\n",
              "          element.innerHTML = '';\n",
              "          dataTable['output_type'] = 'display_data';\n",
              "          await google.colab.output.renderOutput(dataTable, element);\n",
              "          const docLink = document.createElement('div');\n",
              "          docLink.innerHTML = docLinkHtml;\n",
              "          element.appendChild(docLink);\n",
              "        }\n",
              "      </script>\n",
              "    </div>\n",
              "  </div>\n",
              "  "
            ]
          },
          "metadata": {},
          "execution_count": 252
        }
      ],
      "source": [
        "states_no_mn = states.drop(3, axis = 0)\n",
        "states_no_mn"
      ]
    },
    {
      "cell_type": "markdown",
      "metadata": {
        "id": "bIE9uwoy9bg4"
      },
      "source": [
        "### <font color='orange'>Prática: DataFrames (Parte 2)</font>\n",
        "Reserve alguns minutos e tente o seguinte.\n",
        "\n",
        "1. Explique por que `states = states[['state', 'size', 'bird', 'pop']]` reordenou o DataFrame `states`.\n",
        "\n",
        "R: O novo dataframe ``states`` possuirá as colunas ordendas de acordo com sua declaração.\n",
        "\n",
        "\n",
        "2. Crie um novo DataFrame a partir do dict `data_dict` que usamos anteriormente. Dê o nome de dados."
      ]
    },
    {
      "cell_type": "code",
      "execution_count": 253,
      "metadata": {
        "id": "XVKSSqbg9bg4",
        "colab": {
          "base_uri": "https://localhost:8080/",
          "height": 175
        },
        "outputId": "bb22951a-0baf-417e-9cbd-a03f9a7c00a6"
      },
      "outputs": [
        {
          "output_type": "execute_result",
          "data": {
            "text/plain": [
              "   year   gdp  cons\n",
              "0  1990   5.9   3.8\n",
              "1  1995   7.6   4.9\n",
              "2  2000  10.2   6.8\n",
              "3  2005  13.0   8.7"
            ],
            "text/html": [
              "\n",
              "  <div id=\"df-3da7ab26-e184-46de-b487-61802b20d7ba\">\n",
              "    <div class=\"colab-df-container\">\n",
              "      <div>\n",
              "<style scoped>\n",
              "    .dataframe tbody tr th:only-of-type {\n",
              "        vertical-align: middle;\n",
              "    }\n",
              "\n",
              "    .dataframe tbody tr th {\n",
              "        vertical-align: top;\n",
              "    }\n",
              "\n",
              "    .dataframe thead th {\n",
              "        text-align: right;\n",
              "    }\n",
              "</style>\n",
              "<table border=\"1\" class=\"dataframe\">\n",
              "  <thead>\n",
              "    <tr style=\"text-align: right;\">\n",
              "      <th></th>\n",
              "      <th>year</th>\n",
              "      <th>gdp</th>\n",
              "      <th>cons</th>\n",
              "    </tr>\n",
              "  </thead>\n",
              "  <tbody>\n",
              "    <tr>\n",
              "      <th>0</th>\n",
              "      <td>1990</td>\n",
              "      <td>5.9</td>\n",
              "      <td>3.8</td>\n",
              "    </tr>\n",
              "    <tr>\n",
              "      <th>1</th>\n",
              "      <td>1995</td>\n",
              "      <td>7.6</td>\n",
              "      <td>4.9</td>\n",
              "    </tr>\n",
              "    <tr>\n",
              "      <th>2</th>\n",
              "      <td>2000</td>\n",
              "      <td>10.2</td>\n",
              "      <td>6.8</td>\n",
              "    </tr>\n",
              "    <tr>\n",
              "      <th>3</th>\n",
              "      <td>2005</td>\n",
              "      <td>13.0</td>\n",
              "      <td>8.7</td>\n",
              "    </tr>\n",
              "  </tbody>\n",
              "</table>\n",
              "</div>\n",
              "      <button class=\"colab-df-convert\" onclick=\"convertToInteractive('df-3da7ab26-e184-46de-b487-61802b20d7ba')\"\n",
              "              title=\"Convert this dataframe to an interactive table.\"\n",
              "              style=\"display:none;\">\n",
              "        \n",
              "  <svg xmlns=\"http://www.w3.org/2000/svg\" height=\"24px\"viewBox=\"0 0 24 24\"\n",
              "       width=\"24px\">\n",
              "    <path d=\"M0 0h24v24H0V0z\" fill=\"none\"/>\n",
              "    <path d=\"M18.56 5.44l.94 2.06.94-2.06 2.06-.94-2.06-.94-.94-2.06-.94 2.06-2.06.94zm-11 1L8.5 8.5l.94-2.06 2.06-.94-2.06-.94L8.5 2.5l-.94 2.06-2.06.94zm10 10l.94 2.06.94-2.06 2.06-.94-2.06-.94-.94-2.06-.94 2.06-2.06.94z\"/><path d=\"M17.41 7.96l-1.37-1.37c-.4-.4-.92-.59-1.43-.59-.52 0-1.04.2-1.43.59L10.3 9.45l-7.72 7.72c-.78.78-.78 2.05 0 2.83L4 21.41c.39.39.9.59 1.41.59.51 0 1.02-.2 1.41-.59l7.78-7.78 2.81-2.81c.8-.78.8-2.07 0-2.86zM5.41 20L4 18.59l7.72-7.72 1.47 1.35L5.41 20z\"/>\n",
              "  </svg>\n",
              "      </button>\n",
              "      \n",
              "  <style>\n",
              "    .colab-df-container {\n",
              "      display:flex;\n",
              "      flex-wrap:wrap;\n",
              "      gap: 12px;\n",
              "    }\n",
              "\n",
              "    .colab-df-convert {\n",
              "      background-color: #E8F0FE;\n",
              "      border: none;\n",
              "      border-radius: 50%;\n",
              "      cursor: pointer;\n",
              "      display: none;\n",
              "      fill: #1967D2;\n",
              "      height: 32px;\n",
              "      padding: 0 0 0 0;\n",
              "      width: 32px;\n",
              "    }\n",
              "\n",
              "    .colab-df-convert:hover {\n",
              "      background-color: #E2EBFA;\n",
              "      box-shadow: 0px 1px 2px rgba(60, 64, 67, 0.3), 0px 1px 3px 1px rgba(60, 64, 67, 0.15);\n",
              "      fill: #174EA6;\n",
              "    }\n",
              "\n",
              "    [theme=dark] .colab-df-convert {\n",
              "      background-color: #3B4455;\n",
              "      fill: #D2E3FC;\n",
              "    }\n",
              "\n",
              "    [theme=dark] .colab-df-convert:hover {\n",
              "      background-color: #434B5C;\n",
              "      box-shadow: 0px 1px 3px 1px rgba(0, 0, 0, 0.15);\n",
              "      filter: drop-shadow(0px 1px 2px rgba(0, 0, 0, 0.3));\n",
              "      fill: #FFFFFF;\n",
              "    }\n",
              "  </style>\n",
              "\n",
              "      <script>\n",
              "        const buttonEl =\n",
              "          document.querySelector('#df-3da7ab26-e184-46de-b487-61802b20d7ba button.colab-df-convert');\n",
              "        buttonEl.style.display =\n",
              "          google.colab.kernel.accessAllowed ? 'block' : 'none';\n",
              "\n",
              "        async function convertToInteractive(key) {\n",
              "          const element = document.querySelector('#df-3da7ab26-e184-46de-b487-61802b20d7ba');\n",
              "          const dataTable =\n",
              "            await google.colab.kernel.invokeFunction('convertToInteractive',\n",
              "                                                     [key], {});\n",
              "          if (!dataTable) return;\n",
              "\n",
              "          const docLinkHtml = 'Like what you see? Visit the ' +\n",
              "            '<a target=\"_blank\" href=https://colab.research.google.com/notebooks/data_table.ipynb>data table notebook</a>'\n",
              "            + ' to learn more about interactive tables.';\n",
              "          element.innerHTML = '';\n",
              "          dataTable['output_type'] = 'display_data';\n",
              "          await google.colab.output.renderOutput(dataTable, element);\n",
              "          const docLink = document.createElement('div');\n",
              "          docLink.innerHTML = docLinkHtml;\n",
              "          element.appendChild(docLink);\n",
              "        }\n",
              "      </script>\n",
              "    </div>\n",
              "  </div>\n",
              "  "
            ]
          },
          "metadata": {},
          "execution_count": 253
        }
      ],
      "source": [
        "data_dict = {'year': [1990, 1995, 2000, 2005 ], 'gdp':[5.9, 7.6, 10.2, 13.0], 'cons':[3.8, 4.9, 6.8, 8.7]}\n",
        "\n",
        "gdp_data = pd.DataFrame(data_dict)\n",
        "gdp_data"
      ]
    },
    {
      "cell_type": "markdown",
      "metadata": {
        "id": "AFe5elNX9bg4"
      },
      "source": [
        "3. Altere o índice para ser a variável do ano e imprima o DataFrame"
      ]
    },
    {
      "cell_type": "code",
      "execution_count": 254,
      "metadata": {
        "id": "LZ7-qQgw9bg4",
        "colab": {
          "base_uri": "https://localhost:8080/",
          "height": 206
        },
        "outputId": "1b1931c1-a86d-4457-969c-355080357ab1"
      },
      "outputs": [
        {
          "output_type": "execute_result",
          "data": {
            "text/plain": [
              "       gdp  cons\n",
              "year            \n",
              "1990   5.9   3.8\n",
              "1995   7.6   4.9\n",
              "2000  10.2   6.8\n",
              "2005  13.0   8.7"
            ],
            "text/html": [
              "\n",
              "  <div id=\"df-08f863d4-552c-4080-9345-2e39ffdfda64\">\n",
              "    <div class=\"colab-df-container\">\n",
              "      <div>\n",
              "<style scoped>\n",
              "    .dataframe tbody tr th:only-of-type {\n",
              "        vertical-align: middle;\n",
              "    }\n",
              "\n",
              "    .dataframe tbody tr th {\n",
              "        vertical-align: top;\n",
              "    }\n",
              "\n",
              "    .dataframe thead th {\n",
              "        text-align: right;\n",
              "    }\n",
              "</style>\n",
              "<table border=\"1\" class=\"dataframe\">\n",
              "  <thead>\n",
              "    <tr style=\"text-align: right;\">\n",
              "      <th></th>\n",
              "      <th>gdp</th>\n",
              "      <th>cons</th>\n",
              "    </tr>\n",
              "    <tr>\n",
              "      <th>year</th>\n",
              "      <th></th>\n",
              "      <th></th>\n",
              "    </tr>\n",
              "  </thead>\n",
              "  <tbody>\n",
              "    <tr>\n",
              "      <th>1990</th>\n",
              "      <td>5.9</td>\n",
              "      <td>3.8</td>\n",
              "    </tr>\n",
              "    <tr>\n",
              "      <th>1995</th>\n",
              "      <td>7.6</td>\n",
              "      <td>4.9</td>\n",
              "    </tr>\n",
              "    <tr>\n",
              "      <th>2000</th>\n",
              "      <td>10.2</td>\n",
              "      <td>6.8</td>\n",
              "    </tr>\n",
              "    <tr>\n",
              "      <th>2005</th>\n",
              "      <td>13.0</td>\n",
              "      <td>8.7</td>\n",
              "    </tr>\n",
              "  </tbody>\n",
              "</table>\n",
              "</div>\n",
              "      <button class=\"colab-df-convert\" onclick=\"convertToInteractive('df-08f863d4-552c-4080-9345-2e39ffdfda64')\"\n",
              "              title=\"Convert this dataframe to an interactive table.\"\n",
              "              style=\"display:none;\">\n",
              "        \n",
              "  <svg xmlns=\"http://www.w3.org/2000/svg\" height=\"24px\"viewBox=\"0 0 24 24\"\n",
              "       width=\"24px\">\n",
              "    <path d=\"M0 0h24v24H0V0z\" fill=\"none\"/>\n",
              "    <path d=\"M18.56 5.44l.94 2.06.94-2.06 2.06-.94-2.06-.94-.94-2.06-.94 2.06-2.06.94zm-11 1L8.5 8.5l.94-2.06 2.06-.94-2.06-.94L8.5 2.5l-.94 2.06-2.06.94zm10 10l.94 2.06.94-2.06 2.06-.94-2.06-.94-.94-2.06-.94 2.06-2.06.94z\"/><path d=\"M17.41 7.96l-1.37-1.37c-.4-.4-.92-.59-1.43-.59-.52 0-1.04.2-1.43.59L10.3 9.45l-7.72 7.72c-.78.78-.78 2.05 0 2.83L4 21.41c.39.39.9.59 1.41.59.51 0 1.02-.2 1.41-.59l7.78-7.78 2.81-2.81c.8-.78.8-2.07 0-2.86zM5.41 20L4 18.59l7.72-7.72 1.47 1.35L5.41 20z\"/>\n",
              "  </svg>\n",
              "      </button>\n",
              "      \n",
              "  <style>\n",
              "    .colab-df-container {\n",
              "      display:flex;\n",
              "      flex-wrap:wrap;\n",
              "      gap: 12px;\n",
              "    }\n",
              "\n",
              "    .colab-df-convert {\n",
              "      background-color: #E8F0FE;\n",
              "      border: none;\n",
              "      border-radius: 50%;\n",
              "      cursor: pointer;\n",
              "      display: none;\n",
              "      fill: #1967D2;\n",
              "      height: 32px;\n",
              "      padding: 0 0 0 0;\n",
              "      width: 32px;\n",
              "    }\n",
              "\n",
              "    .colab-df-convert:hover {\n",
              "      background-color: #E2EBFA;\n",
              "      box-shadow: 0px 1px 2px rgba(60, 64, 67, 0.3), 0px 1px 3px 1px rgba(60, 64, 67, 0.15);\n",
              "      fill: #174EA6;\n",
              "    }\n",
              "\n",
              "    [theme=dark] .colab-df-convert {\n",
              "      background-color: #3B4455;\n",
              "      fill: #D2E3FC;\n",
              "    }\n",
              "\n",
              "    [theme=dark] .colab-df-convert:hover {\n",
              "      background-color: #434B5C;\n",
              "      box-shadow: 0px 1px 3px 1px rgba(0, 0, 0, 0.15);\n",
              "      filter: drop-shadow(0px 1px 2px rgba(0, 0, 0, 0.3));\n",
              "      fill: #FFFFFF;\n",
              "    }\n",
              "  </style>\n",
              "\n",
              "      <script>\n",
              "        const buttonEl =\n",
              "          document.querySelector('#df-08f863d4-552c-4080-9345-2e39ffdfda64 button.colab-df-convert');\n",
              "        buttonEl.style.display =\n",
              "          google.colab.kernel.accessAllowed ? 'block' : 'none';\n",
              "\n",
              "        async function convertToInteractive(key) {\n",
              "          const element = document.querySelector('#df-08f863d4-552c-4080-9345-2e39ffdfda64');\n",
              "          const dataTable =\n",
              "            await google.colab.kernel.invokeFunction('convertToInteractive',\n",
              "                                                     [key], {});\n",
              "          if (!dataTable) return;\n",
              "\n",
              "          const docLinkHtml = 'Like what you see? Visit the ' +\n",
              "            '<a target=\"_blank\" href=https://colab.research.google.com/notebooks/data_table.ipynb>data table notebook</a>'\n",
              "            + ' to learn more about interactive tables.';\n",
              "          element.innerHTML = '';\n",
              "          dataTable['output_type'] = 'display_data';\n",
              "          await google.colab.output.renderOutput(dataTable, element);\n",
              "          const docLink = document.createElement('div');\n",
              "          docLink.innerHTML = docLinkHtml;\n",
              "          element.appendChild(docLink);\n",
              "        }\n",
              "      </script>\n",
              "    </div>\n",
              "  </div>\n",
              "  "
            ]
          },
          "metadata": {},
          "execution_count": 254
        }
      ],
      "source": [
        "gdp_data.set_index('year', inplace=True) \n",
        "gdp_data"
      ]
    },
    {
      "cell_type": "markdown",
      "metadata": {
        "id": "t6DFLP9v9bg4"
      },
      "source": [
        "4. Altere os nomes das colunas restantes para 'Produto Interno Bruto' e 'Consumo'"
      ]
    },
    {
      "cell_type": "code",
      "execution_count": 255,
      "metadata": {
        "id": "gvHlwfuZ9bg4",
        "colab": {
          "base_uri": "https://localhost:8080/",
          "height": 206
        },
        "outputId": "e275724c-0538-4786-ca4c-2832361b1c42"
      },
      "outputs": [
        {
          "output_type": "execute_result",
          "data": {
            "text/plain": [
              "      Produto Interno Bruto  Consumo\n",
              "year                                \n",
              "1990                    5.9      3.8\n",
              "1995                    7.6      4.9\n",
              "2000                   10.2      6.8\n",
              "2005                   13.0      8.7"
            ],
            "text/html": [
              "\n",
              "  <div id=\"df-15c2d342-9e3d-4556-b497-6a2bc2f74373\">\n",
              "    <div class=\"colab-df-container\">\n",
              "      <div>\n",
              "<style scoped>\n",
              "    .dataframe tbody tr th:only-of-type {\n",
              "        vertical-align: middle;\n",
              "    }\n",
              "\n",
              "    .dataframe tbody tr th {\n",
              "        vertical-align: top;\n",
              "    }\n",
              "\n",
              "    .dataframe thead th {\n",
              "        text-align: right;\n",
              "    }\n",
              "</style>\n",
              "<table border=\"1\" class=\"dataframe\">\n",
              "  <thead>\n",
              "    <tr style=\"text-align: right;\">\n",
              "      <th></th>\n",
              "      <th>Produto Interno Bruto</th>\n",
              "      <th>Consumo</th>\n",
              "    </tr>\n",
              "    <tr>\n",
              "      <th>year</th>\n",
              "      <th></th>\n",
              "      <th></th>\n",
              "    </tr>\n",
              "  </thead>\n",
              "  <tbody>\n",
              "    <tr>\n",
              "      <th>1990</th>\n",
              "      <td>5.9</td>\n",
              "      <td>3.8</td>\n",
              "    </tr>\n",
              "    <tr>\n",
              "      <th>1995</th>\n",
              "      <td>7.6</td>\n",
              "      <td>4.9</td>\n",
              "    </tr>\n",
              "    <tr>\n",
              "      <th>2000</th>\n",
              "      <td>10.2</td>\n",
              "      <td>6.8</td>\n",
              "    </tr>\n",
              "    <tr>\n",
              "      <th>2005</th>\n",
              "      <td>13.0</td>\n",
              "      <td>8.7</td>\n",
              "    </tr>\n",
              "  </tbody>\n",
              "</table>\n",
              "</div>\n",
              "      <button class=\"colab-df-convert\" onclick=\"convertToInteractive('df-15c2d342-9e3d-4556-b497-6a2bc2f74373')\"\n",
              "              title=\"Convert this dataframe to an interactive table.\"\n",
              "              style=\"display:none;\">\n",
              "        \n",
              "  <svg xmlns=\"http://www.w3.org/2000/svg\" height=\"24px\"viewBox=\"0 0 24 24\"\n",
              "       width=\"24px\">\n",
              "    <path d=\"M0 0h24v24H0V0z\" fill=\"none\"/>\n",
              "    <path d=\"M18.56 5.44l.94 2.06.94-2.06 2.06-.94-2.06-.94-.94-2.06-.94 2.06-2.06.94zm-11 1L8.5 8.5l.94-2.06 2.06-.94-2.06-.94L8.5 2.5l-.94 2.06-2.06.94zm10 10l.94 2.06.94-2.06 2.06-.94-2.06-.94-.94-2.06-.94 2.06-2.06.94z\"/><path d=\"M17.41 7.96l-1.37-1.37c-.4-.4-.92-.59-1.43-.59-.52 0-1.04.2-1.43.59L10.3 9.45l-7.72 7.72c-.78.78-.78 2.05 0 2.83L4 21.41c.39.39.9.59 1.41.59.51 0 1.02-.2 1.41-.59l7.78-7.78 2.81-2.81c.8-.78.8-2.07 0-2.86zM5.41 20L4 18.59l7.72-7.72 1.47 1.35L5.41 20z\"/>\n",
              "  </svg>\n",
              "      </button>\n",
              "      \n",
              "  <style>\n",
              "    .colab-df-container {\n",
              "      display:flex;\n",
              "      flex-wrap:wrap;\n",
              "      gap: 12px;\n",
              "    }\n",
              "\n",
              "    .colab-df-convert {\n",
              "      background-color: #E8F0FE;\n",
              "      border: none;\n",
              "      border-radius: 50%;\n",
              "      cursor: pointer;\n",
              "      display: none;\n",
              "      fill: #1967D2;\n",
              "      height: 32px;\n",
              "      padding: 0 0 0 0;\n",
              "      width: 32px;\n",
              "    }\n",
              "\n",
              "    .colab-df-convert:hover {\n",
              "      background-color: #E2EBFA;\n",
              "      box-shadow: 0px 1px 2px rgba(60, 64, 67, 0.3), 0px 1px 3px 1px rgba(60, 64, 67, 0.15);\n",
              "      fill: #174EA6;\n",
              "    }\n",
              "\n",
              "    [theme=dark] .colab-df-convert {\n",
              "      background-color: #3B4455;\n",
              "      fill: #D2E3FC;\n",
              "    }\n",
              "\n",
              "    [theme=dark] .colab-df-convert:hover {\n",
              "      background-color: #434B5C;\n",
              "      box-shadow: 0px 1px 3px 1px rgba(0, 0, 0, 0.15);\n",
              "      filter: drop-shadow(0px 1px 2px rgba(0, 0, 0, 0.3));\n",
              "      fill: #FFFFFF;\n",
              "    }\n",
              "  </style>\n",
              "\n",
              "      <script>\n",
              "        const buttonEl =\n",
              "          document.querySelector('#df-15c2d342-9e3d-4556-b497-6a2bc2f74373 button.colab-df-convert');\n",
              "        buttonEl.style.display =\n",
              "          google.colab.kernel.accessAllowed ? 'block' : 'none';\n",
              "\n",
              "        async function convertToInteractive(key) {\n",
              "          const element = document.querySelector('#df-15c2d342-9e3d-4556-b497-6a2bc2f74373');\n",
              "          const dataTable =\n",
              "            await google.colab.kernel.invokeFunction('convertToInteractive',\n",
              "                                                     [key], {});\n",
              "          if (!dataTable) return;\n",
              "\n",
              "          const docLinkHtml = 'Like what you see? Visit the ' +\n",
              "            '<a target=\"_blank\" href=https://colab.research.google.com/notebooks/data_table.ipynb>data table notebook</a>'\n",
              "            + ' to learn more about interactive tables.';\n",
              "          element.innerHTML = '';\n",
              "          dataTable['output_type'] = 'display_data';\n",
              "          await google.colab.output.renderOutput(dataTable, element);\n",
              "          const docLink = document.createElement('div');\n",
              "          docLink.innerHTML = docLinkHtml;\n",
              "          element.appendChild(docLink);\n",
              "        }\n",
              "      </script>\n",
              "    </div>\n",
              "  </div>\n",
              "  "
            ]
          },
          "metadata": {},
          "execution_count": 255
        }
      ],
      "source": [
        "gdp_data = gdp_data.rename(columns={'gdp': 'Produto Interno Bruto', 'cons': 'Consumo'})\n",
        "gdp_data"
      ]
    },
    {
      "cell_type": "markdown",
      "metadata": {
        "id": "tbKdvHnJ9bg5"
      },
      "source": [
        "5. Altere os nomes das colunas para maiúsculas e minúsculas. Tente o método de string `title()`"
      ]
    },
    {
      "cell_type": "code",
      "execution_count": 256,
      "metadata": {
        "id": "3AM1Wdco9bg5",
        "colab": {
          "base_uri": "https://localhost:8080/",
          "height": 206
        },
        "outputId": "4a3edd8f-f83a-4f78-e921-acb6d7ab25df"
      },
      "outputs": [
        {
          "output_type": "execute_result",
          "data": {
            "text/plain": [
              "      produto interno bruto  consumo\n",
              "year                                \n",
              "1990                    5.9      3.8\n",
              "1995                    7.6      4.9\n",
              "2000                   10.2      6.8\n",
              "2005                   13.0      8.7"
            ],
            "text/html": [
              "\n",
              "  <div id=\"df-642722fd-1ca3-4a6c-87c3-4255890c3026\">\n",
              "    <div class=\"colab-df-container\">\n",
              "      <div>\n",
              "<style scoped>\n",
              "    .dataframe tbody tr th:only-of-type {\n",
              "        vertical-align: middle;\n",
              "    }\n",
              "\n",
              "    .dataframe tbody tr th {\n",
              "        vertical-align: top;\n",
              "    }\n",
              "\n",
              "    .dataframe thead th {\n",
              "        text-align: right;\n",
              "    }\n",
              "</style>\n",
              "<table border=\"1\" class=\"dataframe\">\n",
              "  <thead>\n",
              "    <tr style=\"text-align: right;\">\n",
              "      <th></th>\n",
              "      <th>produto interno bruto</th>\n",
              "      <th>consumo</th>\n",
              "    </tr>\n",
              "    <tr>\n",
              "      <th>year</th>\n",
              "      <th></th>\n",
              "      <th></th>\n",
              "    </tr>\n",
              "  </thead>\n",
              "  <tbody>\n",
              "    <tr>\n",
              "      <th>1990</th>\n",
              "      <td>5.9</td>\n",
              "      <td>3.8</td>\n",
              "    </tr>\n",
              "    <tr>\n",
              "      <th>1995</th>\n",
              "      <td>7.6</td>\n",
              "      <td>4.9</td>\n",
              "    </tr>\n",
              "    <tr>\n",
              "      <th>2000</th>\n",
              "      <td>10.2</td>\n",
              "      <td>6.8</td>\n",
              "    </tr>\n",
              "    <tr>\n",
              "      <th>2005</th>\n",
              "      <td>13.0</td>\n",
              "      <td>8.7</td>\n",
              "    </tr>\n",
              "  </tbody>\n",
              "</table>\n",
              "</div>\n",
              "      <button class=\"colab-df-convert\" onclick=\"convertToInteractive('df-642722fd-1ca3-4a6c-87c3-4255890c3026')\"\n",
              "              title=\"Convert this dataframe to an interactive table.\"\n",
              "              style=\"display:none;\">\n",
              "        \n",
              "  <svg xmlns=\"http://www.w3.org/2000/svg\" height=\"24px\"viewBox=\"0 0 24 24\"\n",
              "       width=\"24px\">\n",
              "    <path d=\"M0 0h24v24H0V0z\" fill=\"none\"/>\n",
              "    <path d=\"M18.56 5.44l.94 2.06.94-2.06 2.06-.94-2.06-.94-.94-2.06-.94 2.06-2.06.94zm-11 1L8.5 8.5l.94-2.06 2.06-.94-2.06-.94L8.5 2.5l-.94 2.06-2.06.94zm10 10l.94 2.06.94-2.06 2.06-.94-2.06-.94-.94-2.06-.94 2.06-2.06.94z\"/><path d=\"M17.41 7.96l-1.37-1.37c-.4-.4-.92-.59-1.43-.59-.52 0-1.04.2-1.43.59L10.3 9.45l-7.72 7.72c-.78.78-.78 2.05 0 2.83L4 21.41c.39.39.9.59 1.41.59.51 0 1.02-.2 1.41-.59l7.78-7.78 2.81-2.81c.8-.78.8-2.07 0-2.86zM5.41 20L4 18.59l7.72-7.72 1.47 1.35L5.41 20z\"/>\n",
              "  </svg>\n",
              "      </button>\n",
              "      \n",
              "  <style>\n",
              "    .colab-df-container {\n",
              "      display:flex;\n",
              "      flex-wrap:wrap;\n",
              "      gap: 12px;\n",
              "    }\n",
              "\n",
              "    .colab-df-convert {\n",
              "      background-color: #E8F0FE;\n",
              "      border: none;\n",
              "      border-radius: 50%;\n",
              "      cursor: pointer;\n",
              "      display: none;\n",
              "      fill: #1967D2;\n",
              "      height: 32px;\n",
              "      padding: 0 0 0 0;\n",
              "      width: 32px;\n",
              "    }\n",
              "\n",
              "    .colab-df-convert:hover {\n",
              "      background-color: #E2EBFA;\n",
              "      box-shadow: 0px 1px 2px rgba(60, 64, 67, 0.3), 0px 1px 3px 1px rgba(60, 64, 67, 0.15);\n",
              "      fill: #174EA6;\n",
              "    }\n",
              "\n",
              "    [theme=dark] .colab-df-convert {\n",
              "      background-color: #3B4455;\n",
              "      fill: #D2E3FC;\n",
              "    }\n",
              "\n",
              "    [theme=dark] .colab-df-convert:hover {\n",
              "      background-color: #434B5C;\n",
              "      box-shadow: 0px 1px 3px 1px rgba(0, 0, 0, 0.15);\n",
              "      filter: drop-shadow(0px 1px 2px rgba(0, 0, 0, 0.3));\n",
              "      fill: #FFFFFF;\n",
              "    }\n",
              "  </style>\n",
              "\n",
              "      <script>\n",
              "        const buttonEl =\n",
              "          document.querySelector('#df-642722fd-1ca3-4a6c-87c3-4255890c3026 button.colab-df-convert');\n",
              "        buttonEl.style.display =\n",
              "          google.colab.kernel.accessAllowed ? 'block' : 'none';\n",
              "\n",
              "        async function convertToInteractive(key) {\n",
              "          const element = document.querySelector('#df-642722fd-1ca3-4a6c-87c3-4255890c3026');\n",
              "          const dataTable =\n",
              "            await google.colab.kernel.invokeFunction('convertToInteractive',\n",
              "                                                     [key], {});\n",
              "          if (!dataTable) return;\n",
              "\n",
              "          const docLinkHtml = 'Like what you see? Visit the ' +\n",
              "            '<a target=\"_blank\" href=https://colab.research.google.com/notebooks/data_table.ipynb>data table notebook</a>'\n",
              "            + ' to learn more about interactive tables.';\n",
              "          element.innerHTML = '';\n",
              "          dataTable['output_type'] = 'display_data';\n",
              "          await google.colab.output.renderOutput(dataTable, element);\n",
              "          const docLink = document.createElement('div');\n",
              "          docLink.innerHTML = docLinkHtml;\n",
              "          element.appendChild(docLink);\n",
              "        }\n",
              "      </script>\n",
              "    </div>\n",
              "  </div>\n",
              "  "
            ]
          },
          "metadata": {},
          "execution_count": 256
        }
      ],
      "source": [
        "# Modificando os nomes das colunas para maiúsculas\n",
        "columns = gdp_data.columns\n",
        "columns_lower = [column.lower() for column in columns]\n",
        "\n",
        "gdp_data.columns = columns_lower\n",
        "gdp_data"
      ]
    },
    {
      "cell_type": "code",
      "source": [
        "# Modificando os nomes das colunas para minúsculas\n",
        "columns = gdp_data.columns\n",
        "columns_upper = [column.upper() for column in columns]\n",
        "\n",
        "gdp_data.columns = columns_upper\n",
        "gdp_data"
      ],
      "metadata": {
        "colab": {
          "base_uri": "https://localhost:8080/",
          "height": 206
        },
        "id": "mrILs1_Sv4eZ",
        "outputId": "f423152b-d069-4351-916a-8561f93803a9"
      },
      "execution_count": 257,
      "outputs": [
        {
          "output_type": "execute_result",
          "data": {
            "text/plain": [
              "      PRODUTO INTERNO BRUTO  CONSUMO\n",
              "year                                \n",
              "1990                    5.9      3.8\n",
              "1995                    7.6      4.9\n",
              "2000                   10.2      6.8\n",
              "2005                   13.0      8.7"
            ],
            "text/html": [
              "\n",
              "  <div id=\"df-5cddc0bd-3bee-456b-8cf5-5f775e503cce\">\n",
              "    <div class=\"colab-df-container\">\n",
              "      <div>\n",
              "<style scoped>\n",
              "    .dataframe tbody tr th:only-of-type {\n",
              "        vertical-align: middle;\n",
              "    }\n",
              "\n",
              "    .dataframe tbody tr th {\n",
              "        vertical-align: top;\n",
              "    }\n",
              "\n",
              "    .dataframe thead th {\n",
              "        text-align: right;\n",
              "    }\n",
              "</style>\n",
              "<table border=\"1\" class=\"dataframe\">\n",
              "  <thead>\n",
              "    <tr style=\"text-align: right;\">\n",
              "      <th></th>\n",
              "      <th>PRODUTO INTERNO BRUTO</th>\n",
              "      <th>CONSUMO</th>\n",
              "    </tr>\n",
              "    <tr>\n",
              "      <th>year</th>\n",
              "      <th></th>\n",
              "      <th></th>\n",
              "    </tr>\n",
              "  </thead>\n",
              "  <tbody>\n",
              "    <tr>\n",
              "      <th>1990</th>\n",
              "      <td>5.9</td>\n",
              "      <td>3.8</td>\n",
              "    </tr>\n",
              "    <tr>\n",
              "      <th>1995</th>\n",
              "      <td>7.6</td>\n",
              "      <td>4.9</td>\n",
              "    </tr>\n",
              "    <tr>\n",
              "      <th>2000</th>\n",
              "      <td>10.2</td>\n",
              "      <td>6.8</td>\n",
              "    </tr>\n",
              "    <tr>\n",
              "      <th>2005</th>\n",
              "      <td>13.0</td>\n",
              "      <td>8.7</td>\n",
              "    </tr>\n",
              "  </tbody>\n",
              "</table>\n",
              "</div>\n",
              "      <button class=\"colab-df-convert\" onclick=\"convertToInteractive('df-5cddc0bd-3bee-456b-8cf5-5f775e503cce')\"\n",
              "              title=\"Convert this dataframe to an interactive table.\"\n",
              "              style=\"display:none;\">\n",
              "        \n",
              "  <svg xmlns=\"http://www.w3.org/2000/svg\" height=\"24px\"viewBox=\"0 0 24 24\"\n",
              "       width=\"24px\">\n",
              "    <path d=\"M0 0h24v24H0V0z\" fill=\"none\"/>\n",
              "    <path d=\"M18.56 5.44l.94 2.06.94-2.06 2.06-.94-2.06-.94-.94-2.06-.94 2.06-2.06.94zm-11 1L8.5 8.5l.94-2.06 2.06-.94-2.06-.94L8.5 2.5l-.94 2.06-2.06.94zm10 10l.94 2.06.94-2.06 2.06-.94-2.06-.94-.94-2.06-.94 2.06-2.06.94z\"/><path d=\"M17.41 7.96l-1.37-1.37c-.4-.4-.92-.59-1.43-.59-.52 0-1.04.2-1.43.59L10.3 9.45l-7.72 7.72c-.78.78-.78 2.05 0 2.83L4 21.41c.39.39.9.59 1.41.59.51 0 1.02-.2 1.41-.59l7.78-7.78 2.81-2.81c.8-.78.8-2.07 0-2.86zM5.41 20L4 18.59l7.72-7.72 1.47 1.35L5.41 20z\"/>\n",
              "  </svg>\n",
              "      </button>\n",
              "      \n",
              "  <style>\n",
              "    .colab-df-container {\n",
              "      display:flex;\n",
              "      flex-wrap:wrap;\n",
              "      gap: 12px;\n",
              "    }\n",
              "\n",
              "    .colab-df-convert {\n",
              "      background-color: #E8F0FE;\n",
              "      border: none;\n",
              "      border-radius: 50%;\n",
              "      cursor: pointer;\n",
              "      display: none;\n",
              "      fill: #1967D2;\n",
              "      height: 32px;\n",
              "      padding: 0 0 0 0;\n",
              "      width: 32px;\n",
              "    }\n",
              "\n",
              "    .colab-df-convert:hover {\n",
              "      background-color: #E2EBFA;\n",
              "      box-shadow: 0px 1px 2px rgba(60, 64, 67, 0.3), 0px 1px 3px 1px rgba(60, 64, 67, 0.15);\n",
              "      fill: #174EA6;\n",
              "    }\n",
              "\n",
              "    [theme=dark] .colab-df-convert {\n",
              "      background-color: #3B4455;\n",
              "      fill: #D2E3FC;\n",
              "    }\n",
              "\n",
              "    [theme=dark] .colab-df-convert:hover {\n",
              "      background-color: #434B5C;\n",
              "      box-shadow: 0px 1px 3px 1px rgba(0, 0, 0, 0.15);\n",
              "      filter: drop-shadow(0px 1px 2px rgba(0, 0, 0, 0.3));\n",
              "      fill: #FFFFFF;\n",
              "    }\n",
              "  </style>\n",
              "\n",
              "      <script>\n",
              "        const buttonEl =\n",
              "          document.querySelector('#df-5cddc0bd-3bee-456b-8cf5-5f775e503cce button.colab-df-convert');\n",
              "        buttonEl.style.display =\n",
              "          google.colab.kernel.accessAllowed ? 'block' : 'none';\n",
              "\n",
              "        async function convertToInteractive(key) {\n",
              "          const element = document.querySelector('#df-5cddc0bd-3bee-456b-8cf5-5f775e503cce');\n",
              "          const dataTable =\n",
              "            await google.colab.kernel.invokeFunction('convertToInteractive',\n",
              "                                                     [key], {});\n",
              "          if (!dataTable) return;\n",
              "\n",
              "          const docLinkHtml = 'Like what you see? Visit the ' +\n",
              "            '<a target=\"_blank\" href=https://colab.research.google.com/notebooks/data_table.ipynb>data table notebook</a>'\n",
              "            + ' to learn more about interactive tables.';\n",
              "          element.innerHTML = '';\n",
              "          dataTable['output_type'] = 'display_data';\n",
              "          await google.colab.output.renderOutput(dataTable, element);\n",
              "          const docLink = document.createElement('div');\n",
              "          docLink.innerHTML = docLinkHtml;\n",
              "          element.appendChild(docLink);\n",
              "        }\n",
              "      </script>\n",
              "    </div>\n",
              "  </div>\n",
              "  "
            ]
          },
          "metadata": {},
          "execution_count": 257
        }
      ]
    },
    {
      "cell_type": "markdown",
      "metadata": {
        "id": "uJN78Cfr9bg5"
      },
      "source": [
        "6. Extraia as linhas correspondentes a 1990 e 2000 e atribua-as a um DataFrame chamado `data_dec`. Dica: Quando queríamos levar para as colunas, passamos uma lista dos nomes das colunas..."
      ]
    },
    {
      "cell_type": "code",
      "execution_count": 258,
      "metadata": {
        "id": "XIFl9Jqf9bg5",
        "colab": {
          "base_uri": "https://localhost:8080/",
          "height": 143
        },
        "outputId": "bc280017-1f18-4d84-86ac-dcec0a7d5ace"
      },
      "outputs": [
        {
          "output_type": "execute_result",
          "data": {
            "text/plain": [
              "      PRODUTO INTERNO BRUTO  CONSUMO\n",
              "year                                \n",
              "1990                    5.9      3.8\n",
              "2000                   10.2      6.8"
            ],
            "text/html": [
              "\n",
              "  <div id=\"df-ba38eb2e-f4dd-4fff-8dab-2cefb5088383\">\n",
              "    <div class=\"colab-df-container\">\n",
              "      <div>\n",
              "<style scoped>\n",
              "    .dataframe tbody tr th:only-of-type {\n",
              "        vertical-align: middle;\n",
              "    }\n",
              "\n",
              "    .dataframe tbody tr th {\n",
              "        vertical-align: top;\n",
              "    }\n",
              "\n",
              "    .dataframe thead th {\n",
              "        text-align: right;\n",
              "    }\n",
              "</style>\n",
              "<table border=\"1\" class=\"dataframe\">\n",
              "  <thead>\n",
              "    <tr style=\"text-align: right;\">\n",
              "      <th></th>\n",
              "      <th>PRODUTO INTERNO BRUTO</th>\n",
              "      <th>CONSUMO</th>\n",
              "    </tr>\n",
              "    <tr>\n",
              "      <th>year</th>\n",
              "      <th></th>\n",
              "      <th></th>\n",
              "    </tr>\n",
              "  </thead>\n",
              "  <tbody>\n",
              "    <tr>\n",
              "      <th>1990</th>\n",
              "      <td>5.9</td>\n",
              "      <td>3.8</td>\n",
              "    </tr>\n",
              "    <tr>\n",
              "      <th>2000</th>\n",
              "      <td>10.2</td>\n",
              "      <td>6.8</td>\n",
              "    </tr>\n",
              "  </tbody>\n",
              "</table>\n",
              "</div>\n",
              "      <button class=\"colab-df-convert\" onclick=\"convertToInteractive('df-ba38eb2e-f4dd-4fff-8dab-2cefb5088383')\"\n",
              "              title=\"Convert this dataframe to an interactive table.\"\n",
              "              style=\"display:none;\">\n",
              "        \n",
              "  <svg xmlns=\"http://www.w3.org/2000/svg\" height=\"24px\"viewBox=\"0 0 24 24\"\n",
              "       width=\"24px\">\n",
              "    <path d=\"M0 0h24v24H0V0z\" fill=\"none\"/>\n",
              "    <path d=\"M18.56 5.44l.94 2.06.94-2.06 2.06-.94-2.06-.94-.94-2.06-.94 2.06-2.06.94zm-11 1L8.5 8.5l.94-2.06 2.06-.94-2.06-.94L8.5 2.5l-.94 2.06-2.06.94zm10 10l.94 2.06.94-2.06 2.06-.94-2.06-.94-.94-2.06-.94 2.06-2.06.94z\"/><path d=\"M17.41 7.96l-1.37-1.37c-.4-.4-.92-.59-1.43-.59-.52 0-1.04.2-1.43.59L10.3 9.45l-7.72 7.72c-.78.78-.78 2.05 0 2.83L4 21.41c.39.39.9.59 1.41.59.51 0 1.02-.2 1.41-.59l7.78-7.78 2.81-2.81c.8-.78.8-2.07 0-2.86zM5.41 20L4 18.59l7.72-7.72 1.47 1.35L5.41 20z\"/>\n",
              "  </svg>\n",
              "      </button>\n",
              "      \n",
              "  <style>\n",
              "    .colab-df-container {\n",
              "      display:flex;\n",
              "      flex-wrap:wrap;\n",
              "      gap: 12px;\n",
              "    }\n",
              "\n",
              "    .colab-df-convert {\n",
              "      background-color: #E8F0FE;\n",
              "      border: none;\n",
              "      border-radius: 50%;\n",
              "      cursor: pointer;\n",
              "      display: none;\n",
              "      fill: #1967D2;\n",
              "      height: 32px;\n",
              "      padding: 0 0 0 0;\n",
              "      width: 32px;\n",
              "    }\n",
              "\n",
              "    .colab-df-convert:hover {\n",
              "      background-color: #E2EBFA;\n",
              "      box-shadow: 0px 1px 2px rgba(60, 64, 67, 0.3), 0px 1px 3px 1px rgba(60, 64, 67, 0.15);\n",
              "      fill: #174EA6;\n",
              "    }\n",
              "\n",
              "    [theme=dark] .colab-df-convert {\n",
              "      background-color: #3B4455;\n",
              "      fill: #D2E3FC;\n",
              "    }\n",
              "\n",
              "    [theme=dark] .colab-df-convert:hover {\n",
              "      background-color: #434B5C;\n",
              "      box-shadow: 0px 1px 3px 1px rgba(0, 0, 0, 0.15);\n",
              "      filter: drop-shadow(0px 1px 2px rgba(0, 0, 0, 0.3));\n",
              "      fill: #FFFFFF;\n",
              "    }\n",
              "  </style>\n",
              "\n",
              "      <script>\n",
              "        const buttonEl =\n",
              "          document.querySelector('#df-ba38eb2e-f4dd-4fff-8dab-2cefb5088383 button.colab-df-convert');\n",
              "        buttonEl.style.display =\n",
              "          google.colab.kernel.accessAllowed ? 'block' : 'none';\n",
              "\n",
              "        async function convertToInteractive(key) {\n",
              "          const element = document.querySelector('#df-ba38eb2e-f4dd-4fff-8dab-2cefb5088383');\n",
              "          const dataTable =\n",
              "            await google.colab.kernel.invokeFunction('convertToInteractive',\n",
              "                                                     [key], {});\n",
              "          if (!dataTable) return;\n",
              "\n",
              "          const docLinkHtml = 'Like what you see? Visit the ' +\n",
              "            '<a target=\"_blank\" href=https://colab.research.google.com/notebooks/data_table.ipynb>data table notebook</a>'\n",
              "            + ' to learn more about interactive tables.';\n",
              "          element.innerHTML = '';\n",
              "          dataTable['output_type'] = 'display_data';\n",
              "          await google.colab.output.renderOutput(dataTable, element);\n",
              "          const docLink = document.createElement('div');\n",
              "          docLink.innerHTML = docLinkHtml;\n",
              "          element.appendChild(docLink);\n",
              "        }\n",
              "      </script>\n",
              "    </div>\n",
              "  </div>\n",
              "  "
            ]
          },
          "metadata": {},
          "execution_count": 258
        }
      ],
      "source": [
        "data_dec = gdp_data.loc[[1990, 2000]]\n",
        "data_dec"
      ]
    },
    {
      "cell_type": "markdown",
      "metadata": {
        "id": "k8XRVUop9bg6"
      },
      "source": [
        "7. Crie `data_dec_2` a partir de dados excluindo as linhas desnecessárias."
      ]
    },
    {
      "cell_type": "code",
      "execution_count": 259,
      "metadata": {
        "id": "OTPG0lAx9bg6",
        "colab": {
          "base_uri": "https://localhost:8080/",
          "height": 143
        },
        "outputId": "a93fc6c1-a47a-4f48-fb2b-fe933551d181"
      },
      "outputs": [
        {
          "output_type": "execute_result",
          "data": {
            "text/plain": [
              "      PRODUTO INTERNO BRUTO  CONSUMO\n",
              "year                                \n",
              "1990                    5.9      3.8\n",
              "2000                   10.2      6.8"
            ],
            "text/html": [
              "\n",
              "  <div id=\"df-f9f9ea71-8381-4a66-8da3-063221f59cbd\">\n",
              "    <div class=\"colab-df-container\">\n",
              "      <div>\n",
              "<style scoped>\n",
              "    .dataframe tbody tr th:only-of-type {\n",
              "        vertical-align: middle;\n",
              "    }\n",
              "\n",
              "    .dataframe tbody tr th {\n",
              "        vertical-align: top;\n",
              "    }\n",
              "\n",
              "    .dataframe thead th {\n",
              "        text-align: right;\n",
              "    }\n",
              "</style>\n",
              "<table border=\"1\" class=\"dataframe\">\n",
              "  <thead>\n",
              "    <tr style=\"text-align: right;\">\n",
              "      <th></th>\n",
              "      <th>PRODUTO INTERNO BRUTO</th>\n",
              "      <th>CONSUMO</th>\n",
              "    </tr>\n",
              "    <tr>\n",
              "      <th>year</th>\n",
              "      <th></th>\n",
              "      <th></th>\n",
              "    </tr>\n",
              "  </thead>\n",
              "  <tbody>\n",
              "    <tr>\n",
              "      <th>1990</th>\n",
              "      <td>5.9</td>\n",
              "      <td>3.8</td>\n",
              "    </tr>\n",
              "    <tr>\n",
              "      <th>2000</th>\n",
              "      <td>10.2</td>\n",
              "      <td>6.8</td>\n",
              "    </tr>\n",
              "  </tbody>\n",
              "</table>\n",
              "</div>\n",
              "      <button class=\"colab-df-convert\" onclick=\"convertToInteractive('df-f9f9ea71-8381-4a66-8da3-063221f59cbd')\"\n",
              "              title=\"Convert this dataframe to an interactive table.\"\n",
              "              style=\"display:none;\">\n",
              "        \n",
              "  <svg xmlns=\"http://www.w3.org/2000/svg\" height=\"24px\"viewBox=\"0 0 24 24\"\n",
              "       width=\"24px\">\n",
              "    <path d=\"M0 0h24v24H0V0z\" fill=\"none\"/>\n",
              "    <path d=\"M18.56 5.44l.94 2.06.94-2.06 2.06-.94-2.06-.94-.94-2.06-.94 2.06-2.06.94zm-11 1L8.5 8.5l.94-2.06 2.06-.94-2.06-.94L8.5 2.5l-.94 2.06-2.06.94zm10 10l.94 2.06.94-2.06 2.06-.94-2.06-.94-.94-2.06-.94 2.06-2.06.94z\"/><path d=\"M17.41 7.96l-1.37-1.37c-.4-.4-.92-.59-1.43-.59-.52 0-1.04.2-1.43.59L10.3 9.45l-7.72 7.72c-.78.78-.78 2.05 0 2.83L4 21.41c.39.39.9.59 1.41.59.51 0 1.02-.2 1.41-.59l7.78-7.78 2.81-2.81c.8-.78.8-2.07 0-2.86zM5.41 20L4 18.59l7.72-7.72 1.47 1.35L5.41 20z\"/>\n",
              "  </svg>\n",
              "      </button>\n",
              "      \n",
              "  <style>\n",
              "    .colab-df-container {\n",
              "      display:flex;\n",
              "      flex-wrap:wrap;\n",
              "      gap: 12px;\n",
              "    }\n",
              "\n",
              "    .colab-df-convert {\n",
              "      background-color: #E8F0FE;\n",
              "      border: none;\n",
              "      border-radius: 50%;\n",
              "      cursor: pointer;\n",
              "      display: none;\n",
              "      fill: #1967D2;\n",
              "      height: 32px;\n",
              "      padding: 0 0 0 0;\n",
              "      width: 32px;\n",
              "    }\n",
              "\n",
              "    .colab-df-convert:hover {\n",
              "      background-color: #E2EBFA;\n",
              "      box-shadow: 0px 1px 2px rgba(60, 64, 67, 0.3), 0px 1px 3px 1px rgba(60, 64, 67, 0.15);\n",
              "      fill: #174EA6;\n",
              "    }\n",
              "\n",
              "    [theme=dark] .colab-df-convert {\n",
              "      background-color: #3B4455;\n",
              "      fill: #D2E3FC;\n",
              "    }\n",
              "\n",
              "    [theme=dark] .colab-df-convert:hover {\n",
              "      background-color: #434B5C;\n",
              "      box-shadow: 0px 1px 3px 1px rgba(0, 0, 0, 0.15);\n",
              "      filter: drop-shadow(0px 1px 2px rgba(0, 0, 0, 0.3));\n",
              "      fill: #FFFFFF;\n",
              "    }\n",
              "  </style>\n",
              "\n",
              "      <script>\n",
              "        const buttonEl =\n",
              "          document.querySelector('#df-f9f9ea71-8381-4a66-8da3-063221f59cbd button.colab-df-convert');\n",
              "        buttonEl.style.display =\n",
              "          google.colab.kernel.accessAllowed ? 'block' : 'none';\n",
              "\n",
              "        async function convertToInteractive(key) {\n",
              "          const element = document.querySelector('#df-f9f9ea71-8381-4a66-8da3-063221f59cbd');\n",
              "          const dataTable =\n",
              "            await google.colab.kernel.invokeFunction('convertToInteractive',\n",
              "                                                     [key], {});\n",
              "          if (!dataTable) return;\n",
              "\n",
              "          const docLinkHtml = 'Like what you see? Visit the ' +\n",
              "            '<a target=\"_blank\" href=https://colab.research.google.com/notebooks/data_table.ipynb>data table notebook</a>'\n",
              "            + ' to learn more about interactive tables.';\n",
              "          element.innerHTML = '';\n",
              "          dataTable['output_type'] = 'display_data';\n",
              "          await google.colab.output.renderOutput(dataTable, element);\n",
              "          const docLink = document.createElement('div');\n",
              "          docLink.innerHTML = docLinkHtml;\n",
              "          element.appendChild(docLink);\n",
              "        }\n",
              "      </script>\n",
              "    </div>\n",
              "  </div>\n",
              "  "
            ]
          },
          "metadata": {},
          "execution_count": 259
        }
      ],
      "source": [
        "data_dec2 = gdp_data.drop([1995, 2005], axis=0)\n",
        "data_dec2"
      ]
    },
    {
      "cell_type": "markdown",
      "metadata": {
        "id": "yBsB7stQ9bg6"
      },
      "source": [
        "### Cálculos em DataFrames\n",
        "\n",
        "Um DataFrame naturalmente entende como realizar operações elementares. Por exemplo, vamos calcular a participação do consumo no PIB."
      ]
    },
    {
      "cell_type": "code",
      "execution_count": 260,
      "metadata": {
        "id": "tCd67i1c9bg6",
        "colab": {
          "base_uri": "https://localhost:8080/",
          "height": 175
        },
        "outputId": "f2b2af89-992d-4471-f502-70407d7022c3"
      },
      "outputs": [
        {
          "output_type": "execute_result",
          "data": {
            "text/plain": [
              "   year   gdp  cons  cons_share\n",
              "0  1990   5.9   3.8    0.644068\n",
              "1  1995   7.6   4.9    0.644737\n",
              "2  2000  10.2   6.8    0.666667\n",
              "3  2005  13.0   8.7    0.669231"
            ],
            "text/html": [
              "\n",
              "  <div id=\"df-ee10a8dd-267d-4e71-8f76-63a50a8e3b82\">\n",
              "    <div class=\"colab-df-container\">\n",
              "      <div>\n",
              "<style scoped>\n",
              "    .dataframe tbody tr th:only-of-type {\n",
              "        vertical-align: middle;\n",
              "    }\n",
              "\n",
              "    .dataframe tbody tr th {\n",
              "        vertical-align: top;\n",
              "    }\n",
              "\n",
              "    .dataframe thead th {\n",
              "        text-align: right;\n",
              "    }\n",
              "</style>\n",
              "<table border=\"1\" class=\"dataframe\">\n",
              "  <thead>\n",
              "    <tr style=\"text-align: right;\">\n",
              "      <th></th>\n",
              "      <th>year</th>\n",
              "      <th>gdp</th>\n",
              "      <th>cons</th>\n",
              "      <th>cons_share</th>\n",
              "    </tr>\n",
              "  </thead>\n",
              "  <tbody>\n",
              "    <tr>\n",
              "      <th>0</th>\n",
              "      <td>1990</td>\n",
              "      <td>5.9</td>\n",
              "      <td>3.8</td>\n",
              "      <td>0.644068</td>\n",
              "    </tr>\n",
              "    <tr>\n",
              "      <th>1</th>\n",
              "      <td>1995</td>\n",
              "      <td>7.6</td>\n",
              "      <td>4.9</td>\n",
              "      <td>0.644737</td>\n",
              "    </tr>\n",
              "    <tr>\n",
              "      <th>2</th>\n",
              "      <td>2000</td>\n",
              "      <td>10.2</td>\n",
              "      <td>6.8</td>\n",
              "      <td>0.666667</td>\n",
              "    </tr>\n",
              "    <tr>\n",
              "      <th>3</th>\n",
              "      <td>2005</td>\n",
              "      <td>13.0</td>\n",
              "      <td>8.7</td>\n",
              "      <td>0.669231</td>\n",
              "    </tr>\n",
              "  </tbody>\n",
              "</table>\n",
              "</div>\n",
              "      <button class=\"colab-df-convert\" onclick=\"convertToInteractive('df-ee10a8dd-267d-4e71-8f76-63a50a8e3b82')\"\n",
              "              title=\"Convert this dataframe to an interactive table.\"\n",
              "              style=\"display:none;\">\n",
              "        \n",
              "  <svg xmlns=\"http://www.w3.org/2000/svg\" height=\"24px\"viewBox=\"0 0 24 24\"\n",
              "       width=\"24px\">\n",
              "    <path d=\"M0 0h24v24H0V0z\" fill=\"none\"/>\n",
              "    <path d=\"M18.56 5.44l.94 2.06.94-2.06 2.06-.94-2.06-.94-.94-2.06-.94 2.06-2.06.94zm-11 1L8.5 8.5l.94-2.06 2.06-.94-2.06-.94L8.5 2.5l-.94 2.06-2.06.94zm10 10l.94 2.06.94-2.06 2.06-.94-2.06-.94-.94-2.06-.94 2.06-2.06.94z\"/><path d=\"M17.41 7.96l-1.37-1.37c-.4-.4-.92-.59-1.43-.59-.52 0-1.04.2-1.43.59L10.3 9.45l-7.72 7.72c-.78.78-.78 2.05 0 2.83L4 21.41c.39.39.9.59 1.41.59.51 0 1.02-.2 1.41-.59l7.78-7.78 2.81-2.81c.8-.78.8-2.07 0-2.86zM5.41 20L4 18.59l7.72-7.72 1.47 1.35L5.41 20z\"/>\n",
              "  </svg>\n",
              "      </button>\n",
              "      \n",
              "  <style>\n",
              "    .colab-df-container {\n",
              "      display:flex;\n",
              "      flex-wrap:wrap;\n",
              "      gap: 12px;\n",
              "    }\n",
              "\n",
              "    .colab-df-convert {\n",
              "      background-color: #E8F0FE;\n",
              "      border: none;\n",
              "      border-radius: 50%;\n",
              "      cursor: pointer;\n",
              "      display: none;\n",
              "      fill: #1967D2;\n",
              "      height: 32px;\n",
              "      padding: 0 0 0 0;\n",
              "      width: 32px;\n",
              "    }\n",
              "\n",
              "    .colab-df-convert:hover {\n",
              "      background-color: #E2EBFA;\n",
              "      box-shadow: 0px 1px 2px rgba(60, 64, 67, 0.3), 0px 1px 3px 1px rgba(60, 64, 67, 0.15);\n",
              "      fill: #174EA6;\n",
              "    }\n",
              "\n",
              "    [theme=dark] .colab-df-convert {\n",
              "      background-color: #3B4455;\n",
              "      fill: #D2E3FC;\n",
              "    }\n",
              "\n",
              "    [theme=dark] .colab-df-convert:hover {\n",
              "      background-color: #434B5C;\n",
              "      box-shadow: 0px 1px 3px 1px rgba(0, 0, 0, 0.15);\n",
              "      filter: drop-shadow(0px 1px 2px rgba(0, 0, 0, 0.3));\n",
              "      fill: #FFFFFF;\n",
              "    }\n",
              "  </style>\n",
              "\n",
              "      <script>\n",
              "        const buttonEl =\n",
              "          document.querySelector('#df-ee10a8dd-267d-4e71-8f76-63a50a8e3b82 button.colab-df-convert');\n",
              "        buttonEl.style.display =\n",
              "          google.colab.kernel.accessAllowed ? 'block' : 'none';\n",
              "\n",
              "        async function convertToInteractive(key) {\n",
              "          const element = document.querySelector('#df-ee10a8dd-267d-4e71-8f76-63a50a8e3b82');\n",
              "          const dataTable =\n",
              "            await google.colab.kernel.invokeFunction('convertToInteractive',\n",
              "                                                     [key], {});\n",
              "          if (!dataTable) return;\n",
              "\n",
              "          const docLinkHtml = 'Like what you see? Visit the ' +\n",
              "            '<a target=\"_blank\" href=https://colab.research.google.com/notebooks/data_table.ipynb>data table notebook</a>'\n",
              "            + ' to learn more about interactive tables.';\n",
              "          element.innerHTML = '';\n",
              "          dataTable['output_type'] = 'display_data';\n",
              "          await google.colab.output.renderOutput(dataTable, element);\n",
              "          const docLink = document.createElement('div');\n",
              "          docLink.innerHTML = docLinkHtml;\n",
              "          element.appendChild(docLink);\n",
              "        }\n",
              "      </script>\n",
              "    </div>\n",
              "  </div>\n",
              "  "
            ]
          },
          "metadata": {},
          "execution_count": 260
        }
      ],
      "source": [
        "data = pd.DataFrame(data_dict)    # reset\n",
        "\n",
        "data['cons_share'] = data['cons'] / data['gdp'] # dividor consumo pelo PIB em cada linha\n",
        "\n",
        "data"
      ]
    },
    {
      "cell_type": "markdown",
      "metadata": {
        "id": "ms3iLvXw9bg6"
      },
      "source": [
        "Observe o lado esquerdo da atribuição. Estou criando uma nova variável (coluna) no DataFrame e atribuindo a ela o compartilhamento de consumo."
      ]
    },
    {
      "cell_type": "code",
      "execution_count": 261,
      "metadata": {
        "id": "2PbVooDz9bg6",
        "colab": {
          "base_uri": "https://localhost:8080/",
          "height": 175
        },
        "outputId": "e4bdcb1a-6162-4005-d078-9a49ea945a3f"
      },
      "outputs": [
        {
          "output_type": "execute_result",
          "data": {
            "text/plain": [
              "   year   gdp  cons  cons_share\n",
              "0  1990   5.9   3.8   64.406780\n",
              "1  1995   7.6   4.9   64.473684\n",
              "2  2000  10.2   6.8   66.666667\n",
              "3  2005  13.0   8.7   66.923077"
            ],
            "text/html": [
              "\n",
              "  <div id=\"df-4f78c2f9-66d0-4416-ba5b-65601704d3fd\">\n",
              "    <div class=\"colab-df-container\">\n",
              "      <div>\n",
              "<style scoped>\n",
              "    .dataframe tbody tr th:only-of-type {\n",
              "        vertical-align: middle;\n",
              "    }\n",
              "\n",
              "    .dataframe tbody tr th {\n",
              "        vertical-align: top;\n",
              "    }\n",
              "\n",
              "    .dataframe thead th {\n",
              "        text-align: right;\n",
              "    }\n",
              "</style>\n",
              "<table border=\"1\" class=\"dataframe\">\n",
              "  <thead>\n",
              "    <tr style=\"text-align: right;\">\n",
              "      <th></th>\n",
              "      <th>year</th>\n",
              "      <th>gdp</th>\n",
              "      <th>cons</th>\n",
              "      <th>cons_share</th>\n",
              "    </tr>\n",
              "  </thead>\n",
              "  <tbody>\n",
              "    <tr>\n",
              "      <th>0</th>\n",
              "      <td>1990</td>\n",
              "      <td>5.9</td>\n",
              "      <td>3.8</td>\n",
              "      <td>64.406780</td>\n",
              "    </tr>\n",
              "    <tr>\n",
              "      <th>1</th>\n",
              "      <td>1995</td>\n",
              "      <td>7.6</td>\n",
              "      <td>4.9</td>\n",
              "      <td>64.473684</td>\n",
              "    </tr>\n",
              "    <tr>\n",
              "      <th>2</th>\n",
              "      <td>2000</td>\n",
              "      <td>10.2</td>\n",
              "      <td>6.8</td>\n",
              "      <td>66.666667</td>\n",
              "    </tr>\n",
              "    <tr>\n",
              "      <th>3</th>\n",
              "      <td>2005</td>\n",
              "      <td>13.0</td>\n",
              "      <td>8.7</td>\n",
              "      <td>66.923077</td>\n",
              "    </tr>\n",
              "  </tbody>\n",
              "</table>\n",
              "</div>\n",
              "      <button class=\"colab-df-convert\" onclick=\"convertToInteractive('df-4f78c2f9-66d0-4416-ba5b-65601704d3fd')\"\n",
              "              title=\"Convert this dataframe to an interactive table.\"\n",
              "              style=\"display:none;\">\n",
              "        \n",
              "  <svg xmlns=\"http://www.w3.org/2000/svg\" height=\"24px\"viewBox=\"0 0 24 24\"\n",
              "       width=\"24px\">\n",
              "    <path d=\"M0 0h24v24H0V0z\" fill=\"none\"/>\n",
              "    <path d=\"M18.56 5.44l.94 2.06.94-2.06 2.06-.94-2.06-.94-.94-2.06-.94 2.06-2.06.94zm-11 1L8.5 8.5l.94-2.06 2.06-.94-2.06-.94L8.5 2.5l-.94 2.06-2.06.94zm10 10l.94 2.06.94-2.06 2.06-.94-2.06-.94-.94-2.06-.94 2.06-2.06.94z\"/><path d=\"M17.41 7.96l-1.37-1.37c-.4-.4-.92-.59-1.43-.59-.52 0-1.04.2-1.43.59L10.3 9.45l-7.72 7.72c-.78.78-.78 2.05 0 2.83L4 21.41c.39.39.9.59 1.41.59.51 0 1.02-.2 1.41-.59l7.78-7.78 2.81-2.81c.8-.78.8-2.07 0-2.86zM5.41 20L4 18.59l7.72-7.72 1.47 1.35L5.41 20z\"/>\n",
              "  </svg>\n",
              "      </button>\n",
              "      \n",
              "  <style>\n",
              "    .colab-df-container {\n",
              "      display:flex;\n",
              "      flex-wrap:wrap;\n",
              "      gap: 12px;\n",
              "    }\n",
              "\n",
              "    .colab-df-convert {\n",
              "      background-color: #E8F0FE;\n",
              "      border: none;\n",
              "      border-radius: 50%;\n",
              "      cursor: pointer;\n",
              "      display: none;\n",
              "      fill: #1967D2;\n",
              "      height: 32px;\n",
              "      padding: 0 0 0 0;\n",
              "      width: 32px;\n",
              "    }\n",
              "\n",
              "    .colab-df-convert:hover {\n",
              "      background-color: #E2EBFA;\n",
              "      box-shadow: 0px 1px 2px rgba(60, 64, 67, 0.3), 0px 1px 3px 1px rgba(60, 64, 67, 0.15);\n",
              "      fill: #174EA6;\n",
              "    }\n",
              "\n",
              "    [theme=dark] .colab-df-convert {\n",
              "      background-color: #3B4455;\n",
              "      fill: #D2E3FC;\n",
              "    }\n",
              "\n",
              "    [theme=dark] .colab-df-convert:hover {\n",
              "      background-color: #434B5C;\n",
              "      box-shadow: 0px 1px 3px 1px rgba(0, 0, 0, 0.15);\n",
              "      filter: drop-shadow(0px 1px 2px rgba(0, 0, 0, 0.3));\n",
              "      fill: #FFFFFF;\n",
              "    }\n",
              "  </style>\n",
              "\n",
              "      <script>\n",
              "        const buttonEl =\n",
              "          document.querySelector('#df-4f78c2f9-66d0-4416-ba5b-65601704d3fd button.colab-df-convert');\n",
              "        buttonEl.style.display =\n",
              "          google.colab.kernel.accessAllowed ? 'block' : 'none';\n",
              "\n",
              "        async function convertToInteractive(key) {\n",
              "          const element = document.querySelector('#df-4f78c2f9-66d0-4416-ba5b-65601704d3fd');\n",
              "          const dataTable =\n",
              "            await google.colab.kernel.invokeFunction('convertToInteractive',\n",
              "                                                     [key], {});\n",
              "          if (!dataTable) return;\n",
              "\n",
              "          const docLinkHtml = 'Like what you see? Visit the ' +\n",
              "            '<a target=\"_blank\" href=https://colab.research.google.com/notebooks/data_table.ipynb>data table notebook</a>'\n",
              "            + ' to learn more about interactive tables.';\n",
              "          element.innerHTML = '';\n",
              "          dataTable['output_type'] = 'display_data';\n",
              "          await google.colab.output.renderOutput(dataTable, element);\n",
              "          const docLink = document.createElement('div');\n",
              "          docLink.innerHTML = docLinkHtml;\n",
              "          element.appendChild(docLink);\n",
              "        }\n",
              "      </script>\n",
              "    </div>\n",
              "  </div>\n",
              "  "
            ]
          },
          "metadata": {},
          "execution_count": 261
        }
      ],
      "source": [
        "# Caso queira como percentual\n",
        "data['cons_share'] = data['cons_share']*100\n",
        "data"
      ]
    },
    {
      "cell_type": "markdown",
      "metadata": {
        "id": "d_G-KiSp9bg6"
      },
      "source": [
        "Os operadores +,-,/,* funcionam todos os elementos. Como vimos, multiplicar e dividir por scaler também funciona bem."
      ]
    },
    {
      "cell_type": "markdown",
      "metadata": {
        "id": "KcYA9Svm9bg7"
      },
      "source": [
        "### Métodos DataFrame para operações simples\n",
        "DataFrame tem muitos métodos para calcular várias estatísticas sobre os dados. Observe que alguns deles recebem um argumento de eixo: você pode calcular `sum()` em uma linha ou coluna."
      ]
    },
    {
      "cell_type": "code",
      "execution_count": 262,
      "metadata": {
        "id": "koBbz2zB9bg7",
        "colab": {
          "base_uri": "https://localhost:8080/"
        },
        "outputId": "6be140dc-94f0-4b48-c873-3ac2f06ffb96"
      },
      "outputs": [
        {
          "output_type": "stream",
          "name": "stdout",
          "text": [
            "Soma através das colunas: \n",
            "0    2064.106780\n",
            "1    2071.973684\n",
            "2    2083.666667\n",
            "3    2093.623077\n",
            "dtype: float64\n",
            "\n",
            "Soma através das linhas: \n",
            "year          7990.000000\n",
            "gdp             36.700000\n",
            "cons            24.200000\n",
            "cons_share     262.470207\n",
            "dtype: float64\n",
            "\n",
            "Soma do PIB\n",
            "36.7\n",
            "\n",
            "Média de cada Coluna\n",
            "year          1997.500000\n",
            "gdp              9.175000\n",
            "cons             6.050000\n",
            "cons_share      65.617552\n",
            "dtype: float64\n",
            "\n",
            "Média do PIB e Consumo\n",
            "gdp     9.175\n",
            "cons    6.050\n",
            "dtype: float64\n"
          ]
        }
      ],
      "source": [
        "# Somas \n",
        "print('Soma através das colunas: ')\n",
        "print(data.sum(axis=1))\n",
        "\n",
        "print('\\nSoma através das linhas: ')\n",
        "print(data.sum(axis=0)) #\n",
        "\n",
        "print('\\nSoma do PIB')\n",
        "print(data['gdp'].sum(axis=0)) # Sum a single column.\n",
        "\n",
        "# Means\n",
        "print('\\nMédia de cada Coluna')\n",
        "print(data.mean(axis=0)) \n",
        "\n",
        "print('\\nMédia do PIB e Consumo')\n",
        "print(data[['gdp', 'cons']].mean(axis=0))\n"
      ]
    },
    {
      "cell_type": "markdown",
      "metadata": {
        "id": "Tx6QDfV09bg7"
      },
      "source": [
        "Verifique os métodos disponíveis ou a [documentação](https://pandas.pydata.org/pandas-docs/stable/generated/pandas.DataFrame.html).\n",
        "\n",
        "Aqui estão alguns: soma, média, var, std, skew, rank, quantil, mode, min, max, kurtosis, cumsum, cumprod...\n",
        "\n",
        "Eles serão ainda mais poderosos quando aprendermos a agrupar dados em um DataFrame e calcular estatísticas por grupo.\n",
        "\n",
        "Um método muito útil..."
      ]
    },
    {
      "cell_type": "code",
      "execution_count": 263,
      "metadata": {
        "id": "a7EwNs1Q9bg7",
        "colab": {
          "base_uri": "https://localhost:8080/",
          "height": 331
        },
        "outputId": "26791886-0b63-4b40-dcf8-14a3b2b82393"
      },
      "outputs": [
        {
          "output_type": "stream",
          "name": "stdout",
          "text": [
            "              year       gdp      cons  cons_share\n",
            "count     4.000000   4.00000  4.000000    4.000000\n",
            "mean   1997.500000   9.17500  6.050000   65.617552\n",
            "std       6.454972   3.10309  2.157931    1.363750\n",
            "min    1990.000000   5.90000  3.800000   64.406780\n",
            "25%    1993.750000   7.17500  4.625000   64.456958\n",
            "50%    1997.500000   8.90000  5.850000   65.570175\n",
            "75%    2001.250000  10.90000  7.275000   66.730769\n",
            "max    2005.000000  13.00000  8.700000   66.923077\n"
          ]
        },
        {
          "output_type": "execute_result",
          "data": {
            "text/plain": [
              "   year   gdp  cons  cons_share\n",
              "0  1990   5.9   3.8   64.406780\n",
              "1  1995   7.6   4.9   64.473684\n",
              "2  2000  10.2   6.8   66.666667\n",
              "3  2005  13.0   8.7   66.923077"
            ],
            "text/html": [
              "\n",
              "  <div id=\"df-366b9b9a-24a5-4ec9-a5f3-9a99b69f12fd\">\n",
              "    <div class=\"colab-df-container\">\n",
              "      <div>\n",
              "<style scoped>\n",
              "    .dataframe tbody tr th:only-of-type {\n",
              "        vertical-align: middle;\n",
              "    }\n",
              "\n",
              "    .dataframe tbody tr th {\n",
              "        vertical-align: top;\n",
              "    }\n",
              "\n",
              "    .dataframe thead th {\n",
              "        text-align: right;\n",
              "    }\n",
              "</style>\n",
              "<table border=\"1\" class=\"dataframe\">\n",
              "  <thead>\n",
              "    <tr style=\"text-align: right;\">\n",
              "      <th></th>\n",
              "      <th>year</th>\n",
              "      <th>gdp</th>\n",
              "      <th>cons</th>\n",
              "      <th>cons_share</th>\n",
              "    </tr>\n",
              "  </thead>\n",
              "  <tbody>\n",
              "    <tr>\n",
              "      <th>0</th>\n",
              "      <td>1990</td>\n",
              "      <td>5.9</td>\n",
              "      <td>3.8</td>\n",
              "      <td>64.406780</td>\n",
              "    </tr>\n",
              "    <tr>\n",
              "      <th>1</th>\n",
              "      <td>1995</td>\n",
              "      <td>7.6</td>\n",
              "      <td>4.9</td>\n",
              "      <td>64.473684</td>\n",
              "    </tr>\n",
              "    <tr>\n",
              "      <th>2</th>\n",
              "      <td>2000</td>\n",
              "      <td>10.2</td>\n",
              "      <td>6.8</td>\n",
              "      <td>66.666667</td>\n",
              "    </tr>\n",
              "    <tr>\n",
              "      <th>3</th>\n",
              "      <td>2005</td>\n",
              "      <td>13.0</td>\n",
              "      <td>8.7</td>\n",
              "      <td>66.923077</td>\n",
              "    </tr>\n",
              "  </tbody>\n",
              "</table>\n",
              "</div>\n",
              "      <button class=\"colab-df-convert\" onclick=\"convertToInteractive('df-366b9b9a-24a5-4ec9-a5f3-9a99b69f12fd')\"\n",
              "              title=\"Convert this dataframe to an interactive table.\"\n",
              "              style=\"display:none;\">\n",
              "        \n",
              "  <svg xmlns=\"http://www.w3.org/2000/svg\" height=\"24px\"viewBox=\"0 0 24 24\"\n",
              "       width=\"24px\">\n",
              "    <path d=\"M0 0h24v24H0V0z\" fill=\"none\"/>\n",
              "    <path d=\"M18.56 5.44l.94 2.06.94-2.06 2.06-.94-2.06-.94-.94-2.06-.94 2.06-2.06.94zm-11 1L8.5 8.5l.94-2.06 2.06-.94-2.06-.94L8.5 2.5l-.94 2.06-2.06.94zm10 10l.94 2.06.94-2.06 2.06-.94-2.06-.94-.94-2.06-.94 2.06-2.06.94z\"/><path d=\"M17.41 7.96l-1.37-1.37c-.4-.4-.92-.59-1.43-.59-.52 0-1.04.2-1.43.59L10.3 9.45l-7.72 7.72c-.78.78-.78 2.05 0 2.83L4 21.41c.39.39.9.59 1.41.59.51 0 1.02-.2 1.41-.59l7.78-7.78 2.81-2.81c.8-.78.8-2.07 0-2.86zM5.41 20L4 18.59l7.72-7.72 1.47 1.35L5.41 20z\"/>\n",
              "  </svg>\n",
              "      </button>\n",
              "      \n",
              "  <style>\n",
              "    .colab-df-container {\n",
              "      display:flex;\n",
              "      flex-wrap:wrap;\n",
              "      gap: 12px;\n",
              "    }\n",
              "\n",
              "    .colab-df-convert {\n",
              "      background-color: #E8F0FE;\n",
              "      border: none;\n",
              "      border-radius: 50%;\n",
              "      cursor: pointer;\n",
              "      display: none;\n",
              "      fill: #1967D2;\n",
              "      height: 32px;\n",
              "      padding: 0 0 0 0;\n",
              "      width: 32px;\n",
              "    }\n",
              "\n",
              "    .colab-df-convert:hover {\n",
              "      background-color: #E2EBFA;\n",
              "      box-shadow: 0px 1px 2px rgba(60, 64, 67, 0.3), 0px 1px 3px 1px rgba(60, 64, 67, 0.15);\n",
              "      fill: #174EA6;\n",
              "    }\n",
              "\n",
              "    [theme=dark] .colab-df-convert {\n",
              "      background-color: #3B4455;\n",
              "      fill: #D2E3FC;\n",
              "    }\n",
              "\n",
              "    [theme=dark] .colab-df-convert:hover {\n",
              "      background-color: #434B5C;\n",
              "      box-shadow: 0px 1px 3px 1px rgba(0, 0, 0, 0.15);\n",
              "      filter: drop-shadow(0px 1px 2px rgba(0, 0, 0, 0.3));\n",
              "      fill: #FFFFFF;\n",
              "    }\n",
              "  </style>\n",
              "\n",
              "      <script>\n",
              "        const buttonEl =\n",
              "          document.querySelector('#df-366b9b9a-24a5-4ec9-a5f3-9a99b69f12fd button.colab-df-convert');\n",
              "        buttonEl.style.display =\n",
              "          google.colab.kernel.accessAllowed ? 'block' : 'none';\n",
              "\n",
              "        async function convertToInteractive(key) {\n",
              "          const element = document.querySelector('#df-366b9b9a-24a5-4ec9-a5f3-9a99b69f12fd');\n",
              "          const dataTable =\n",
              "            await google.colab.kernel.invokeFunction('convertToInteractive',\n",
              "                                                     [key], {});\n",
              "          if (!dataTable) return;\n",
              "\n",
              "          const docLinkHtml = 'Like what you see? Visit the ' +\n",
              "            '<a target=\"_blank\" href=https://colab.research.google.com/notebooks/data_table.ipynb>data table notebook</a>'\n",
              "            + ' to learn more about interactive tables.';\n",
              "          element.innerHTML = '';\n",
              "          dataTable['output_type'] = 'display_data';\n",
              "          await google.colab.output.renderOutput(dataTable, element);\n",
              "          const docLink = document.createElement('div');\n",
              "          docLink.innerHTML = docLinkHtml;\n",
              "          element.appendChild(docLink);\n",
              "        }\n",
              "      </script>\n",
              "    </div>\n",
              "  </div>\n",
              "  "
            ]
          },
          "metadata": {},
          "execution_count": 263
        }
      ],
      "source": [
        "print(data.describe())   # um bom ponto de partida para qualquer dataset\n",
        "data"
      ]
    },
    {
      "cell_type": "markdown",
      "metadata": {
        "id": "MF2FUk8z9bg7"
      },
      "source": [
        "### <font color='orange'>Prática: DataFrames (Parte 3)</font>\n",
        "Reserve alguns minutos e tente o seguinte.\n",
        "\n",
        "1. Calcule a média da parcela de consumo para 1990 e 1995. Você pode tentar usar `loc[]` com dois argumentos `loc[rows, cols]`"
      ]
    },
    {
      "cell_type": "code",
      "execution_count": 264,
      "metadata": {
        "id": "9MesUKOm9bg7",
        "colab": {
          "base_uri": "https://localhost:8080/",
          "height": 112
        },
        "outputId": "74ecac51-3239-42b3-b98a-b3d470b1b1b6"
      },
      "outputs": [
        {
          "output_type": "execute_result",
          "data": {
            "text/plain": [
              "   year  gdp  cons  cons_share\n",
              "0  1990  5.9   3.8   64.406780\n",
              "1  1995  7.6   4.9   64.473684"
            ],
            "text/html": [
              "\n",
              "  <div id=\"df-580295e8-79ea-464e-a335-0933b015f6a7\">\n",
              "    <div class=\"colab-df-container\">\n",
              "      <div>\n",
              "<style scoped>\n",
              "    .dataframe tbody tr th:only-of-type {\n",
              "        vertical-align: middle;\n",
              "    }\n",
              "\n",
              "    .dataframe tbody tr th {\n",
              "        vertical-align: top;\n",
              "    }\n",
              "\n",
              "    .dataframe thead th {\n",
              "        text-align: right;\n",
              "    }\n",
              "</style>\n",
              "<table border=\"1\" class=\"dataframe\">\n",
              "  <thead>\n",
              "    <tr style=\"text-align: right;\">\n",
              "      <th></th>\n",
              "      <th>year</th>\n",
              "      <th>gdp</th>\n",
              "      <th>cons</th>\n",
              "      <th>cons_share</th>\n",
              "    </tr>\n",
              "  </thead>\n",
              "  <tbody>\n",
              "    <tr>\n",
              "      <th>0</th>\n",
              "      <td>1990</td>\n",
              "      <td>5.9</td>\n",
              "      <td>3.8</td>\n",
              "      <td>64.406780</td>\n",
              "    </tr>\n",
              "    <tr>\n",
              "      <th>1</th>\n",
              "      <td>1995</td>\n",
              "      <td>7.6</td>\n",
              "      <td>4.9</td>\n",
              "      <td>64.473684</td>\n",
              "    </tr>\n",
              "  </tbody>\n",
              "</table>\n",
              "</div>\n",
              "      <button class=\"colab-df-convert\" onclick=\"convertToInteractive('df-580295e8-79ea-464e-a335-0933b015f6a7')\"\n",
              "              title=\"Convert this dataframe to an interactive table.\"\n",
              "              style=\"display:none;\">\n",
              "        \n",
              "  <svg xmlns=\"http://www.w3.org/2000/svg\" height=\"24px\"viewBox=\"0 0 24 24\"\n",
              "       width=\"24px\">\n",
              "    <path d=\"M0 0h24v24H0V0z\" fill=\"none\"/>\n",
              "    <path d=\"M18.56 5.44l.94 2.06.94-2.06 2.06-.94-2.06-.94-.94-2.06-.94 2.06-2.06.94zm-11 1L8.5 8.5l.94-2.06 2.06-.94-2.06-.94L8.5 2.5l-.94 2.06-2.06.94zm10 10l.94 2.06.94-2.06 2.06-.94-2.06-.94-.94-2.06-.94 2.06-2.06.94z\"/><path d=\"M17.41 7.96l-1.37-1.37c-.4-.4-.92-.59-1.43-.59-.52 0-1.04.2-1.43.59L10.3 9.45l-7.72 7.72c-.78.78-.78 2.05 0 2.83L4 21.41c.39.39.9.59 1.41.59.51 0 1.02-.2 1.41-.59l7.78-7.78 2.81-2.81c.8-.78.8-2.07 0-2.86zM5.41 20L4 18.59l7.72-7.72 1.47 1.35L5.41 20z\"/>\n",
              "  </svg>\n",
              "      </button>\n",
              "      \n",
              "  <style>\n",
              "    .colab-df-container {\n",
              "      display:flex;\n",
              "      flex-wrap:wrap;\n",
              "      gap: 12px;\n",
              "    }\n",
              "\n",
              "    .colab-df-convert {\n",
              "      background-color: #E8F0FE;\n",
              "      border: none;\n",
              "      border-radius: 50%;\n",
              "      cursor: pointer;\n",
              "      display: none;\n",
              "      fill: #1967D2;\n",
              "      height: 32px;\n",
              "      padding: 0 0 0 0;\n",
              "      width: 32px;\n",
              "    }\n",
              "\n",
              "    .colab-df-convert:hover {\n",
              "      background-color: #E2EBFA;\n",
              "      box-shadow: 0px 1px 2px rgba(60, 64, 67, 0.3), 0px 1px 3px 1px rgba(60, 64, 67, 0.15);\n",
              "      fill: #174EA6;\n",
              "    }\n",
              "\n",
              "    [theme=dark] .colab-df-convert {\n",
              "      background-color: #3B4455;\n",
              "      fill: #D2E3FC;\n",
              "    }\n",
              "\n",
              "    [theme=dark] .colab-df-convert:hover {\n",
              "      background-color: #434B5C;\n",
              "      box-shadow: 0px 1px 3px 1px rgba(0, 0, 0, 0.15);\n",
              "      filter: drop-shadow(0px 1px 2px rgba(0, 0, 0, 0.3));\n",
              "      fill: #FFFFFF;\n",
              "    }\n",
              "  </style>\n",
              "\n",
              "      <script>\n",
              "        const buttonEl =\n",
              "          document.querySelector('#df-580295e8-79ea-464e-a335-0933b015f6a7 button.colab-df-convert');\n",
              "        buttonEl.style.display =\n",
              "          google.colab.kernel.accessAllowed ? 'block' : 'none';\n",
              "\n",
              "        async function convertToInteractive(key) {\n",
              "          const element = document.querySelector('#df-580295e8-79ea-464e-a335-0933b015f6a7');\n",
              "          const dataTable =\n",
              "            await google.colab.kernel.invokeFunction('convertToInteractive',\n",
              "                                                     [key], {});\n",
              "          if (!dataTable) return;\n",
              "\n",
              "          const docLinkHtml = 'Like what you see? Visit the ' +\n",
              "            '<a target=\"_blank\" href=https://colab.research.google.com/notebooks/data_table.ipynb>data table notebook</a>'\n",
              "            + ' to learn more about interactive tables.';\n",
              "          element.innerHTML = '';\n",
              "          dataTable['output_type'] = 'display_data';\n",
              "          await google.colab.output.renderOutput(dataTable, element);\n",
              "          const docLink = document.createElement('div');\n",
              "          docLink.innerHTML = docLinkHtml;\n",
              "          element.appendChild(docLink);\n",
              "        }\n",
              "      </script>\n",
              "    </div>\n",
              "  </div>\n",
              "  "
            ]
          },
          "metadata": {},
          "execution_count": 264
        }
      ],
      "source": [
        "data_filtered = data.loc[(data['year'] == 1990) | (data['year'] == 1995)]\n",
        "data_filtered"
      ]
    },
    {
      "cell_type": "code",
      "source": [
        "cons_share_mean = data_filtered['cons_share'].mean(axis=0)\n",
        "print(f'Média de parcela de consumo de 1990 a 1995: \\n {cons_share_mean}')"
      ],
      "metadata": {
        "colab": {
          "base_uri": "https://localhost:8080/"
        },
        "id": "OSTQYX9Tz0V0",
        "outputId": "f6f7eae0-a54f-4d0d-dd4a-d93e587acfa3"
      },
      "execution_count": 265,
      "outputs": [
        {
          "output_type": "stream",
          "name": "stdout",
          "text": [
            "Média de parcela de consumo de 1990 a 1995: \n",
            " 64.44023193577164\n"
          ]
        }
      ]
    },
    {
      "cell_type": "markdown",
      "metadata": {
        "id": "2-IWAkhX9bg7"
      },
      "source": [
        "2. Tente `desc = data.describe()` Qual é o tipo de retorno?"
      ]
    },
    {
      "cell_type": "code",
      "execution_count": 266,
      "metadata": {
        "id": "_r_vGjZx9bg8",
        "colab": {
          "base_uri": "https://localhost:8080/"
        },
        "outputId": "a000101a-e92f-48da-c1cf-9255ea40c2fa"
      },
      "outputs": [
        {
          "output_type": "stream",
          "name": "stdout",
          "text": [
            "<class 'pandas.core.frame.DataFrame'>\n"
          ]
        }
      ],
      "source": [
        "desc = data.describe()\n",
        "print(type(desc))"
      ]
    },
    {
      "cell_type": "code",
      "source": [
        "desc"
      ],
      "metadata": {
        "colab": {
          "base_uri": "https://localhost:8080/",
          "height": 300
        },
        "id": "pYZRcj_40qX4",
        "outputId": "b14cba16-b74a-4cd6-c357-12a86f392d3d"
      },
      "execution_count": 267,
      "outputs": [
        {
          "output_type": "execute_result",
          "data": {
            "text/plain": [
              "              year       gdp      cons  cons_share\n",
              "count     4.000000   4.00000  4.000000    4.000000\n",
              "mean   1997.500000   9.17500  6.050000   65.617552\n",
              "std       6.454972   3.10309  2.157931    1.363750\n",
              "min    1990.000000   5.90000  3.800000   64.406780\n",
              "25%    1993.750000   7.17500  4.625000   64.456958\n",
              "50%    1997.500000   8.90000  5.850000   65.570175\n",
              "75%    2001.250000  10.90000  7.275000   66.730769\n",
              "max    2005.000000  13.00000  8.700000   66.923077"
            ],
            "text/html": [
              "\n",
              "  <div id=\"df-53b3f54e-dac4-4bee-93a7-b6d6ccb7ca5a\">\n",
              "    <div class=\"colab-df-container\">\n",
              "      <div>\n",
              "<style scoped>\n",
              "    .dataframe tbody tr th:only-of-type {\n",
              "        vertical-align: middle;\n",
              "    }\n",
              "\n",
              "    .dataframe tbody tr th {\n",
              "        vertical-align: top;\n",
              "    }\n",
              "\n",
              "    .dataframe thead th {\n",
              "        text-align: right;\n",
              "    }\n",
              "</style>\n",
              "<table border=\"1\" class=\"dataframe\">\n",
              "  <thead>\n",
              "    <tr style=\"text-align: right;\">\n",
              "      <th></th>\n",
              "      <th>year</th>\n",
              "      <th>gdp</th>\n",
              "      <th>cons</th>\n",
              "      <th>cons_share</th>\n",
              "    </tr>\n",
              "  </thead>\n",
              "  <tbody>\n",
              "    <tr>\n",
              "      <th>count</th>\n",
              "      <td>4.000000</td>\n",
              "      <td>4.00000</td>\n",
              "      <td>4.000000</td>\n",
              "      <td>4.000000</td>\n",
              "    </tr>\n",
              "    <tr>\n",
              "      <th>mean</th>\n",
              "      <td>1997.500000</td>\n",
              "      <td>9.17500</td>\n",
              "      <td>6.050000</td>\n",
              "      <td>65.617552</td>\n",
              "    </tr>\n",
              "    <tr>\n",
              "      <th>std</th>\n",
              "      <td>6.454972</td>\n",
              "      <td>3.10309</td>\n",
              "      <td>2.157931</td>\n",
              "      <td>1.363750</td>\n",
              "    </tr>\n",
              "    <tr>\n",
              "      <th>min</th>\n",
              "      <td>1990.000000</td>\n",
              "      <td>5.90000</td>\n",
              "      <td>3.800000</td>\n",
              "      <td>64.406780</td>\n",
              "    </tr>\n",
              "    <tr>\n",
              "      <th>25%</th>\n",
              "      <td>1993.750000</td>\n",
              "      <td>7.17500</td>\n",
              "      <td>4.625000</td>\n",
              "      <td>64.456958</td>\n",
              "    </tr>\n",
              "    <tr>\n",
              "      <th>50%</th>\n",
              "      <td>1997.500000</td>\n",
              "      <td>8.90000</td>\n",
              "      <td>5.850000</td>\n",
              "      <td>65.570175</td>\n",
              "    </tr>\n",
              "    <tr>\n",
              "      <th>75%</th>\n",
              "      <td>2001.250000</td>\n",
              "      <td>10.90000</td>\n",
              "      <td>7.275000</td>\n",
              "      <td>66.730769</td>\n",
              "    </tr>\n",
              "    <tr>\n",
              "      <th>max</th>\n",
              "      <td>2005.000000</td>\n",
              "      <td>13.00000</td>\n",
              "      <td>8.700000</td>\n",
              "      <td>66.923077</td>\n",
              "    </tr>\n",
              "  </tbody>\n",
              "</table>\n",
              "</div>\n",
              "      <button class=\"colab-df-convert\" onclick=\"convertToInteractive('df-53b3f54e-dac4-4bee-93a7-b6d6ccb7ca5a')\"\n",
              "              title=\"Convert this dataframe to an interactive table.\"\n",
              "              style=\"display:none;\">\n",
              "        \n",
              "  <svg xmlns=\"http://www.w3.org/2000/svg\" height=\"24px\"viewBox=\"0 0 24 24\"\n",
              "       width=\"24px\">\n",
              "    <path d=\"M0 0h24v24H0V0z\" fill=\"none\"/>\n",
              "    <path d=\"M18.56 5.44l.94 2.06.94-2.06 2.06-.94-2.06-.94-.94-2.06-.94 2.06-2.06.94zm-11 1L8.5 8.5l.94-2.06 2.06-.94-2.06-.94L8.5 2.5l-.94 2.06-2.06.94zm10 10l.94 2.06.94-2.06 2.06-.94-2.06-.94-.94-2.06-.94 2.06-2.06.94z\"/><path d=\"M17.41 7.96l-1.37-1.37c-.4-.4-.92-.59-1.43-.59-.52 0-1.04.2-1.43.59L10.3 9.45l-7.72 7.72c-.78.78-.78 2.05 0 2.83L4 21.41c.39.39.9.59 1.41.59.51 0 1.02-.2 1.41-.59l7.78-7.78 2.81-2.81c.8-.78.8-2.07 0-2.86zM5.41 20L4 18.59l7.72-7.72 1.47 1.35L5.41 20z\"/>\n",
              "  </svg>\n",
              "      </button>\n",
              "      \n",
              "  <style>\n",
              "    .colab-df-container {\n",
              "      display:flex;\n",
              "      flex-wrap:wrap;\n",
              "      gap: 12px;\n",
              "    }\n",
              "\n",
              "    .colab-df-convert {\n",
              "      background-color: #E8F0FE;\n",
              "      border: none;\n",
              "      border-radius: 50%;\n",
              "      cursor: pointer;\n",
              "      display: none;\n",
              "      fill: #1967D2;\n",
              "      height: 32px;\n",
              "      padding: 0 0 0 0;\n",
              "      width: 32px;\n",
              "    }\n",
              "\n",
              "    .colab-df-convert:hover {\n",
              "      background-color: #E2EBFA;\n",
              "      box-shadow: 0px 1px 2px rgba(60, 64, 67, 0.3), 0px 1px 3px 1px rgba(60, 64, 67, 0.15);\n",
              "      fill: #174EA6;\n",
              "    }\n",
              "\n",
              "    [theme=dark] .colab-df-convert {\n",
              "      background-color: #3B4455;\n",
              "      fill: #D2E3FC;\n",
              "    }\n",
              "\n",
              "    [theme=dark] .colab-df-convert:hover {\n",
              "      background-color: #434B5C;\n",
              "      box-shadow: 0px 1px 3px 1px rgba(0, 0, 0, 0.15);\n",
              "      filter: drop-shadow(0px 1px 2px rgba(0, 0, 0, 0.3));\n",
              "      fill: #FFFFFF;\n",
              "    }\n",
              "  </style>\n",
              "\n",
              "      <script>\n",
              "        const buttonEl =\n",
              "          document.querySelector('#df-53b3f54e-dac4-4bee-93a7-b6d6ccb7ca5a button.colab-df-convert');\n",
              "        buttonEl.style.display =\n",
              "          google.colab.kernel.accessAllowed ? 'block' : 'none';\n",
              "\n",
              "        async function convertToInteractive(key) {\n",
              "          const element = document.querySelector('#df-53b3f54e-dac4-4bee-93a7-b6d6ccb7ca5a');\n",
              "          const dataTable =\n",
              "            await google.colab.kernel.invokeFunction('convertToInteractive',\n",
              "                                                     [key], {});\n",
              "          if (!dataTable) return;\n",
              "\n",
              "          const docLinkHtml = 'Like what you see? Visit the ' +\n",
              "            '<a target=\"_blank\" href=https://colab.research.google.com/notebooks/data_table.ipynb>data table notebook</a>'\n",
              "            + ' to learn more about interactive tables.';\n",
              "          element.innerHTML = '';\n",
              "          dataTable['output_type'] = 'display_data';\n",
              "          await google.colab.output.renderOutput(dataTable, element);\n",
              "          const docLink = document.createElement('div');\n",
              "          docLink.innerHTML = docLinkHtml;\n",
              "          element.appendChild(docLink);\n",
              "        }\n",
              "      </script>\n",
              "    </div>\n",
              "  </div>\n",
              "  "
            ]
          },
          "metadata": {},
          "execution_count": 267
        }
      ]
    },
    {
      "cell_type": "code",
      "source": [
        "print(f'Índices de desc: {desc.index.to_list()}\\nColunas de desc: {desc.columns.to_list()}')\n",
        "print(f'Shape de desc: {desc.shape}\\nNúmero de células de desc: {desc.size}')"
      ],
      "metadata": {
        "colab": {
          "base_uri": "https://localhost:8080/"
        },
        "id": "EalxcYLQ0saL",
        "outputId": "173ae44e-5dd5-4757-cbf0-4a3b1bed058b"
      },
      "execution_count": 268,
      "outputs": [
        {
          "output_type": "stream",
          "name": "stdout",
          "text": [
            "Índices de desc: ['count', 'mean', 'std', 'min', '25%', '50%', '75%', 'max']\n",
            "Colunas de desc: ['year', 'gdp', 'cons', 'cons_share']\n",
            "Shape de desc: (8, 4)\n",
            "Número de células de desc: 32\n"
          ]
        }
      ]
    },
    {
      "cell_type": "markdown",
      "metadata": {
        "id": "S1hyHWMQ9bg8"
      },
      "source": [
        "3. Olhando para o futuro, experimente o código a seguir. O que isso faz? Você consegue encontrar o arquivo? O que está dentro dele?\n",
        "\n",
        "R: Transforma o dataframe `desc` em dois arquivos, um .csv e outro .xlsx (excel), salvos na sessão local do google colab."
      ]
    },
    {
      "cell_type": "code",
      "execution_count": 269,
      "metadata": {
        "id": "LBdmqUCO9bg8"
      },
      "outputs": [],
      "source": [
        "desc.to_csv('desc.csv')\n",
        "desc.to_excel('desc.xlsx')"
      ]
    }
  ],
  "metadata": {
    "kernelspec": {
      "display_name": "Python 3",
      "language": "python",
      "name": "python3"
    },
    "language_info": {
      "codemirror_mode": {
        "name": "ipython",
        "version": 3
      },
      "file_extension": ".py",
      "mimetype": "text/x-python",
      "name": "python",
      "nbconvert_exporter": "python",
      "pygments_lexer": "ipython3",
      "version": "3.7.3"
    },
    "colab": {
      "name": "Aula01-1_PythonPandas-P1.ipynb",
      "provenance": []
    }
  },
  "nbformat": 4,
  "nbformat_minor": 0
}