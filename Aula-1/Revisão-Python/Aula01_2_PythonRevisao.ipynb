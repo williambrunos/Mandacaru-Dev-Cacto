{
  "cells": [
    {
      "cell_type": "markdown",
      "metadata": {
        "id": "kLewU6eRbVE8"
      },
      "source": [
        "# Revisão de Python\n",
        "\n",
        "## Objetivo\n",
        "\n",
        "O objetivo deste primeiro encontro é discutir aspectos básicos da linguagem python tais como:\n",
        "- Tipos básicos de dados;\n",
        "- Operações e funções matemáticas básicas;\n",
        "- Estruturas básicas de dados;\n",
        "- Estruturas de controle;\n",
        "- Programação funcional;\n",
        "- Introdução ao NumPy;\n",
        "\n",
        "## Tipos de dados e estruturas\n",
        "\n",
        "### Tipos básicos de dados\n",
        "\n",
        "A linguagem python é dinamicamente tipificada, isso significa que o interpretador do python vai reconhecer o tipo de objeto que o usuário esta declarando automaticamente. Os tipos de objetos fundamentais em python são: `integer`, `floats` e `string`.\n",
        "\n",
        "Para identificar o tipo de objeto em python usamos a comando `type()` e para imprimir o resultado de uma linha de código usamos o comando `print()` veja a seguir."
      ]
    },
    {
      "cell_type": "code",
      "execution_count": 1,
      "metadata": {
        "id": "teNKMir0bVFH",
        "outputId": "5779d05e-9516-4d64-9a06-f52c71086401",
        "colab": {
          "base_uri": "https://localhost:8080/"
        }
      },
      "outputs": [
        {
          "output_type": "stream",
          "name": "stdout",
          "text": [
            "<class 'int'>\n",
            "<class 'int'>\n",
            "<class 'float'>\n",
            "<class 'float'>\n"
          ]
        }
      ],
      "source": [
        "a1 = 10 # Definimos a1 como o integer 10\n",
        "print(type(a1))\n",
        "\n",
        "a2 = 3 # Definimos a2 como o integer 3\n",
        "print(type(a2))\n",
        "\n",
        "a3 = 10.0 # Definimos a3 como o float 10.0\n",
        "print(type(a3))\n",
        "\n",
        "a4 = 3.0 # Definimos a4 como o float 3.0\n",
        "print(type(a4))"
      ]
    },
    {
      "cell_type": "markdown",
      "metadata": {
        "id": "sISA26JmbVFJ"
      },
      "source": [
        "No python 3 a divisão de integer por integer já é automaticamente tipificada para float. \n",
        "Entretando, em versões mais antigas (python 2.7) essa conversão não é automática e requer o uso de pacotes específicos.\n",
        "Neste documento estamos usando a versão 3.6.2, então não precisamos nos preocupar com isso."
      ]
    },
    {
      "cell_type": "code",
      "execution_count": 2,
      "metadata": {
        "id": "fMzwHW1ubVFJ",
        "outputId": "e6c116ec-99d4-4015-e468-8a5af5f708ca",
        "colab": {
          "base_uri": "https://localhost:8080/"
        }
      },
      "outputs": [
        {
          "output_type": "stream",
          "name": "stdout",
          "text": [
            "3.3333333333333335\n",
            "<class 'float'>\n",
            "3.3333333333333335\n",
            "<class 'float'>\n",
            "3.3333333333333335\n",
            "<class 'float'>\n"
          ]
        }
      ],
      "source": [
        "b1 = a1/a2 # Divisão integer por integer -> float\n",
        "print(b1)\n",
        "print(type(b1)) \n",
        "\n",
        "b2 = a3/a4 # Divisão float por float -> float\n",
        "print(b2)\n",
        "print(type(b2))\n",
        "\n",
        "b3 = a1/a4 # Divisão integer por float -> float\n",
        "print(b3)\n",
        "print(type(b3))"
      ]
    },
    {
      "cell_type": "markdown",
      "metadata": {
        "id": "rt1mYT9IbVFK"
      },
      "source": [
        "Um aspecto muito interessante da linguagem python é que todos os objetos tem uma classe e toda classe tem uma série de atributos associados. Por exemplo, podemos acessar o número de bits usados pelo integer 10."
      ]
    },
    {
      "cell_type": "code",
      "execution_count": 3,
      "metadata": {
        "id": "E7_Y8-pVbVFK",
        "outputId": "06209a8d-cd09-4f34-85d6-24e25c74d405",
        "colab": {
          "base_uri": "https://localhost:8080/"
        }
      },
      "outputs": [
        {
          "output_type": "execute_result",
          "data": {
            "text/plain": [
              "4"
            ]
          },
          "metadata": {},
          "execution_count": 3
        }
      ],
      "source": [
        "a1.bit_length()"
      ]
    },
    {
      "cell_type": "markdown",
      "metadata": {
        "id": "t_8_rIesbVFL"
      },
      "source": [
        "Entretanto, objetos do tipo float obviamente não tem esse atributo. Você pode obter informações sobre float objetos usando o modulo `sys`."
      ]
    },
    {
      "cell_type": "code",
      "execution_count": 4,
      "metadata": {
        "id": "Jzisqsu2bVFM",
        "outputId": "5755a6cb-390b-4c4c-c453-89d3dc4e0636",
        "colab": {
          "base_uri": "https://localhost:8080/"
        }
      },
      "outputs": [
        {
          "output_type": "execute_result",
          "data": {
            "text/plain": [
              "sys.float_info(max=1.7976931348623157e+308, max_exp=1024, max_10_exp=308, min=2.2250738585072014e-308, min_exp=-1021, min_10_exp=-307, dig=15, mant_dig=53, epsilon=2.220446049250313e-16, radix=2, rounds=1)"
            ]
          },
          "metadata": {},
          "execution_count": 4
        }
      ],
      "source": [
        "import sys \n",
        "sys.float_info"
      ]
    },
    {
      "cell_type": "markdown",
      "metadata": {
        "id": "FOvGdBC-bVFN"
      },
      "source": [
        "Internamente um float é representado como a razão entre dois integers. Para ver isso, objetos da class float tem um atributo."
      ]
    },
    {
      "cell_type": "code",
      "execution_count": 5,
      "metadata": {
        "id": "Ra1fJDjhbVFO",
        "outputId": "eb286d3d-2474-4cad-ffa5-fe9e08d19ead",
        "colab": {
          "base_uri": "https://localhost:8080/"
        }
      },
      "outputs": [
        {
          "output_type": "stream",
          "name": "stdout",
          "text": [
            "(10, 1)\n",
            "(3152519739159347, 9007199254740992)\n"
          ]
        }
      ],
      "source": [
        "print(a3.as_integer_ratio())\n",
        "c1 = 0.35\n",
        "print(c1.as_integer_ratio())"
      ]
    },
    {
      "cell_type": "markdown",
      "metadata": {
        "id": "jsOfFzN2bVFO"
      },
      "source": [
        "O último tipo básico de dado que veremos é o `strings`. `strings` em geral são usadas para representar textos os nomes e o python tem um rico ambiente para trabalhar com strings. Veja os exemplos abaixo"
      ]
    },
    {
      "cell_type": "code",
      "execution_count": 6,
      "metadata": {
        "id": "yigeJvBsbVFP",
        "outputId": "6f6dc251-88b0-4afc-816d-d460090fc05d",
        "colab": {
          "base_uri": "https://localhost:8080/"
        }
      },
      "outputs": [
        {
          "output_type": "stream",
          "name": "stdout",
          "text": [
            "<class 'str'>\n"
          ]
        }
      ],
      "source": [
        "t = \"isto é um objeto string\"\n",
        "print(type(t))"
      ]
    },
    {
      "cell_type": "markdown",
      "metadata": {
        "id": "0rnDRtObbVFP"
      },
      "source": [
        "Objetos do tipo `str` tem um grande conjunto de atributos."
      ]
    },
    {
      "cell_type": "code",
      "execution_count": 7,
      "metadata": {
        "id": "fwkzUA6ebVFP",
        "outputId": "d10cc84f-c773-4bfa-bea0-fbd19939cbe5",
        "colab": {
          "base_uri": "https://localhost:8080/",
          "height": 174
        }
      },
      "outputs": [
        {
          "output_type": "stream",
          "name": "stdout",
          "text": [
            "Isto é um objeto string\n",
            "['isto', 'é', 'um', 'objeto', 'string']\n",
            "17\n",
            "isto|é|um|objeto|string\n",
            "o é um objeto \n",
            "3\n",
            "ISTO É UM OBJETO STRING\n",
            "isto é um objeto string\n"
          ]
        },
        {
          "output_type": "execute_result",
          "data": {
            "text/plain": [
              "'m|i|n|h|a| |s|e|g|u|n|d|a| |s|t|r|i|n|g'"
            ],
            "application/vnd.google.colaboratory.intrinsic+json": {
              "type": "string"
            }
          },
          "metadata": {},
          "execution_count": 7
        }
      ],
      "source": [
        "print(t.capitalize()) # capitaliza a primeira letra\n",
        "print(t.split()) # corta por palavras\n",
        "print(t.find('string')) # index da primeira letra onde a palavra string começa\n",
        "print(t.replace(\" \", \"|\")) # troca espaço em branco por |\n",
        "print(t.strip('string')) # Remove uma palavra e/ou conjunto de strings\n",
        "print(t.count('o')) # Conta a ocorrência de uma string\n",
        "print(t.upper())\n",
        "print(t.lower())\n",
        "t2 = \"minha segunda string\"\n",
        "\"|\".join(t2) # Concatena strings\n"
      ]
    },
    {
      "cell_type": "markdown",
      "metadata": {
        "id": "TO_1-c10bVFQ"
      },
      "source": [
        "Uma ferramenta muito poderosa quando trabalhando com strings é expressões regulares. Python oferece tais funcionalidades no modulo `re`."
      ]
    },
    {
      "cell_type": "code",
      "execution_count": 8,
      "metadata": {
        "collapsed": true,
        "id": "gfcweKjxbVFQ"
      },
      "outputs": [],
      "source": [
        "import re"
      ]
    },
    {
      "cell_type": "markdown",
      "metadata": {
        "id": "mtElsVtabVFQ"
      },
      "source": [
        "Suponha que temos um grande conjunto de dados que contêm uma série temporal e a respectiva informação de data e hora. Em geral, a informação da data aparece em um formato que o python não reconhece naturalmente. Entretanto, a informação pode geralmente ser descrita por uma expressão regular. Considere o seguinte objeto string"
      ]
    },
    {
      "cell_type": "code",
      "execution_count": 9,
      "metadata": {
        "id": "cBn3rk8ybVFR",
        "outputId": "f2d7dba9-dec0-43a3-aa41-d8181b626e31",
        "colab": {
          "base_uri": "https://localhost:8080/"
        }
      },
      "outputs": [
        {
          "output_type": "stream",
          "name": "stdout",
          "text": [
            "\n",
            "'01/18/2014 13:00:00', 100, '1st';\n",
            "'01/18/2014 13:30:00', 110, '2nd';\n",
            "'01/18/2014 14:00:00', 120, '3rd';\n",
            "\n",
            "[\"'01/18/2014 13:00:00'\", \"'01/18/2014 13:30:00'\", \"'01/18/2014 14:00:00'\"]\n"
          ]
        }
      ],
      "source": [
        "series = \"\"\"\n",
        "'01/18/2014 13:00:00', 100, '1st';\n",
        "'01/18/2014 13:30:00', 110, '2nd';\n",
        "'01/18/2014 14:00:00', 120, '3rd';\n",
        "\"\"\"\n",
        "print(series)\n",
        "\n",
        "dt = re.compile(\"'[0-9/:\\s]+'\")\n",
        "result = dt.findall(series)\n",
        "print(result)"
      ]
    },
    {
      "cell_type": "markdown",
      "metadata": {
        "id": "b8nKoDRAbVFR"
      },
      "source": [
        "A string resultante pode ser convertida para objetos do tipo `datetime`."
      ]
    },
    {
      "cell_type": "code",
      "execution_count": 10,
      "metadata": {
        "id": "Wzwa-F5KbVFR",
        "outputId": "35a7673b-8d89-4ff1-f933-99e6ce68f1ca",
        "colab": {
          "base_uri": "https://localhost:8080/"
        }
      },
      "outputs": [
        {
          "output_type": "stream",
          "name": "stdout",
          "text": [
            "2014-01-18 13:00:00\n",
            "<class 'datetime.datetime'>\n"
          ]
        }
      ],
      "source": [
        "from datetime import datetime\n",
        "pydt = datetime.strptime(result[0].replace(\"'\",\"\"), '%m/%d/%Y %H:%M:%S')\n",
        "print(pydt)\n",
        "print(type(pydt))"
      ]
    },
    {
      "cell_type": "markdown",
      "metadata": {
        "id": "66gDkitobVFS"
      },
      "source": [
        "Com isso terminamos nossa discusão sobre tipos básicos de dados em python."
      ]
    },
    {
      "cell_type": "markdown",
      "metadata": {
        "id": "KsYm7cgWbVFS"
      },
      "source": [
        "### Operações e funções matemáticas básicas\n",
        "\n",
        "\n",
        "Em termos de operações matemáticas simples (soma, subtração, multiplicação e divisão) o python funciona exatamente como uma simples calculadora."
      ]
    },
    {
      "cell_type": "code",
      "execution_count": 11,
      "metadata": {
        "id": "XMDHYF0qbVFS",
        "outputId": "f248f5c4-daa8-4a0e-eb21-8cb78f6df481",
        "colab": {
          "base_uri": "https://localhost:8080/"
        }
      },
      "outputs": [
        {
          "output_type": "stream",
          "name": "stdout",
          "text": [
            "30\n",
            "<class 'int'>\n",
            "30.0\n",
            "<class 'float'>\n",
            "-10\n",
            "<class 'int'>\n",
            "-10.0\n",
            "<class 'float'>\n",
            "1480.0\n",
            "1480.0\n"
          ]
        }
      ],
      "source": [
        "c1 = 10 + 20 # Soma de integer\n",
        "print(c1)\n",
        "print(type(c1))\n",
        "\n",
        "c2 = 10.0 + 20.0 # Soma de float\n",
        "print(c2)\n",
        "print(type(c2))\n",
        "\n",
        "c3 = 10 - 20 # Subtração de integer\n",
        "print(c3)\n",
        "print(type(c3))\n",
        "\n",
        "c4 = 10.0 - 20.0 # Subtração de float\n",
        "print(c4)\n",
        "print(type(c4))\n",
        "\n",
        "c5 = 30*50 + 80/4 - 20*2 # python respeita as operações matemáticas naturais mesmo sem o uso de parenteses.\n",
        "print(c5)\n",
        "\n",
        "# apesar de sempre recomendar o uso dos parenteses para facilitar a leitura de grandes equações\n",
        "c6 = (30*50) + (80/4) - (20*2) \n",
        "print(c6)"
      ]
    },
    {
      "cell_type": "markdown",
      "metadata": {
        "id": "kl8V589lbVFT"
      },
      "source": [
        "Funções matemáticas especiais como logaritmo, exponencial, potênciação, funções trigonométricas, radiciação entre outras estão disponíveis através do modulo `math`. Ao carregar um modulo em python recomenda-se que apenas as funções que serão usadas sejam carregadas. Por exemplo, no código abaixo queremos calcular o logaritmo, a raiz quadrada, a exponencial e a potência de um número. Desta forma, importamos apenas estas funções do modulo `math`. Uma lista com todas as funções matemáticas disponíveis no modulo `math` pode ser encontrada no endereço (https://www.programiz.com/python-programming/modules/math). "
      ]
    },
    {
      "cell_type": "code",
      "execution_count": 12,
      "metadata": {
        "id": "cVLsI7PHbVFT",
        "outputId": "7ef3cb2c-451e-4602-aa7a-d318a9c7f2ee",
        "colab": {
          "base_uri": "https://localhost:8080/"
        }
      },
      "outputs": [
        {
          "output_type": "stream",
          "name": "stdout",
          "text": [
            "2.302585092994046\n",
            "3.1622776601683795\n",
            "1.0\n",
            "100.0\n",
            "1000.0\n"
          ]
        }
      ],
      "source": [
        "from math import log, sqrt, exp, pow\n",
        "\n",
        "print(log(10)) # Logaritmo de 10\n",
        "print(sqrt(10)) # raiz quadrada de 10\n",
        "print(exp(0)) # exponencial\n",
        "print(pow(10, 2)) # 10^2\n",
        "print(pow(10, 3)) # 10^3\n"
      ]
    },
    {
      "cell_type": "markdown",
      "metadata": {
        "id": "4hQaCg02bVFT"
      },
      "source": [
        "### Estruturas básicas de dados\n",
        "\n",
        "Como uma regra geral, estruturas de dados são objetos que contêm possívelmente um grande número de outros objetos. Entre outros o python oferece as seguintes estruturas de dados:\n",
        "\n",
        "   - `tuple`: Coleção arbitrária de objetos com poucos métodos disponíveis.\n",
        "   - `list`: Coleção arbitrária de objetos com muitos métodos disponíveis.\n",
        "   - `dict`: Objeto que armazenam valores-chaves.\n",
        "   - `set`: Coleção não enumerada de objetos para outros objetos únicos.\n",
        "\n",
        "#### Tuples\n",
        "\n",
        "`tuple` é uma estrutura muito simples e com poucos recursos. A `tuple` é definida através de um conjunto de objetos entre parêntenses."
      ]
    },
    {
      "cell_type": "code",
      "execution_count": 13,
      "metadata": {
        "id": "ye97dyhlbVFT",
        "outputId": "f1ead1a7-3240-475c-b731-166519c464c9",
        "colab": {
          "base_uri": "https://localhost:8080/"
        }
      },
      "outputs": [
        {
          "output_type": "stream",
          "name": "stdout",
          "text": [
            "<class 'tuple'>\n"
          ]
        }
      ],
      "source": [
        "t1 = ('a', 2.5, 'tuple')\n",
        "print(type(t1))"
      ]
    },
    {
      "cell_type": "markdown",
      "metadata": {
        "id": "Tdv9e1k3bVFU"
      },
      "source": [
        "Podemos selecionar elementos de uma `tuple` através de seus indices. \n",
        "Um aspecto importante é que o python usa zero-based numbering, ou seja, os índices começam em zero.\n",
        "Também podemos selecionar slices da `tuple` através de seus índices."
      ]
    },
    {
      "cell_type": "code",
      "execution_count": 14,
      "metadata": {
        "id": "LpD1gZWubVFU",
        "outputId": "d4e1e3d7-9779-4998-afe8-c3daf764fd2e",
        "colab": {
          "base_uri": "https://localhost:8080/"
        }
      },
      "outputs": [
        {
          "output_type": "stream",
          "name": "stdout",
          "text": [
            "2.5\n",
            "a\n",
            "<class 'str'>\n",
            "('a',)\n",
            "('a', 2.5)\n",
            "tuple\n"
          ]
        }
      ],
      "source": [
        "print(t1[1])\n",
        "print(t1[0])\n",
        "print(type(t1[2]))\n",
        "\n",
        "print(t1[0:1]) # Seleciona apenas o elemento na posição 0\n",
        "print(t1[0:2]) # Elemento da posição 0 e 1\n",
        "print(t1[-1]) # Índices negativos tbm funcionam"
      ]
    },
    {
      "cell_type": "markdown",
      "metadata": {
        "id": "2wI4lF4ybVFU"
      },
      "source": [
        "Para objetos do tipo `tuple` existem apenas dois métodos disponíveis: `count` e `index`. O método `count` conta as ocorrências de um certo valor e o método `index` retorno o índice que o valor apareceu pela primeira vez."
      ]
    },
    {
      "cell_type": "code",
      "execution_count": 15,
      "metadata": {
        "id": "ParFRVRFbVFU",
        "outputId": "d57b0030-233d-4bf2-850d-c09232323206",
        "colab": {
          "base_uri": "https://localhost:8080/"
        }
      },
      "outputs": [
        {
          "output_type": "stream",
          "name": "stdout",
          "text": [
            "4\n",
            "7\n"
          ]
        }
      ],
      "source": [
        "t2 = (1,2,2,2,3,3,3,5,5,5,5, \"tuple2\")\n",
        "print(t2.count(5))\n",
        "print(t2.index(5))"
      ]
    },
    {
      "cell_type": "markdown",
      "metadata": {
        "id": "l1FQN0z7bVFV"
      },
      "source": [
        "#### Lists\n",
        "\n",
        "Objetos do tipo `list` são muito mais flexíveis e poderosos do que `tuple`. Uma `list` é definida através de colchetes (brackets) e em termos de aplicações em estatística serão muito úteis. Entretando, a seleção de elementos e comportamentos básicas são similares aos de uma `tuple`."
      ]
    },
    {
      "cell_type": "code",
      "execution_count": 16,
      "metadata": {
        "id": "VjL8TIVRbVFV",
        "outputId": "33aed4b0-58de-4681-b815-8706ce4ac383",
        "colab": {
          "base_uri": "https://localhost:8080/"
        }
      },
      "outputs": [
        {
          "output_type": "stream",
          "name": "stdout",
          "text": [
            "<class 'list'>\n",
            "lista\n"
          ]
        }
      ],
      "source": [
        "l1 = [1, 2.5, 'lista']\n",
        "print(type(l1))\n",
        "print(l1[2]) # Elemento posição 3"
      ]
    },
    {
      "cell_type": "markdown",
      "metadata": {
        "id": "OeH4Q5labVFV"
      },
      "source": [
        "Podemos também converter objetos do tipo `tuple` para `list` usando a função `list()`."
      ]
    },
    {
      "cell_type": "code",
      "execution_count": 17,
      "metadata": {
        "id": "cxsAkrYnbVFV",
        "outputId": "d207dfca-4994-48ee-dde2-a55e59a53819",
        "colab": {
          "base_uri": "https://localhost:8080/"
        }
      },
      "outputs": [
        {
          "output_type": "stream",
          "name": "stdout",
          "text": [
            "<class 'tuple'>\n",
            "<class 'list'>\n"
          ]
        }
      ],
      "source": [
        "t1 = (1, 2.5, 'tuple')\n",
        "print(type(t1))\n",
        "t1 = list(t1)\n",
        "print(type(t1))"
      ]
    },
    {
      "cell_type": "markdown",
      "metadata": {
        "id": "kOt6JGFwbVFV"
      },
      "source": [
        "Objetos do tipo `list` podem ser expandidos e/ou reducidos. Em python essas propriedades definem um objeto `mutable`. Assim, temos que um `list` é `mutable` enquanto que um `tuple` é `immutable`. Vamos ver algumas operações com objetos `list`."
      ]
    },
    {
      "cell_type": "code",
      "execution_count": 18,
      "metadata": {
        "id": "BlTsLSkobVFW",
        "outputId": "710801c7-0a46-439f-d85f-787b3b54b25b",
        "colab": {
          "base_uri": "https://localhost:8080/"
        }
      },
      "outputs": [
        {
          "output_type": "stream",
          "name": "stdout",
          "text": [
            "[1, 2.5, 'lista', [4, 3]]\n",
            "[1, 2.5, 'lista', [4, 3], 1.0, 1.5, 2.0]\n",
            "[1, 'insert', 2.5, 'lista', [4, 3], 1.0, 1.5, 2.0]\n",
            "[1, 'insert', 2.5, [4, 3], 1.0, 1.5, 2.0]\n",
            "[1, 'insert', 2.5, 1.0, 1.5, 2.0]\n",
            "[4, 3]\n"
          ]
        }
      ],
      "source": [
        "# Acrescenta valores ao fim da list\n",
        "l1.append([4, 3])\n",
        "print(l1)\n",
        "# Extende a list ja existente\n",
        "l1.extend([1.0, 1.5, 2.0])\n",
        "print(l1)\n",
        "# Insere objetos em uma posição especifica\n",
        "l1.insert(1, 'insert')\n",
        "print(l1)\n",
        "# Remove a primeira occorência de um objeto\n",
        "l1.remove('lista')\n",
        "print(l1)\n",
        "# Remove e retorna o objeto em um indice\n",
        "p = l1.pop(3)\n",
        "print(l1)\n",
        "print(p)\n"
      ]
    },
    {
      "cell_type": "markdown",
      "metadata": {
        "id": "bSXe2ZZmbVFW"
      },
      "source": [
        "Slicing refere-se a operação de quebrar o conjunto de dados em pequenas partes de interesse."
      ]
    },
    {
      "cell_type": "code",
      "execution_count": 19,
      "metadata": {
        "id": "nAArkDZabVFW",
        "outputId": "b3f4f0d7-4181-41c3-d951-66e17f558fda",
        "colab": {
          "base_uri": "https://localhost:8080/"
        }
      },
      "outputs": [
        {
          "output_type": "execute_result",
          "data": {
            "text/plain": [
              "[2.5, 1.0, 1.5]"
            ]
          },
          "metadata": {},
          "execution_count": 19
        }
      ],
      "source": [
        "l1[2:5] # Elementos da terceira a quinta posição"
      ]
    },
    {
      "cell_type": "markdown",
      "metadata": {
        "id": "8hkwnnOjbVFW"
      },
      "source": [
        "Mais alguns exemplos de operações com objetos `list`."
      ]
    },
    {
      "cell_type": "code",
      "execution_count": 22,
      "metadata": {
        "id": "RGyAMushbVFW",
        "outputId": "d4ff5198-265d-4270-ac24-f33b9624f855",
        "colab": {
          "base_uri": "https://localhost:8080/"
        }
      },
      "outputs": [
        {
          "output_type": "stream",
          "name": "stdout",
          "text": [
            "[1, 10, 10, 20, 30, 'insert', 30, 20, 3, 5, 3, 2.0]\n",
            "[1, 10, 5, 20, 30, 'insert', 30, 20, 3, 5, 3, 2.0]\n",
            "[1, 10, 5, 2, 1, 3, 'insert', 30, 20, 3, 5, 3, 2.0]\n",
            "2\n",
            "[1, 10, 5, 3, 'insert', 30, 20, 3, 5, 3, 2.0, 10]\n",
            "[1, 10, 5, 3, 'insert', 30, 20, 3, 5, 3, 2.0, 10, 10, 20, 30]\n",
            "[30, 20, 10, 10, 2.0, 3, 5, 3, 20, 30, 'insert', 3, 5, 10, 1]\n",
            "[1, 2.0, 3, 3, 3, 5, 5, 10, 10, 10, 20, 20, 30, 30]\n"
          ]
        }
      ],
      "source": [
        "print(l1)\n",
        "l1[2] = 5 # substitui o elemento 3 pelo valor 5\n",
        "print(l1)\n",
        "l1[3:5] = [2,1,3] # Interessante\n",
        "print(l1)\n",
        "l1.append(10) # Junta o 10 na list\n",
        "print(l1.count(10)) # Conta o numero de ocorrência do 10\n",
        "del l1[3:5] # Deleta\n",
        "print(l1)\n",
        "l1.extend([10,20,30])\n",
        "print(l1)\n",
        "l1.reverse() # Do maior para o menor\n",
        "print(l1)\n",
        "l1.remove('insert')\n",
        "l1.sort() # Do menor para o maior\n",
        "print(l1)"
      ]
    },
    {
      "cell_type": "markdown",
      "metadata": {
        "id": "cC5XmaL8bVFX"
      },
      "source": [
        "#### Dicts\n",
        "\n",
        "Objetos do tipo `dict` são dicionários `mutable` e permitem o armazenamento de dados através de `keys` que podem ser por exemplo, `string`. `dict` objetos não são ordenáveis. Um exemplo ilustra melhor a diferença entre `list` e `dict`."
      ]
    },
    {
      "cell_type": "code",
      "execution_count": 25,
      "metadata": {
        "id": "nGsYPxMvbVFX",
        "outputId": "f9a88d15-867f-436c-ff11-7eed54b386cd",
        "colab": {
          "base_uri": "https://localhost:8080/"
        }
      },
      "outputs": [
        {
          "output_type": "stream",
          "name": "stdout",
          "text": [
            "<class 'dict'>\n",
            "Wagner Hugo Bonat 32\n",
            "[('Nome', 'Wagner Hugo Bonat'), ('País', 'Brasil'), ('Profissão', 'Professor'), ('Idade', 32)]\n"
          ]
        }
      ],
      "source": [
        "d = {\n",
        "    'Nome' : 'Wagner Hugo Bonat',\n",
        "    'País' : 'Brasil',\n",
        "    'Profissão' : 'Professor',\n",
        "    'Idade' : 32\n",
        "}\n",
        "print(type(d))\n",
        "print( d['Nome'], d['Idade'] )\n",
        "\n",
        "d.keys() # Acessa o nome das chaves\n",
        "\n",
        "d.values() # Acessa os valores\n",
        "\n",
        "print(list(d.items())) # Acessa os itens com par chave-valor em uma lista de tuplas"
      ]
    },
    {
      "cell_type": "markdown",
      "metadata": {
        "id": "4IWgQHY-bVFX"
      },
      "source": [
        "Existem uma séries de métodos para iterar em objetos da classe `dict`. Veremos detalhes na seção de estruturas de controle e programação funcional."
      ]
    },
    {
      "cell_type": "markdown",
      "metadata": {
        "id": "Z8wa3Qx9bVFX"
      },
      "source": [
        "#### Sets\n",
        "\n",
        "A última estrutura de dados básica que vamos discutir é a estrutura `set`. A estrutura `set` implementa a teoria dos conjuntos atráves de simples objetos. Ela pode ser útil para explicar conceitos de probabilidade. Vamos ver alguns conceitos simples de probabilidade usando a estrutura `set`em python."
      ]
    },
    {
      "cell_type": "code",
      "execution_count": 26,
      "metadata": {
        "id": "fzNEQ0MhbVFX",
        "outputId": "676881b7-4a79-43fb-81d9-231434b05461",
        "colab": {
          "base_uri": "https://localhost:8080/"
        }
      },
      "outputs": [
        {
          "output_type": "stream",
          "name": "stdout",
          "text": [
            "{'A', 'BA', 'AB', 'B'}\n",
            "{'BB', 'A', 'AA', 'B'}\n",
            "{'BA', 'AB', 'BB', 'A', 'AA', 'B'}\n",
            "{'A', 'B'}\n",
            "{'BA', 'AB'}\n",
            "{'BB', 'AA'}\n",
            "{'BA', 'AB', 'BB', 'AA'}\n"
          ]
        }
      ],
      "source": [
        "s = set(['A','B', 'AB', 'BA', 'B', 'BA']) # Note que objeto repetidas são automaticamente descartados\n",
        "print(s)\n",
        "t = set(['B', 'BB', 'AA', 'A'])\n",
        "print(t)\n",
        "\n",
        "print(s.union(t)) # União dos conjuntos\n",
        "print(s.intersection(t)) # Intersecção\n",
        "print(s.difference(t)) # Em s mas não em t\n",
        "print(t.difference(s)) # Em t mas não em s\n",
        "print(s.symmetric_difference(t)) # em s ou t mas não em ambos\n"
      ]
    },
    {
      "cell_type": "markdown",
      "metadata": {
        "id": "mISda5jtbVFY"
      },
      "source": [
        "### Estruturas de controle\n",
        "\n",
        "Estruturas de controle são a forma que o programador tem de controlar o que e para quais objetos o código vai funcionar. Apesar de uso geral, nesta seção vou focar mais em objetos do tipo `list`. \n",
        "O exemplo a seguir define uma lista com 6 valores e imprime o quadrado os valores entre os índices 2 e 5. \n",
        "Em python a indentação é parte da linguagem, então observe com atenção os espaços em branco na segunda linha.\n",
        "Note ainda que no segundo loop for o índice teve que ser apropriadamente restrito.\n",
        "Esta estrutura de looping é muito útil e fácil de usar. "
      ]
    },
    {
      "cell_type": "code",
      "execution_count": 27,
      "metadata": {
        "id": "PzMRbvOybVFY",
        "outputId": "48deed0b-53c4-4b35-9ba5-33a80e7364cc",
        "colab": {
          "base_uri": "https://localhost:8080/"
        }
      },
      "outputs": [
        {
          "output_type": "stream",
          "name": "stdout",
          "text": [
            "[3, 4, 5]\n",
            "16\n",
            "25\n",
            "36\n",
            "1\n",
            "2\n",
            "3\n",
            "4\n",
            "5\n",
            "6\n"
          ]
        }
      ],
      "source": [
        "l2 = [1,2,3,4,5,6]\n",
        "print(l2[2:5])\n",
        "\n",
        "for i in l2[2:5]:\n",
        "    print(l2[i] ** 2)\n",
        "\n",
        "for i in l2:\n",
        "    print(l2[i-1])"
      ]
    },
    {
      "cell_type": "markdown",
      "metadata": {
        "id": "BBSx5D7jbVFY"
      },
      "source": [
        "Entretando, podemos usar o mais tradicional loop baseado em um contador (como usual em linguagens com C)."
      ]
    },
    {
      "cell_type": "code",
      "execution_count": 28,
      "metadata": {
        "id": "h1MGMkoAbVFY",
        "outputId": "f12f4788-6bd8-425e-bcb7-3cdad9d4b305",
        "colab": {
          "base_uri": "https://localhost:8080/"
        }
      },
      "outputs": [
        {
          "output_type": "stream",
          "name": "stdout",
          "text": [
            "9\n",
            "16\n",
            "25\n"
          ]
        }
      ],
      "source": [
        "r = range(0, 6, 1)\n",
        "\n",
        "for r in range(2, 5):\n",
        "    print(l2[r] ** 2)"
      ]
    },
    {
      "cell_type": "markdown",
      "metadata": {
        "id": "7ucDsDnnbVFY"
      },
      "source": [
        "Python também oferece as típicas estruturas de controle condicional `if`, `elif` e `else`. O uso é similar a outras linguagens."
      ]
    },
    {
      "cell_type": "code",
      "execution_count": 29,
      "metadata": {
        "id": "cBWimc25bVFY",
        "outputId": "449e3333-213d-4c07-8e8d-0dc0d788c285",
        "colab": {
          "base_uri": "https://localhost:8080/"
        }
      },
      "outputs": [
        {
          "output_type": "stream",
          "name": "stdout",
          "text": [
            "1 é ímpar\n",
            "2 é par\n",
            "3 é múltiplo de 3\n",
            "4 é par\n",
            "5 é ímpar\n",
            "6 é par\n",
            "7 é ímpar\n",
            "8 é par\n",
            "9 é múltiplo de 3\n"
          ]
        }
      ],
      "source": [
        "for i in range(1, 10):\n",
        "    if i % 2 == 0: # % resto da divisão \n",
        "        print(\"%d é par\" % i)\n",
        "    elif i % 3 == 0:\n",
        "        print(\"%d é múltiplo de 3\" % i)\n",
        "    else:\n",
        "        print(\"%d é ímpar\" % i)\n",
        "        "
      ]
    },
    {
      "cell_type": "markdown",
      "metadata": {
        "id": "UVEN0Lb5bVFZ"
      },
      "source": [
        "O última estrutura de controle que vamos ver será o `while`."
      ]
    },
    {
      "cell_type": "code",
      "execution_count": 30,
      "metadata": {
        "id": "6blqFwgsbVFZ",
        "outputId": "8eed65c1-705b-40e4-ba70-1c1ec6789d1b",
        "colab": {
          "base_uri": "https://localhost:8080/"
        }
      },
      "outputs": [
        {
          "output_type": "stream",
          "name": "stdout",
          "text": [
            "100\n"
          ]
        }
      ],
      "source": [
        "total = 0\n",
        "while total < 100:\n",
        "    total += 1\n",
        "print(total)"
      ]
    },
    {
      "cell_type": "markdown",
      "metadata": {
        "id": "kICVr9iBbVFZ"
      },
      "source": [
        "Uma especialidade do python é a chamada `list comprehensions`. Ao invés de rodar sobre objetos tipo `list` já existentes, esta abordagem gerá a `list` via loops em uma forma muito compacta."
      ]
    },
    {
      "cell_type": "code",
      "execution_count": 31,
      "metadata": {
        "id": "UBTZGbTTbVFZ",
        "outputId": "7edbf88e-e33f-4c53-bb71-caebc8b81b96",
        "colab": {
          "base_uri": "https://localhost:8080/"
        }
      },
      "outputs": [
        {
          "output_type": "stream",
          "name": "stdout",
          "text": [
            "[0, 1, 4, 9, 16]\n"
          ]
        }
      ],
      "source": [
        "m = [i ** 2 for i in range(5)]\n",
        "print(m)"
      ]
    },
    {
      "cell_type": "markdown",
      "metadata": {
        "id": "kNWcn8CybVFZ"
      },
      "source": [
        "Em certo sentido a abordagem de `list comprehensions` já fornece algo como vetorização de código, que será discutida em detalhes na seção Vetorização de código.\n",
        "\n",
        "### Programação funcional\n",
        "\n",
        "Python oferece muitas ferramentas para programação funcional *functional programming*. Programação funcional refere-se ao processo de aplicar uma função a um conjunto de entradas, em geral em python a um objeto do tipo `list`. Entre estas ferramentas estão `filter`, `map` e `reduce`. Entretando, para começar precisamos definir uma função em python. \n",
        "\n",
        "Para começar vamos implementar a distribuição de probabilidade mais usada em estatística, ou seja, a distribuição Gaussiana. A função densidade probabilidade da distribuição Gaussiana é dada por\n",
        "\n",
        "$$ f(y;\\mu, \\sigma^2) = \\frac{1}{\\sqrt{2 \\pi \\sigma^2}} \\exp\\left \\{- \\frac{1}{2\\sigma^2} (y - \\mu)^2 \\right \\}, $$\n",
        "onde $ y, \\mu \\in \\Re$ e $\\sigma^2 > 0$. Nesta parametrização tem-se que $E(Y) = \\mu$ e $Var(Y) = \\sigma^2$.\n",
        "\n",
        "Para implementar tal função em python, primeiro identificamos quais argumentos serão necessários. Neste caso são três $y$, $\\mu$ e $\\sigma^2$. Na sequência identificamos quais as funções matemática especiais envolvidas na função, no caso da distribuição Gaussiana temos, raiz quadrada, constant $\\pi$, potência e exponencial (`sqrt`, `pi`, `pow` e `exp`) todas estão disponíveis através do módulo `math`. Vamos ver como fica a distribuição Gaussiana implementada em python."
      ]
    },
    {
      "cell_type": "code",
      "execution_count": 32,
      "metadata": {
        "id": "X4wH7iXjbVFa",
        "outputId": "57113569-5849-4133-eca9-18edfc239a4d",
        "colab": {
          "base_uri": "https://localhost:8080/"
        }
      },
      "outputs": [
        {
          "output_type": "stream",
          "name": "stdout",
          "text": [
            "0.3989422804014327\n",
            "3.917716632754334e-12\n"
          ]
        }
      ],
      "source": [
        "from math import sqrt, pi, exp, pow\n",
        "\n",
        "def dnorm(y, mu = 0, sigma2 = 1):\n",
        "    output = (1/(sqrt(2 * pi * sigma2)))*exp( - (1/(2 * sigma2)) * pow(y - mu, 2)  )\n",
        "    return output\n",
        "\n",
        "print(dnorm(y = 0))\n",
        "print(dnorm(y = 0, mu = 10, sigma2 = 2))"
      ]
    },
    {
      "cell_type": "markdown",
      "metadata": {
        "id": "M0zNS4KJbVFa"
      },
      "source": [
        "Suponha que queremos aplicar a função `dnorm` para uma `list` de objetos. Podemos fazer isso usando um loop for como na seção anterior. "
      ]
    },
    {
      "cell_type": "code",
      "execution_count": 33,
      "metadata": {
        "id": "JOh5vvpEbVFa",
        "outputId": "bbdef0c2-7ada-42bd-8353-cde6bc36f1c0",
        "colab": {
          "base_uri": "https://localhost:8080/"
        }
      },
      "outputs": [
        {
          "output_type": "stream",
          "name": "stdout",
          "text": [
            "0.0044318484119380075\n",
            "0.05399096651318806\n",
            "0.24197072451914337\n",
            "0.3989422804014327\n",
            "0.24197072451914337\n",
            "0.05399096651318806\n",
            "0.0044318484119380075\n"
          ]
        }
      ],
      "source": [
        "# Tradicional loop for\n",
        "numbers = [-3, -2, -1, 0, 1, 2, 3]\n",
        "for i in numbers:\n",
        "    print(dnorm(y = i, mu = 0, sigma2 = 1))"
      ]
    },
    {
      "cell_type": "markdown",
      "metadata": {
        "id": "COOU2l5sbVFa"
      },
      "source": [
        "De uma forma mais elegante podemos usar programação funcional através da função `map` em python. "
      ]
    },
    {
      "cell_type": "code",
      "source": [
        "map?"
      ],
      "metadata": {
        "id": "jOoMYa034jZo"
      },
      "execution_count": 34,
      "outputs": []
    },
    {
      "cell_type": "code",
      "execution_count": 35,
      "metadata": {
        "id": "Ju7NPD_ibVFa",
        "outputId": "621b118b-d3de-430f-a294-40f25bc9841b",
        "colab": {
          "base_uri": "https://localhost:8080/"
        }
      },
      "outputs": [
        {
          "output_type": "stream",
          "name": "stdout",
          "text": [
            "[0.0044318484119380075, 0.05399096651318806, 0.24197072451914337, 0.3989422804014327, 0.24197072451914337, 0.05399096651318806, 0.0044318484119380075]\n",
            "[7.998827757006813e-38, 2.1463837356630605e-32, 2.1188192535093538e-27, 7.69459862670642e-23, 1.0279773571668917e-18, 5.052271083536893e-15, 9.134720408364594e-12]\n"
          ]
        }
      ],
      "source": [
        "print(list(map(dnorm, numbers)))\n",
        "print(list(map(dnorm, numbers, [10,10,10,10,10,10,10], [1,1,1,1,1,1,1]))) # Um pouco incoveniente mais funciona!"
      ]
    },
    {
      "cell_type": "markdown",
      "metadata": {
        "id": "hAEZ1UjIbVFb"
      },
      "source": [
        "Para funções simples (em geral de uma linha) podemos usar funções anônimas ou como são chamadas em python `lambda functions`. "
      ]
    },
    {
      "cell_type": "code",
      "execution_count": 36,
      "metadata": {
        "id": "E-mcK-TGbVFb",
        "outputId": "b151b96d-3095-4d31-9bd5-8f7eb141299c",
        "colab": {
          "base_uri": "https://localhost:8080/"
        }
      },
      "outputs": [
        {
          "output_type": "execute_result",
          "data": {
            "text/plain": [
              "[9, 4, 1, 0, 1, 4, 9]"
            ]
          },
          "metadata": {},
          "execution_count": 36
        }
      ],
      "source": [
        "list(map(lambda x: x ** 2, numbers))"
      ]
    },
    {
      "cell_type": "markdown",
      "metadata": {
        "id": "WvwBFgrtbVFb"
      },
      "source": [
        "Funções também podem ser usadas para filtrar valores de interesse. Suponha que queremos obter apenas os valores pares de uma grande `list` de números. Primeiro definimos a função que faz a seleção e depois aplicamos ela a cada elemento da nossa lista de valores filtrando os que temos interesse."
      ]
    },
    {
      "cell_type": "code",
      "execution_count": 37,
      "metadata": {
        "id": "8y1dKsLEbVFb",
        "outputId": "9c41c52d-e7e8-4e13-ca0c-0585cb9f212e",
        "colab": {
          "base_uri": "https://localhost:8080/"
        }
      },
      "outputs": [
        {
          "output_type": "execute_result",
          "data": {
            "text/plain": [
              "[0, 2, 4, 6, 8, 10, 12, 14]"
            ]
          },
          "metadata": {},
          "execution_count": 37
        }
      ],
      "source": [
        "def even(x):\n",
        "    return x % 2 == 0\n",
        "\n",
        "list(filter(even, range(15)))"
      ]
    },
    {
      "cell_type": "markdown",
      "metadata": {
        "id": "y-Vi_A9EbVFb"
      },
      "source": [
        "Finalmente, podemos reduzir o conjunto de dados aplicando alguma função em todos os elementos da `list`. Um exemplo é a soma cumulativa dos objetos em uma `list`. Importante ressaltar que a função `reduce` no python 3.0 é parte do modulo functools, e portante precisa ser importada explicitamente."
      ]
    },
    {
      "cell_type": "code",
      "execution_count": 40,
      "metadata": {
        "id": "qFM1FzvYbVFc",
        "outputId": "09e2a29d-5411-4a36-8982-57f4848cbc51",
        "colab": {
          "base_uri": "https://localhost:8080/"
        }
      },
      "outputs": [
        {
          "output_type": "execute_result",
          "data": {
            "text/plain": [
              "45"
            ]
          },
          "metadata": {},
          "execution_count": 40
        }
      ],
      "source": [
        "from functools import reduce\n",
        "\n",
        "reduce(lambda x, y: x + y, range(10))"
      ]
    },
    {
      "cell_type": "markdown",
      "metadata": {
        "id": "D4hPVy3mbVFc"
      },
      "source": [
        "Podemos também usar as funções em conjunto ganhando ainda mais flexibilidade. Por exemplo, suponha que queremos somar apenas os números pares de uma sequência de números em uma `list`."
      ]
    },
    {
      "cell_type": "code",
      "execution_count": 41,
      "metadata": {
        "id": "zFuQ2cMEbVFc",
        "outputId": "b1164bf4-3bd6-4445-e0b8-59c8cecfa6f3",
        "colab": {
          "base_uri": "https://localhost:8080/"
        }
      },
      "outputs": [
        {
          "output_type": "execute_result",
          "data": {
            "text/plain": [
              "90"
            ]
          },
          "metadata": {},
          "execution_count": 41
        }
      ],
      "source": [
        "reduce(lambda x, y: x + y, filter(even, range(20)))"
      ]
    },
    {
      "cell_type": "markdown",
      "metadata": {
        "id": "HcKm5RBPbVFd"
      },
      "source": [
        "É considerado uma boa prática evitar loop for em Python tanto quanto possível. `list comprehension` e `functional programming` atráves de funções como `map`, `filter`  e `reduce` oferecem um código mais compacto e em geral de fácil leitura. \n",
        "\n",
        "### Estrutura de dados NumPy\n",
        "\n",
        "As seções anteriores mostraram que o python oferece algumas estruturas flexíveis para o armazenamento e manipulação de dados básicos. Em particular, `list` são muito úteis para trabalhar com dados e analises estatística. Entretando, quando trabalhando com analise de dados reais, tem-se a necessidade para operações de alta performance em dados com estruturas especiais. Uma das estruturas mais importantes é o `array`. `array` geralmente estruturam outros objetos em linhas e colunas. \n",
        "\n",
        "Assuma que estamos trabalhando com números (os conceitos funcionam também para `string`). No caso mais simples, um `array` unidimensional representa um vetor de números reais representados internamente como `float`. De forma mais geral um `array` representa uma matrix $i \\times j$ de elementos. O mais interessantes sobre `array` é que estes conceitos generalizam para cubos $i \\times j \\times k$ de elementos, bem como, para n-dimensionais arrays de corpo $i \\times j \\times k \\times l \\times, \\ldots$.\n",
        "\n",
        "De forma geral, matrizes são de extrema importância em estatística, assim precisamos de uma forma simples e eficiente de trabalhar ao menos com `arrays` bidimensionais. É neste ponto que a biblioteca `NumPy` é de extrema importância dentro do ambiente python.\n",
        "\n",
        "Antes de introduzir o modelo `NumPy` vamos discutir como `array` podem ser obtidos como uma `list` de `list`."
      ]
    },
    {
      "cell_type": "code",
      "execution_count": 42,
      "metadata": {
        "id": "GMmtiMyqbVFd",
        "outputId": "e2bf6766-3f8e-4e32-aced-69a6a9e42b28",
        "colab": {
          "base_uri": "https://localhost:8080/"
        }
      },
      "outputs": [
        {
          "output_type": "stream",
          "name": "stdout",
          "text": [
            "[[0.5, 1, 1.5, 2, 2.5, 3], [0.5, 1, 1.5, 2, 2.5, 3], [0.5, 1, 1.5, 2, 2.5, 3]]\n"
          ]
        },
        {
          "output_type": "execute_result",
          "data": {
            "text/plain": [
              "0.5"
            ]
          },
          "metadata": {},
          "execution_count": 42
        }
      ],
      "source": [
        "v = [0.5, 1, 1.5, 2, 2.5, 3] # vector of numbers\n",
        "m = [v, v, v] # matriz\n",
        "print(m)\n",
        "m[1][0] # Segunda linha primeiro elemento"
      ]
    },
    {
      "cell_type": "markdown",
      "metadata": {
        "id": "dZR7NKOybVFd"
      },
      "source": [
        "Podemos também ter um cubo de números, ou um `array` tridimensional."
      ]
    },
    {
      "cell_type": "code",
      "execution_count": 43,
      "metadata": {
        "id": "vmXdtKd2bVFd",
        "outputId": "1b920902-2d98-4abf-b7e6-3d8bd6ba1055",
        "colab": {
          "base_uri": "https://localhost:8080/"
        }
      },
      "outputs": [
        {
          "output_type": "stream",
          "name": "stdout",
          "text": [
            "[[[0.5, 1.5], [1, 2]], [[0.5, 1.5], [1, 2]]]\n",
            "[[0.5, 1.5], [1, 2]]\n",
            "[0.5, 1.5]\n",
            "1.5\n"
          ]
        }
      ],
      "source": [
        "v1 = [0.5, 1.5]\n",
        "v2 = [1, 2]\n",
        "m = [v1,v2]\n",
        "c = [m, m]\n",
        "print(c)\n",
        "print(c[1])\n",
        "print(c[1][0])\n",
        "print(c[1][0][1])"
      ]
    },
    {
      "cell_type": "markdown",
      "metadata": {
        "id": "2Ep9HG2UbVFd"
      },
      "source": [
        "É importante enfatizar que combinar elementos como feito anteriormente funciona como `reference pointers` para os objetos anteriores. Essa idéia fica clara através de um exemplo."
      ]
    },
    {
      "cell_type": "code",
      "execution_count": 44,
      "metadata": {
        "id": "7JJY85_qbVFe",
        "outputId": "791e5e60-8b5b-4107-a777-6f5df3872ef1",
        "colab": {
          "base_uri": "https://localhost:8080/"
        }
      },
      "outputs": [
        {
          "output_type": "stream",
          "name": "stdout",
          "text": [
            "[[0.5, 0.75, 1.0, 1.5, 2.0], [0.5, 0.75, 1.0, 1.5, 2.0], [0.5, 0.75, 1.0, 1.5, 2.0]]\n",
            "[['python', 0.75, 1.0, 1.5, 2.0], ['python', 0.75, 1.0, 1.5, 2.0], ['python', 0.75, 1.0, 1.5, 2.0]]\n"
          ]
        }
      ],
      "source": [
        "v = [0.5, 0.75, 1.0, 1.5, 2.0]\n",
        "m = [v, v, v]\n",
        "print(m)\n",
        "\n",
        "v[0] = 'python'\n",
        "print(m)"
      ]
    },
    {
      "cell_type": "markdown",
      "metadata": {
        "id": "3x0pwWlwbVFe"
      },
      "source": [
        "Para evitar este comportamento usamos a função `deepcopy` do modulo `copy`."
      ]
    },
    {
      "cell_type": "code",
      "execution_count": 45,
      "metadata": {
        "id": "-Snu5VJqbVFe",
        "outputId": "774ab08e-74fd-4803-9645-73d7a262c69e",
        "colab": {
          "base_uri": "https://localhost:8080/"
        }
      },
      "outputs": [
        {
          "output_type": "stream",
          "name": "stdout",
          "text": [
            "[[0.5, 0.75, 1.0, 1.5, 2.0], [0.5, 0.75, 1.0, 1.5, 2.0], [0.5, 0.75, 1.0, 1.5, 2.0]]\n",
            "[[0.5, 0.75, 1.0, 1.5, 2.0], [0.5, 0.75, 1.0, 1.5, 2.0], [0.5, 0.75, 1.0, 1.5, 2.0]]\n"
          ]
        }
      ],
      "source": [
        "from copy import deepcopy\n",
        "v = [0.5, 0.75, 1.0, 1.5, 2.0]\n",
        "m = 3 * [deepcopy(v), ]\n",
        "print(m)\n",
        "v[0] = 'python'\n",
        "print(m)"
      ]
    },
    {
      "cell_type": "markdown",
      "metadata": {
        "id": "JbhaaQdXbVFe"
      },
      "source": [
        "Apesar de flexível esta forma de criar `array` não é muito útil para aplicações em estatística, uma vez que, o ferramental de álgebra linear não está disponível para este tipo de objetos. Por exemplo, a simples multiplicação de um escalar por um vetor não é definida para objetos do tipo `list` em  python."
      ]
    },
    {
      "cell_type": "code",
      "execution_count": 46,
      "metadata": {
        "id": "dU0v826AbVFe",
        "outputId": "d20b96ff-3b1c-41b0-dc59-37e5f7810546",
        "colab": {
          "base_uri": "https://localhost:8080/"
        }
      },
      "outputs": [
        {
          "output_type": "execute_result",
          "data": {
            "text/plain": [
              "[0.5, 1, 1.5, 0.5, 1, 1.5]"
            ]
          },
          "metadata": {},
          "execution_count": 46
        }
      ],
      "source": [
        "v = [0.5, 1, 1.5] # vetor\n",
        "n = 2 # escalar\n",
        "n*v # Repete a list duas vezes, ao invés da multiplicação de escalar por vetor"
      ]
    },
    {
      "cell_type": "markdown",
      "metadata": {
        "id": "4Lr1VSfebVFe"
      },
      "source": [
        "Isso mostra que precisamos de um tipo de objeto mais especializado que automaticamente entenda operações de álgebra linear e similares. A *library* `NumPy` traz este tipo de objeto que é chamada genericamente de `ndarray`."
      ]
    },
    {
      "cell_type": "code",
      "execution_count": 47,
      "metadata": {
        "id": "aQCRuZk2bVFf",
        "outputId": "59987ff8-9176-4b6e-e811-e36761f26bb6",
        "colab": {
          "base_uri": "https://localhost:8080/"
        }
      },
      "outputs": [
        {
          "output_type": "stream",
          "name": "stdout",
          "text": [
            "[0.  0.5 1.  1.5 2. ]\n",
            "<class 'numpy.ndarray'>\n"
          ]
        }
      ],
      "source": [
        "import numpy as np\n",
        "a = np.array([0, 0.5, 1.0, 1.5, 2.0])\n",
        "print(a)\n",
        "print(type(a))"
      ]
    },
    {
      "cell_type": "markdown",
      "metadata": {
        "id": "VwihLewjbVFf"
      },
      "source": [
        "A principal vantagem deste tipo de objeto é a grande quantidade de métodos disponíveis. Alguns exemplos,"
      ]
    },
    {
      "cell_type": "code",
      "execution_count": 48,
      "metadata": {
        "id": "5qoeTSTMbVFf",
        "outputId": "90ebca20-c10b-4f75-9d3e-8b17843987dd",
        "colab": {
          "base_uri": "https://localhost:8080/"
        }
      },
      "outputs": [
        {
          "output_type": "stream",
          "name": "stdout",
          "text": [
            "5.0\n",
            "0.7071067811865476\n",
            "[0.  0.5 1.5 3.  5. ]\n",
            "(5,)\n",
            "5\n"
          ]
        }
      ],
      "source": [
        "print(a.sum()) # Soma todos os elementos\n",
        "print(a.std()) # Erro padrão\n",
        "print(a.cumsum()) # Soma acumulada\n",
        "print(a.shape)\n",
        "print(a.size)"
      ]
    },
    {
      "cell_type": "markdown",
      "metadata": {
        "id": "jDngW54EbVFf"
      },
      "source": [
        "Uma lista completa de todos os métodos disponíveis para `ndarray` objetos pode ser obtida [aqui](https://docs.scipy.org/doc/numpy-1.13.0/reference/generated/numpy.ndarray.html). \n",
        "Do ponto de vista de aplicações em estatística a grande vantagem de objetos do tipo `ndarray` é que operações matriciais são reconhecidas. Aqui vamos apresentar apenas o básico, no decorrer da discussão teremos um encontro dedicado especificamente a álgebra linear usando `NumPy`."
      ]
    },
    {
      "cell_type": "code",
      "execution_count": 51,
      "metadata": {
        "id": "5XxKHIZvbVFf",
        "outputId": "1af8d21f-d66f-4fc4-c8a6-0ee40b984ffe",
        "colab": {
          "base_uri": "https://localhost:8080/"
        }
      },
      "outputs": [
        {
          "output_type": "stream",
          "name": "stdout",
          "text": [
            "[1, 2, 3, 4]\n",
            "[2 4]\n",
            "[4 6]\n",
            "[[1 2]\n",
            " [3 4]]\n",
            "(2, 2)\n",
            "[[4 5]]\n",
            "[[4]\n",
            " [6]]\n",
            "[[1 2]\n",
            " [3 4]]\n"
          ]
        }
      ],
      "source": [
        "a = [1, 2] # Python basic\n",
        "b = [3, 4]\n",
        "print(a + b) # Concatena\n",
        "\n",
        "a = np.array([1, 2]) # Usando NumPy\n",
        "print(a*2) # Multiplicação por escalar\n",
        "\n",
        "b = np.array([3, 4])\n",
        "print(a + b) # Soma de vetores\n",
        "\n",
        "# Matrix 2 x 2\n",
        "c = np.matrix([ [1,2], [3,4] ])\n",
        "print(c)\n",
        "print(c.shape)\n",
        "\n",
        "c2 = np.matrix([ [4,5], [6, 7]])\n",
        "print(c2[0,:]) # Primeira linha\n",
        "print(c2[:,0]) # Primeira coluna\n",
        "\n",
        "# Multiplicacao de matrizes\n",
        "np.dot(c,c2)\n",
        "\n",
        "d = np.array([[1, 2],\n",
        "            [3, 4]\n",
        "            ])\n",
        "print(d)"
      ]
    },
    {
      "cell_type": "markdown",
      "metadata": {
        "id": "ijpSaOLfbVFf"
      },
      "source": [
        "Uma outra especialidade da biblioteca `NumPy` são os `array` estruturados. Essa opção permite que em um mesmo `array` sejam armazenados diferentes tipos de dados por coluna. Porém, vamos deixar esta discussão para um encontro específico."
      ]
    }
  ],
  "metadata": {
    "kernelspec": {
      "display_name": "Python 3",
      "language": "python",
      "name": "python3"
    },
    "language_info": {
      "codemirror_mode": {
        "name": "ipython",
        "version": 3
      },
      "file_extension": ".py",
      "mimetype": "text/x-python",
      "name": "python",
      "nbconvert_exporter": "python",
      "pygments_lexer": "ipython3",
      "version": "3.6.9"
    },
    "colab": {
      "name": "Aula01-2_PythonRevisao.ipynb",
      "provenance": []
    }
  },
  "nbformat": 4,
  "nbformat_minor": 0
}